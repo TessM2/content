{
  "nbformat": 4,
  "nbformat_minor": 0,
  "metadata": {
    "colab": {
      "provenance": [],
      "authorship_tag": "ABX9TyN21DXppLX3mo8tLJjA+C6E",
      "include_colab_link": true
    },
    "kernelspec": {
      "name": "python3",
      "display_name": "Python 3"
    },
    "language_info": {
      "name": "python"
    }
  },
  "cells": [
    {
      "cell_type": "markdown",
      "metadata": {
        "id": "view-in-github",
        "colab_type": "text"
      },
      "source": [
        "<a href=\"https://colab.research.google.com/github/TessM2/content/blob/main/Python_Basics.ipynb\" target=\"_parent\"><img src=\"https://colab.research.google.com/assets/colab-badge.svg\" alt=\"Open In Colab\"/></a>"
      ]
    },
    {
      "cell_type": "markdown",
      "source": [
        "# Python intro\n",
        "\n",
        "This is a VERY basic intro to Python; just enough so that you have some literacy, to basically understand what's going on in some of the code we'll look at in the subsequent workshops. It will not be enough to make it so that you entirely understand that code. \n",
        "\n",
        "If you want a little bit more knowledge than this, you could try a short introduction to Python, e.g., this one, at datacamp: https://www.datacamp.com/courses/intro-to-python-for-data-science\n",
        "\n",
        "If you want still more than that, you can refer to resources like these:\n",
        "\n",
        "https://www.codecademy.com/learn/python\n",
        "\n",
        "https://www.amazon.com/Learn-Python-Hard-Way-Introduction/dp/0134692888\n"
      ],
      "metadata": {
        "id": "a9Lr0AT_YJik"
      }
    },
    {
      "cell_type": "markdown",
      "source": [
        "**To begin with...**\n",
        "\n",
        "What we're writing code in, right now, is called a \"notebook\"; each of the units of code in this notebook, like the one printed below, is called a \"cell\"; in the google colab notebook we're in right now, you can add a cell by clicking the +Code button in the upper left."
      ],
      "metadata": {
        "id": "3nJXQyrvZdUD"
      }
    },
    {
      "cell_type": "code",
      "source": [],
      "metadata": {
        "id": "GhnD1QmvZ2VP"
      },
      "execution_count": null,
      "outputs": []
    },
    {
      "cell_type": "markdown",
      "source": [
        "**Comments and Code**\n",
        "\n",
        "In a cell, there are two types of things you can write. First, you can write code. What this means is that when you press the \"play\" looking button to the left of the cell, this code will \"run.\" Second, you can write \"comments\"; comments are things that the reader of your code will be able to read, but that will not actually run as code. To write comments, you should put the \"#\" symbol before what you write. This will show up as a comment, and not code. So, below, I have, first, a comment announcing that I will write some code to do something, and then that code:\n"
      ],
      "metadata": {
        "id": "Hz793LuQZ4DH"
      }
    },
    {
      "cell_type": "code",
      "source": [
        "#Hello, this is a comment; the comment says that I am about to write a line of code that will print out my name (\"Tess\"). Here's that code:\n",
        "print(\"Tess\")"
      ],
      "metadata": {
        "colab": {
          "base_uri": "https://localhost:8080/"
        },
        "id": "j4LvopHLaUPM",
        "outputId": "a118a72e-b413-47dc-f4e9-554bd79c74ae"
      },
      "execution_count": null,
      "outputs": [
        {
          "output_type": "stream",
          "name": "stdout",
          "text": [
            "Tess\n"
          ]
        }
      ]
    },
    {
      "cell_type": "markdown",
      "source": [
        "What you just saw was the print command. You type print and then put the thing you want to print in parentheses (for more on the types of things there are to print, see below). Because I typed the print command correctly, with a lowercase p, the code worked. But if I had typed the command incorrectly in some way - as one often does, while coding - for example, with a capital \"P\" it would print out an error message. For example:"
      ],
      "metadata": {
        "id": "UkCKfDXma9OY"
      }
    },
    {
      "cell_type": "code",
      "source": [
        "#here is an incorrect version of the print command, to produce an error message\n",
        "Print(\"Tess\")"
      ],
      "metadata": {
        "colab": {
          "base_uri": "https://localhost:8080/",
          "height": 187
        },
        "id": "9iMex5Dja7Og",
        "outputId": "55678183-2eeb-4335-a6da-ea8098bd9e50"
      },
      "execution_count": null,
      "outputs": [
        {
          "output_type": "error",
          "ename": "NameError",
          "evalue": "ignored",
          "traceback": [
            "\u001b[0;31m---------------------------------------------------------------------------\u001b[0m",
            "\u001b[0;31mNameError\u001b[0m                                 Traceback (most recent call last)",
            "\u001b[0;32m<ipython-input-3-10d6eb5055ae>\u001b[0m in \u001b[0;36m<module>\u001b[0;34m\u001b[0m\n\u001b[1;32m      1\u001b[0m \u001b[0;31m#here is an incorrect version of the print command, to produce an error message\u001b[0m\u001b[0;34m\u001b[0m\u001b[0;34m\u001b[0m\u001b[0;34m\u001b[0m\u001b[0m\n\u001b[0;32m----> 2\u001b[0;31m \u001b[0mPrint\u001b[0m\u001b[0;34m(\u001b[0m\u001b[0;34m\"Tess\"\u001b[0m\u001b[0;34m)\u001b[0m\u001b[0;34m\u001b[0m\u001b[0;34m\u001b[0m\u001b[0m\n\u001b[0m",
            "\u001b[0;31mNameError\u001b[0m: name 'Print' is not defined"
          ]
        }
      ]
    },
    {
      "cell_type": "markdown",
      "source": [
        "**strings and floats**\n",
        "\n",
        "ok, enough frontmatter. Onto some basics."
      ],
      "metadata": {
        "id": "i5X5k_v0a7sr"
      }
    },
    {
      "cell_type": "code",
      "source": [
        "#In python, there are a few types of objects, or things, that you can write code with/about. One of the things is called a string. A string is always in quotes, whether double quotes or single\n",
        "\"Tess\"\n",
        "#That's a string, above; my name in quotes. I just printed that string; and will do it again:\n",
        "print(\"Tess\")\n",
        "#we could also write it with single quotes\n",
        "'Tess'\n",
        "print('Tess')\n"
      ],
      "metadata": {
        "colab": {
          "base_uri": "https://localhost:8080/"
        },
        "id": "u9NkjAJ3cRVc",
        "outputId": "80c8039a-04c6-4acb-f107-415a9537e435"
      },
      "execution_count": null,
      "outputs": [
        {
          "output_type": "stream",
          "name": "stdout",
          "text": [
            "Tess\n",
            "Tess\n"
          ]
        }
      ]
    },
    {
      "cell_type": "markdown",
      "source": [],
      "metadata": {
        "id": "OJsOyxi4Z4FG"
      }
    },
    {
      "cell_type": "code",
      "source": [
        "#There are also floats; basically, numbers (real numbers). Like 1 or 3 or 7.5\n",
        "7.5\n",
        "#Let's print this float\n",
        "print(7.5)"
      ],
      "metadata": {
        "colab": {
          "base_uri": "https://localhost:8080/"
        },
        "id": "iybvIPQBc8lY",
        "outputId": "bbaa13fd-9988-4c28-e399-ff0bc14c19ac"
      },
      "execution_count": null,
      "outputs": [
        {
          "output_type": "stream",
          "name": "stdout",
          "text": [
            "7.5\n"
          ]
        }
      ]
    },
    {
      "cell_type": "code",
      "source": [
        "#If you put a float in quotes, it becomes a string:\n",
        "\"7.5\"\n",
        "#If you want python to tell you what type of thing a thing is, then write \"type\" before it in parentheses. For example:\n",
        "type(\"7.5\")"
      ],
      "metadata": {
        "colab": {
          "base_uri": "https://localhost:8080/"
        },
        "id": "rVTR3VxRdil6",
        "outputId": "2900c37a-2272-461a-d14f-d4c83ff9bfa2"
      },
      "execution_count": null,
      "outputs": [
        {
          "output_type": "execute_result",
          "data": {
            "text/plain": [
              "str"
            ]
          },
          "metadata": {},
          "execution_count": 6
        }
      ]
    },
    {
      "cell_type": "code",
      "source": [
        "type(7.5)"
      ],
      "metadata": {
        "colab": {
          "base_uri": "https://localhost:8080/"
        },
        "id": "wHzyppGZd4eO",
        "outputId": "0277e9a4-03dc-4333-bc4d-c7c010aee089"
      },
      "execution_count": null,
      "outputs": [
        {
          "output_type": "execute_result",
          "data": {
            "text/plain": [
              "float"
            ]
          },
          "metadata": {},
          "execution_count": 7
        }
      ]
    },
    {
      "cell_type": "code",
      "source": [
        "#There are also variables in python. A variable is a name that you assign to some other entity, by writing the name and then setting it equal to that entity with an equals sign\n",
        "#So, let's say I want to create a variable named banana that equals the number 1, id do this:\n",
        "banana = 1\n",
        "#now, any time I write the word banana, I really mean 1. So if I print banana, it'll print 1\n",
        "print(banana)"
      ],
      "metadata": {
        "colab": {
          "base_uri": "https://localhost:8080/"
        },
        "id": "BjrPpFgbd94j",
        "outputId": "7edf3089-cbda-4c28-984f-008999700524"
      },
      "execution_count": null,
      "outputs": [
        {
          "output_type": "stream",
          "name": "stdout",
          "text": [
            "1\n"
          ]
        }
      ]
    },
    {
      "cell_type": "code",
      "source": [
        "#now I'll make a variable called apple that equals the string \"delicious\"\n",
        "apple = \"delicious\"\n",
        "#If I print apple, now, it'll print the string \"delicious\"\n",
        "print(apple)"
      ],
      "metadata": {
        "colab": {
          "base_uri": "https://localhost:8080/"
        },
        "id": "-s6Jq1zCeZ4v",
        "outputId": "fdac7aa8-9896-4ed4-fb6a-bb32fb5c9beb"
      },
      "execution_count": null,
      "outputs": [
        {
          "output_type": "stream",
          "name": "stdout",
          "text": [
            "delicious\n"
          ]
        }
      ]
    },
    {
      "cell_type": "code",
      "source": [
        "#In python I can do math-like operations to strings and floats. for example, let's say I want to add two strings together. I can just put a plus sign between them, and name that all with a variable:\n",
        "peach = \"Tess\" + \"McNulty\"\n",
        "print(peach)\n"
      ],
      "metadata": {
        "colab": {
          "base_uri": "https://localhost:8080/"
        },
        "id": "fiGhYD-me_3j",
        "outputId": "72d1604a-787f-41ce-a23b-a28180a873ec"
      },
      "execution_count": null,
      "outputs": [
        {
          "output_type": "stream",
          "name": "stdout",
          "text": [
            "TessMcNulty\n"
          ]
        }
      ]
    },
    {
      "cell_type": "code",
      "source": [
        "#note that if i want a space in there I have to add it manually\n",
        "peach = \"Tess\" + \" \" + \"McNulty\"\n",
        "print(peach)"
      ],
      "metadata": {
        "colab": {
          "base_uri": "https://localhost:8080/"
        },
        "id": "ZOwzafyDfUch",
        "outputId": "39d6da7c-39be-4bde-e952-d62d6e5168c4"
      },
      "execution_count": null,
      "outputs": [
        {
          "output_type": "stream",
          "name": "stdout",
          "text": [
            "Tess McNulty\n"
          ]
        }
      ]
    },
    {
      "cell_type": "code",
      "source": [
        "#We can do many more math-like operations with floats. for example:\n",
        "orange = 7 + 5\n",
        "print (orange)\n",
        "kumquat = 7 - 3\n",
        "print(kumquat)\n"
      ],
      "metadata": {
        "colab": {
          "base_uri": "https://localhost:8080/"
        },
        "id": "EjDTjnBgfu-N",
        "outputId": "2c8511fd-4de2-473d-c21c-c378591d89c9"
      },
      "execution_count": null,
      "outputs": [
        {
          "output_type": "stream",
          "name": "stdout",
          "text": [
            "12\n",
            "4\n"
          ]
        }
      ]
    },
    {
      "cell_type": "code",
      "source": [
        "\n",
        "#An easy way to add 1 to a float is like this:\n",
        "kumquat += 1\n",
        "#now kumquat will be 5 instead of 4\n",
        "print(kumquat)"
      ],
      "metadata": {
        "colab": {
          "base_uri": "https://localhost:8080/"
        },
        "id": "NST-QC1EgMWF",
        "outputId": "df8755b0-9504-4fb2-bd41-a17eac9b053b"
      },
      "execution_count": null,
      "outputs": [
        {
          "output_type": "stream",
          "name": "stdout",
          "text": [
            "5\n"
          ]
        }
      ]
    },
    {
      "cell_type": "markdown",
      "source": [
        "**lists**"
      ],
      "metadata": {
        "id": "sRFp57ajk1zy"
      }
    },
    {
      "cell_type": "code",
      "source": [
        "#Another useful type of item, for our purposes, is a list. A list goes in brackets, and contains multiple items, separated by commas\n",
        "#We can use variables to name lists. We can make an empty list, or a list with nothing in it, like this:\n",
        "kiwi = []\n",
        "\n",
        "#we can make a list of floats:\n",
        "\n",
        "pear = [1,2,3]\n",
        "\n",
        "#or we can make a list of strings:\n",
        "\n",
        "papaya = [\"hello\", \"list\", \"friend\"]\n",
        "\n",
        "#or we can include both, and so on, and other things\n"
      ],
      "metadata": {
        "id": "8G0bGa-8gTvW"
      },
      "execution_count": null,
      "outputs": []
    },
    {
      "cell_type": "code",
      "source": [
        "#One thing it's useful to do with lists is be able to pick out some single item in the list\n",
        "#we name each item in the list with the number it is; but we call the first item 0, not 1\n",
        "#so in the list called papaya, \"hello\" is the zero item, \"list\" is 1, and \"friend\" is 2\n",
        "#so if we want to pick out \"friend\" we go like this:\n",
        "\n",
        "papaya[2]"
      ],
      "metadata": {
        "colab": {
          "base_uri": "https://localhost:8080/",
          "height": 35
        },
        "id": "GzrlkmM4iNK0",
        "outputId": "335eec7f-3dae-4ab5-dcc4-450dc4d0ae2d"
      },
      "execution_count": null,
      "outputs": [
        {
          "output_type": "execute_result",
          "data": {
            "text/plain": [
              "'friend'"
            ],
            "application/vnd.google.colaboratory.intrinsic+json": {
              "type": "string"
            }
          },
          "metadata": {},
          "execution_count": 18
        }
      ]
    },
    {
      "cell_type": "code",
      "source": [
        "#we can also pick out the elements in a string in the same way. \n",
        "#so if i have the string \"tess,\" t is the zero item, e is the 1, s is the 2, and so on\n",
        "mystring = \"Tess\"\n",
        "#let's pick out the second s:\n",
        "mystring[3]"
      ],
      "metadata": {
        "colab": {
          "base_uri": "https://localhost:8080/",
          "height": 35
        },
        "id": "UemUmHZQio30",
        "outputId": "754b1920-9395-4429-ea7f-7c6a1663f10a"
      },
      "execution_count": null,
      "outputs": [
        {
          "output_type": "execute_result",
          "data": {
            "text/plain": [
              "'s'"
            ],
            "application/vnd.google.colaboratory.intrinsic+json": {
              "type": "string"
            }
          },
          "metadata": {},
          "execution_count": 19
        }
      ]
    },
    {
      "cell_type": "code",
      "source": [],
      "metadata": {
        "id": "v7rV5DRBk-3e"
      },
      "execution_count": null,
      "outputs": []
    },
    {
      "cell_type": "markdown",
      "source": [
        "**ranges and for loops**"
      ],
      "metadata": {
        "id": "ZpJ3gTt8k-Vs"
      }
    },
    {
      "cell_type": "code",
      "source": [
        "#ok, this is hardly everything there is to know about even tbe most python, or everything we'll need, but a few more things will be helpful\n",
        "#first, there are ranges of numbers. e.g.:\n",
        "range(0,5)\n",
        "#note that when you create a range of numbers, like this, it includes the first number (here, 0) but then goes up to but doesn't include the last\n",
        "#so range(0,5) means 0, 1, 2, 3, 4\n"
      ],
      "metadata": {
        "colab": {
          "base_uri": "https://localhost:8080/"
        },
        "id": "9Iq-C_E2juih",
        "outputId": "7999bc09-85e8-4699-84ca-44a48100b763"
      },
      "execution_count": null,
      "outputs": [
        {
          "output_type": "execute_result",
          "data": {
            "text/plain": [
              "range(0, 5)"
            ]
          },
          "metadata": {},
          "execution_count": 25
        }
      ]
    },
    {
      "cell_type": "code",
      "source": [
        "#I call also just call that same rthing range(5)\n",
        "range(5)\n"
      ],
      "metadata": {
        "colab": {
          "base_uri": "https://localhost:8080/"
        },
        "id": "mQueYTvQmzcI",
        "outputId": "fe81e58a-9764-4493-eb3c-2c14aaa0d60e"
      },
      "execution_count": null,
      "outputs": [
        {
          "output_type": "execute_result",
          "data": {
            "text/plain": [
              "range(0, 5)"
            ]
          },
          "metadata": {},
          "execution_count": 26
        }
      ]
    },
    {
      "cell_type": "code",
      "source": [
        "#there are also what are called loops or for loops, which involve ranges. loops are for when we want to do the same thing, a bunch of times.\n",
        "#so e.g. this will print \"hello\" 5 times (we'll go through this syntax together)\n",
        "for i in range(5):\n",
        "  print(\"hello\")"
      ],
      "metadata": {
        "colab": {
          "base_uri": "https://localhost:8080/"
        },
        "id": "8FKnJOzmmp__",
        "outputId": "d4ba8fce-61b2-443b-b2a0-c27199170d0c"
      },
      "execution_count": null,
      "outputs": [
        {
          "output_type": "stream",
          "name": "stdout",
          "text": [
            "hello\n",
            "hello\n",
            "hello\n",
            "hello\n",
            "hello\n"
          ]
        }
      ]
    },
    {
      "cell_type": "code",
      "source": [
        "#this will add 1 to the number we called banana 4 times\n",
        "\n",
        "print(banana)\n",
        "\n",
        "for i in range(4):\n",
        "  banana += 1\n",
        "\n",
        "print(banana)"
      ],
      "metadata": {
        "colab": {
          "base_uri": "https://localhost:8080/"
        },
        "id": "RWoA67iRnFn8",
        "outputId": "233acb32-2ab5-4cf6-c908-77bdfa3e7b77"
      },
      "execution_count": null,
      "outputs": [
        {
          "output_type": "stream",
          "name": "stdout",
          "text": [
            "1\n",
            "5\n"
          ]
        }
      ]
    },
    {
      "cell_type": "markdown",
      "source": [
        "**packages**"
      ],
      "metadata": {
        "id": "uNo4Yvpwna97"
      }
    },
    {
      "cell_type": "code",
      "source": [
        "#packages are special collections of things we can do with python, that aren't already in the language\n",
        "#in order to use packages, and the commands they contain, we do what's called \"import\" them\n",
        "#when we \"import\" a package \"as\" some name, it now goes by that name\n",
        "#we'll often use a package called pandas, and import it \"as\" the name pd\n",
        "\n",
        "import pandas as pd\n",
        "\n",
        "###practice looking at package documentation with pandas"
      ],
      "metadata": {
        "id": "v815Wdk0ni1G"
      },
      "execution_count": null,
      "outputs": []
    }
  ]
}