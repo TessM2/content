{
  "nbformat": 4,
  "nbformat_minor": 0,
  "metadata": {
    "colab": {
      "provenance": [],
      "authorship_tag": "ABX9TyOQHmtAZ4qMyKSlddHd4Ouh",
      "include_colab_link": true
    },
    "kernelspec": {
      "name": "python3",
      "display_name": "Python 3"
    },
    "language_info": {
      "name": "python"
    }
  },
  "cells": [
    {
      "cell_type": "markdown",
      "metadata": {
        "id": "view-in-github",
        "colab_type": "text"
      },
      "source": [
        "<a href=\"https://colab.research.google.com/github/TessM2/content/blob/main/Workshop_2_Text.ipynb\" target=\"_parent\"><img src=\"https://colab.research.google.com/assets/colab-badge.svg\" alt=\"Open In Colab\"/></a>"
      ]
    },
    {
      "cell_type": "markdown",
      "source": [
        "# **Text Analysis**"
      ],
      "metadata": {
        "id": "QHsUOUNeIvea"
      }
    },
    {
      "cell_type": "markdown",
      "source": [
        "Last week, as you may remember, we worked on web-scraping. As you may remember, we did two types of scraping, to extract data from the internet. First, we directly scraped data from a wikipedia page; after that, we scraped data from the Twitter API.\n",
        "\n",
        "But what happens when we want to analyze this data? Well, we might just look at closely - this would be easy, for example, if we just had one page of text to look at; but it would start to get hard if we had thousands. \n",
        "\n",
        "For this reason, we might want to use computational methods of text analysis. Today, we're going to learn how to use some of them with code."
      ],
      "metadata": {
        "id": "L9AGWqdyI48_"
      }
    },
    {
      "cell_type": "markdown",
      "source": [
        "First, let's grab some text to analyze. In honor of Emily, we're going to use the text of the taylor swift song, shake it off. I'm going to save that text below, in a string, called text. \n"
      ],
      "metadata": {
        "id": "U9uxm--VJZwt"
      }
    },
    {
      "cell_type": "code",
      "source": [
        "text = \"I stay out too late Got nothing in my brain That's what people say That's what people say I go on too many dates But I can't make them stay At least that's what people say That's what people say But I keep cruising Can't stop, won't stop moving It's like I got this music in my mind Saying it's gonna be alright I never miss a beat I'm lightning on my feet And that's what they don't see That's what they don't see Players gonna play, play, play, play, play And the haters gonna hate, hate, hate, hate, hate (haters gonna hate) Baby, I'm just gonna shake, shake, shake, shake, shake I shake it off, I shake it off Heartbreakers gonna break Fakers gonna fake I'm just gonna shake I shake it off, I shake it off I shake it off, I shake it off I, I, I shake it off, I shake it off I, I, I shake it off, shake it off I, I, I shake it off, I shake it off I, I, I shake it off, I shake it off I, I, I shake it off, I shake it off I, I, I, shake it off, I shake it off I, I, I, shake it off, I shake it off\""
      ],
      "metadata": {
        "id": "Nb1KSiH6Keol"
      },
      "execution_count": null,
      "outputs": []
    },
    {
      "cell_type": "markdown",
      "source": [
        "OK, so there are ways to use Python to analyze text. But it's worth noting, before we do that, that there are now actually certain software programs that do some of these things for you, without your having to code it yourself. So let's look quickly at the Voyant tools kit....\n",
        "\n",
        "OK, now that we're back, let's learn how to do things like this with Python. "
      ],
      "metadata": {
        "id": "DI5knc3HK3E6"
      }
    },
    {
      "cell_type": "code",
      "source": [
        "text.lower()"
      ],
      "metadata": {
        "colab": {
          "base_uri": "https://localhost:8080/",
          "height": 125
        },
        "id": "eOEExES9KyZC",
        "outputId": "c5d40e79-ce6c-42ea-8bc8-0be769f59c60"
      },
      "execution_count": null,
      "outputs": [
        {
          "output_type": "execute_result",
          "data": {
            "text/plain": [
              "\"i stay out too late got nothing in my brain that's what people say that's what people say i go on too many dates but i can't make them stay at least that's what people say that's what people say but i keep cruising can't stop, won't stop moving it's like i got this music in my mind saying it's gonna be alright i never miss a beat i'm lightning on my feet and that's what they don't see that's what they don't see players gonna play, play, play, play, play and the haters gonna hate, hate, hate, hate, hate (haters gonna hate) baby, i'm just gonna shake, shake, shake, shake, shake i shake it off, i shake it off heartbreakers gonna break fakers gonna fake i'm just gonna shake i shake it off, i shake it off i shake it off, i shake it off i, i, i shake it off, i shake it off i, i, i shake it off, shake it off i, i, i shake it off, i shake it off i, i, i shake it off, i shake it off i, i, i shake it off, i shake it off i, i, i, shake it off, i shake it off i, i, i, shake it off, i shake it off\""
            ],
            "application/vnd.google.colaboratory.intrinsic+json": {
              "type": "string"
            }
          },
          "metadata": {},
          "execution_count": 14
        }
      ]
    },
    {
      "cell_type": "code",
      "source": [
        "text.upper()"
      ],
      "metadata": {
        "colab": {
          "base_uri": "https://localhost:8080/",
          "height": 125
        },
        "id": "OuxlXUuhNe-G",
        "outputId": "1be0a72e-2450-415c-a4ab-a61115df7d47"
      },
      "execution_count": null,
      "outputs": [
        {
          "output_type": "execute_result",
          "data": {
            "text/plain": [
              "\"I STAY OUT TOO LATE GOT NOTHING IN MY BRAIN THAT'S WHAT PEOPLE SAY THAT'S WHAT PEOPLE SAY I GO ON TOO MANY DATES BUT I CAN'T MAKE THEM STAY AT LEAST THAT'S WHAT PEOPLE SAY THAT'S WHAT PEOPLE SAY BUT I KEEP CRUISING CAN'T STOP, WON'T STOP MOVING IT'S LIKE I GOT THIS MUSIC IN MY MIND SAYING IT'S GONNA BE ALRIGHT I NEVER MISS A BEAT I'M LIGHTNING ON MY FEET AND THAT'S WHAT THEY DON'T SEE THAT'S WHAT THEY DON'T SEE PLAYERS GONNA PLAY, PLAY, PLAY, PLAY, PLAY AND THE HATERS GONNA HATE, HATE, HATE, HATE, HATE (HATERS GONNA HATE) BABY, I'M JUST GONNA SHAKE, SHAKE, SHAKE, SHAKE, SHAKE I SHAKE IT OFF, I SHAKE IT OFF HEARTBREAKERS GONNA BREAK FAKERS GONNA FAKE I'M JUST GONNA SHAKE I SHAKE IT OFF, I SHAKE IT OFF I SHAKE IT OFF, I SHAKE IT OFF I, I, I SHAKE IT OFF, I SHAKE IT OFF I, I, I SHAKE IT OFF, SHAKE IT OFF I, I, I SHAKE IT OFF, I SHAKE IT OFF I, I, I SHAKE IT OFF, I SHAKE IT OFF I, I, I SHAKE IT OFF, I SHAKE IT OFF I, I, I, SHAKE IT OFF, I SHAKE IT OFF I, I, I, SHAKE IT OFF, I SHAKE IT OFF\""
            ],
            "application/vnd.google.colaboratory.intrinsic+json": {
              "type": "string"
            }
          },
          "metadata": {},
          "execution_count": 15
        }
      ]
    },
    {
      "cell_type": "code",
      "source": [
        "text.count(\"shake\")"
      ],
      "metadata": {
        "colab": {
          "base_uri": "https://localhost:8080/"
        },
        "id": "w_oNBozzN0ZJ",
        "outputId": "331799ca-af29-462f-ef7a-07808b74b739"
      },
      "execution_count": null,
      "outputs": [
        {
          "output_type": "execute_result",
          "data": {
            "text/plain": [
              "26"
            ]
          },
          "metadata": {},
          "execution_count": 17
        }
      ]
    },
    {
      "cell_type": "code",
      "source": [
        "# Like the for loop above, we can iterate through sequences of the\n",
        "# result of a method called split(). The split method is going to\n",
        "# be *very important* for text analysis. \n",
        "#\n",
        "# The default way in which split() works is to split on the delimiter\n",
        "# of a space--ideal for splitting a sentence. We'll worry more about \n",
        "# what is returned by split() later, but this gets us started with\n",
        "# working on words.\n",
        "\n",
        "for word in text.split():\n",
        "    print(word)\n"
      ],
      "metadata": {
        "colab": {
          "base_uri": "https://localhost:8080/"
        },
        "id": "mIlUY4PpOEDf",
        "outputId": "89705bb5-99b3-43ea-d9f4-9ab08cfc4510"
      },
      "execution_count": null,
      "outputs": [
        {
          "output_type": "stream",
          "name": "stdout",
          "text": [
            "I\n",
            "stay\n",
            "out\n",
            "too\n",
            "late\n",
            "Got\n",
            "nothing\n",
            "in\n",
            "my\n",
            "brain\n",
            "That's\n",
            "what\n",
            "people\n",
            "say\n",
            "That's\n",
            "what\n",
            "people\n",
            "say\n",
            "I\n",
            "go\n",
            "on\n",
            "too\n",
            "many\n",
            "dates\n",
            "But\n",
            "I\n",
            "can't\n",
            "make\n",
            "them\n",
            "stay\n",
            "At\n",
            "least\n",
            "that's\n",
            "what\n",
            "people\n",
            "say\n",
            "That's\n",
            "what\n",
            "people\n",
            "say\n",
            "But\n",
            "I\n",
            "keep\n",
            "cruising\n",
            "Can't\n",
            "stop,\n",
            "won't\n",
            "stop\n",
            "moving\n",
            "It's\n",
            "like\n",
            "I\n",
            "got\n",
            "this\n",
            "music\n",
            "in\n",
            "my\n",
            "mind\n",
            "Saying\n",
            "it's\n",
            "gonna\n",
            "be\n",
            "alright\n",
            "I\n",
            "never\n",
            "miss\n",
            "a\n",
            "beat\n",
            "I'm\n",
            "lightning\n",
            "on\n",
            "my\n",
            "feet\n",
            "And\n",
            "that's\n",
            "what\n",
            "they\n",
            "don't\n",
            "see\n",
            "That's\n",
            "what\n",
            "they\n",
            "don't\n",
            "see\n",
            "Players\n",
            "gonna\n",
            "play,\n",
            "play,\n",
            "play,\n",
            "play,\n",
            "play\n",
            "And\n",
            "the\n",
            "haters\n",
            "gonna\n",
            "hate,\n",
            "hate,\n",
            "hate,\n",
            "hate,\n",
            "hate\n",
            "(haters\n",
            "gonna\n",
            "hate)\n",
            "Baby,\n",
            "I'm\n",
            "just\n",
            "gonna\n",
            "shake,\n",
            "shake,\n",
            "shake,\n",
            "shake,\n",
            "shake\n",
            "I\n",
            "shake\n",
            "it\n",
            "off,\n",
            "I\n",
            "shake\n",
            "it\n",
            "off\n",
            "Heartbreakers\n",
            "gonna\n",
            "break\n",
            "Fakers\n",
            "gonna\n",
            "fake\n",
            "I'm\n",
            "just\n",
            "gonna\n",
            "shake\n",
            "I\n",
            "shake\n",
            "it\n",
            "off,\n",
            "I\n",
            "shake\n",
            "it\n",
            "off\n",
            "I\n",
            "shake\n",
            "it\n",
            "off,\n",
            "I\n",
            "shake\n",
            "it\n",
            "off\n",
            "I,\n",
            "I,\n",
            "I\n",
            "shake\n",
            "it\n",
            "off,\n",
            "I\n",
            "shake\n",
            "it\n",
            "off\n",
            "I,\n",
            "I,\n",
            "I\n",
            "shake\n",
            "it\n",
            "off,\n",
            "shake\n",
            "it\n",
            "off\n",
            "I,\n",
            "I,\n",
            "I\n",
            "shake\n",
            "it\n",
            "off,\n",
            "I\n",
            "shake\n",
            "it\n",
            "off\n",
            "I,\n",
            "I,\n",
            "I\n",
            "shake\n",
            "it\n",
            "off,\n",
            "I\n",
            "shake\n",
            "it\n",
            "off\n",
            "I,\n",
            "I,\n",
            "I\n",
            "shake\n",
            "it\n",
            "off,\n",
            "I\n",
            "shake\n",
            "it\n",
            "off\n",
            "I,\n",
            "I,\n",
            "I,\n",
            "shake\n",
            "it\n",
            "off,\n",
            "I\n",
            "shake\n",
            "it\n",
            "off\n",
            "I,\n",
            "I,\n",
            "I,\n",
            "shake\n",
            "it\n",
            "off,\n",
            "I\n",
            "shake\n",
            "it\n",
            "off\n"
          ]
        }
      ]
    },
    {
      "cell_type": "code",
      "source": [
        "# Let's generate some basic data from this very long string\n",
        "print(\"Total characters:\",len(text))\n",
        "print(\"Total word count:\",len(text.split()))\n",
        "print(\"Paragraph count:\",text.count(\"\\n\"))\n",
        "print(\"Rough sentence count:\",text.count(\".\"))"
      ],
      "metadata": {
        "colab": {
          "base_uri": "https://localhost:8080/"
        },
        "id": "aAwBhQVvOOwQ",
        "outputId": "10252cb5-16b5-4670-e431-3ddcbe5669c8"
      },
      "execution_count": null,
      "outputs": [
        {
          "output_type": "stream",
          "name": "stdout",
          "text": [
            "Total characters: 999\n",
            "Total word count: 215\n",
            "Paragraph count: 0\n",
            "Rough sentence count: 0\n"
          ]
        }
      ]
    },
    {
      "cell_type": "code",
      "source": [
        "# We now know how to process each word. Let's find long words.\n",
        "# What is a long word?\n",
        "long_word = 10\n",
        "for word in text.split():\n",
        "\n",
        "    # This is our first *conditional statement* \n",
        "    # We are evaluating an expression. What is left\n",
        "    # unsaid is that we are testing or evaluating the\n",
        "    # expression and if it is true, then we will execute\n",
        "    # additional code.\n",
        "    # \n",
        "    # We know that are still in the conditional statement \n",
        "    # (with the condition) being true, because of the indent. \n",
        "    # The second line, the indented line, will be executed if \n",
        "    # the statement is true. Otherwise, nothing happens. We \n",
        "    # use \"else\" to handle those cases in which the statement \n",
        "    # is false.\n",
        "    \n",
        "    if len(word) >= 10:\n",
        "        print(word)"
      ],
      "metadata": {
        "colab": {
          "base_uri": "https://localhost:8080/"
        },
        "id": "Z_WTr3-AOV3b",
        "outputId": "d9ec29d9-0672-465b-8a5f-02a9660571df"
      },
      "execution_count": null,
      "outputs": [
        {
          "output_type": "stream",
          "name": "stdout",
          "text": [
            "Heartbreakers\n"
          ]
        }
      ]
    },
    {
      "cell_type": "code",
      "source": [
        "# Let's begin by loading up some important libraries/packages\n",
        "import numpy as np\n",
        "import glob as glob\n",
        "import nltk\n",
        "\n",
        "#nltk in particular is very useful for text analysis, and the main package you'll often use\n",
        "\n",
        "from nltk.probability import FreqDist\n",
        "from nltk.tokenize import RegexpTokenizer\n",
        "tokenizer = RegexpTokenizer(r'\\w+')\n",
        "\n",
        "# allow for displaying of graphics\n",
        "%matplotlib inline"
      ],
      "metadata": {
        "id": "rdQjLN8CPcl-"
      },
      "execution_count": null,
      "outputs": []
    },
    {
      "cell_type": "code",
      "source": [
        "allwords=[]\n",
        "words = tokenizer.tokenize(text)\n",
        "for w in words:\n",
        "    allwords.append(w)\n",
        "\n",
        "freqdist = FreqDist(allwords)\n",
        "freqlist = freqdist.most_common()\n",
        "print(freqlist)"
      ],
      "metadata": {
        "colab": {
          "base_uri": "https://localhost:8080/"
        },
        "id": "AZSmvHmKPqxF",
        "outputId": "118ea095-abc5-4fb7-8d40-0bf84cac4e4a"
      },
      "execution_count": null,
      "outputs": [
        {
          "output_type": "stream",
          "name": "stdout",
          "text": [
            "[('I', 42), ('shake', 26), ('it', 21), ('off', 20), ('s', 8), ('gonna', 8), ('what', 6), ('hate', 6), ('t', 5), ('play', 5), ('That', 4), ('people', 4), ('say', 4), ('my', 3), ('m', 3), ('stay', 2), ('too', 2), ('in', 2), ('on', 2), ('But', 2), ('that', 2), ('stop', 2), ('And', 2), ('they', 2), ('don', 2), ('see', 2), ('haters', 2), ('just', 2), ('out', 1), ('late', 1), ('Got', 1), ('nothing', 1), ('brain', 1), ('go', 1), ('many', 1), ('dates', 1), ('can', 1), ('make', 1), ('them', 1), ('At', 1), ('least', 1), ('keep', 1), ('cruising', 1), ('Can', 1), ('won', 1), ('moving', 1), ('It', 1), ('like', 1), ('got', 1), ('this', 1), ('music', 1), ('mind', 1), ('Saying', 1), ('be', 1), ('alright', 1), ('never', 1), ('miss', 1), ('a', 1), ('beat', 1), ('lightning', 1), ('feet', 1), ('Players', 1), ('the', 1), ('Baby', 1), ('Heartbreakers', 1), ('break', 1), ('Fakers', 1), ('fake', 1)]\n"
          ]
        }
      ]
    },
    {
      "cell_type": "code",
      "source": [
        "import seaborn as sns\n",
        "sns.set_style('darkgrid')\n",
        "freqdist.plot(20);"
      ],
      "metadata": {
        "colab": {
          "base_uri": "https://localhost:8080/",
          "height": 303
        },
        "id": "KQOjrXTPPzHK",
        "outputId": "94219cf7-acc4-454d-dd5f-0a87a3da9524"
      },
      "execution_count": null,
      "outputs": [
        {
          "output_type": "display_data",
          "data": {
            "text/plain": [
              "<Figure size 432x288 with 1 Axes>"
            ],
            "image/png": "[encoded data removed]"
          },
          "metadata": {}
        }
      ]
    },
    {
      "cell_type": "code",
      "source": [
        "# Now let's run nltk part of speech tagger on the tokens:\n",
        "\n",
        "#normally, when we use the part of speech tagger on tokens, we do this. But notice colab is going to throw an error\n",
        "#so let's practice reading error messages and dealing with them, what should we do?\n",
        "pos = nltk.pos_tag(words)\n",
        "print(pos)"
      ],
      "metadata": {
        "colab": {
          "base_uri": "https://localhost:8080/",
          "height": 728
        },
        "id": "AfHzVVPxP9s_",
        "outputId": "7766a583-12e7-4ec1-b4ef-58e32b67d493"
      },
      "execution_count": null,
      "outputs": [
        {
          "output_type": "error",
          "ename": "LookupError",
          "evalue": "ignored",
          "traceback": [
            "\u001b[0;31m---------------------------------------------------------------------------\u001b[0m",
            "\u001b[0;31mLookupError\u001b[0m                               Traceback (most recent call last)",
            "\u001b[0;32m<ipython-input-25-a2ec97444835>\u001b[0m in \u001b[0;36m<module>\u001b[0;34m\u001b[0m\n\u001b[1;32m      1\u001b[0m \u001b[0;31m# Now we run the tagger on the tokens:\u001b[0m\u001b[0;34m\u001b[0m\u001b[0;34m\u001b[0m\u001b[0;34m\u001b[0m\u001b[0m\n\u001b[0;32m----> 2\u001b[0;31m \u001b[0mpos\u001b[0m \u001b[0;34m=\u001b[0m \u001b[0mnltk\u001b[0m\u001b[0;34m.\u001b[0m\u001b[0mpos_tag\u001b[0m\u001b[0;34m(\u001b[0m\u001b[0mwords\u001b[0m\u001b[0;34m)\u001b[0m\u001b[0;34m\u001b[0m\u001b[0;34m\u001b[0m\u001b[0m\n\u001b[0m\u001b[1;32m      3\u001b[0m \u001b[0mprint\u001b[0m\u001b[0;34m(\u001b[0m\u001b[0mpos\u001b[0m\u001b[0;34m)\u001b[0m\u001b[0;34m\u001b[0m\u001b[0;34m\u001b[0m\u001b[0m\n",
            "\u001b[0;32m/usr/local/lib/python3.8/dist-packages/nltk/tag/__init__.py\u001b[0m in \u001b[0;36mpos_tag\u001b[0;34m(tokens, tagset, lang)\u001b[0m\n\u001b[1;32m    163\u001b[0m     \u001b[0;34m:\u001b[0m\u001b[0mrtype\u001b[0m\u001b[0;34m:\u001b[0m \u001b[0mlist\u001b[0m\u001b[0;34m(\u001b[0m\u001b[0mtuple\u001b[0m\u001b[0;34m(\u001b[0m\u001b[0mstr\u001b[0m\u001b[0;34m,\u001b[0m \u001b[0mstr\u001b[0m\u001b[0;34m)\u001b[0m\u001b[0;34m)\u001b[0m\u001b[0;34m\u001b[0m\u001b[0;34m\u001b[0m\u001b[0m\n\u001b[1;32m    164\u001b[0m     \"\"\"\n\u001b[0;32m--> 165\u001b[0;31m     \u001b[0mtagger\u001b[0m \u001b[0;34m=\u001b[0m \u001b[0m_get_tagger\u001b[0m\u001b[0;34m(\u001b[0m\u001b[0mlang\u001b[0m\u001b[0;34m)\u001b[0m\u001b[0;34m\u001b[0m\u001b[0;34m\u001b[0m\u001b[0m\n\u001b[0m\u001b[1;32m    166\u001b[0m     \u001b[0;32mreturn\u001b[0m \u001b[0m_pos_tag\u001b[0m\u001b[0;34m(\u001b[0m\u001b[0mtokens\u001b[0m\u001b[0;34m,\u001b[0m \u001b[0mtagset\u001b[0m\u001b[0;34m,\u001b[0m \u001b[0mtagger\u001b[0m\u001b[0;34m,\u001b[0m \u001b[0mlang\u001b[0m\u001b[0;34m)\u001b[0m\u001b[0;34m\u001b[0m\u001b[0;34m\u001b[0m\u001b[0m\n\u001b[1;32m    167\u001b[0m \u001b[0;34m\u001b[0m\u001b[0m\n",
            "\u001b[0;32m/usr/local/lib/python3.8/dist-packages/nltk/tag/__init__.py\u001b[0m in \u001b[0;36m_get_tagger\u001b[0;34m(lang)\u001b[0m\n\u001b[1;32m    105\u001b[0m         \u001b[0mtagger\u001b[0m\u001b[0;34m.\u001b[0m\u001b[0mload\u001b[0m\u001b[0;34m(\u001b[0m\u001b[0map_russian_model_loc\u001b[0m\u001b[0;34m)\u001b[0m\u001b[0;34m\u001b[0m\u001b[0;34m\u001b[0m\u001b[0m\n\u001b[1;32m    106\u001b[0m     \u001b[0;32melse\u001b[0m\u001b[0;34m:\u001b[0m\u001b[0;34m\u001b[0m\u001b[0;34m\u001b[0m\u001b[0m\n\u001b[0;32m--> 107\u001b[0;31m         \u001b[0mtagger\u001b[0m \u001b[0;34m=\u001b[0m \u001b[0mPerceptronTagger\u001b[0m\u001b[0;34m(\u001b[0m\u001b[0;34m)\u001b[0m\u001b[0;34m\u001b[0m\u001b[0;34m\u001b[0m\u001b[0m\n\u001b[0m\u001b[1;32m    108\u001b[0m     \u001b[0;32mreturn\u001b[0m \u001b[0mtagger\u001b[0m\u001b[0;34m\u001b[0m\u001b[0;34m\u001b[0m\u001b[0m\n\u001b[1;32m    109\u001b[0m \u001b[0;34m\u001b[0m\u001b[0m\n",
            "\u001b[0;32m/usr/local/lib/python3.8/dist-packages/nltk/tag/perceptron.py\u001b[0m in \u001b[0;36m__init__\u001b[0;34m(self, load)\u001b[0m\n\u001b[1;32m    165\u001b[0m         \u001b[0;32mif\u001b[0m \u001b[0mload\u001b[0m\u001b[0;34m:\u001b[0m\u001b[0;34m\u001b[0m\u001b[0;34m\u001b[0m\u001b[0m\n\u001b[1;32m    166\u001b[0m             AP_MODEL_LOC = \"file:\" + str(\n\u001b[0;32m--> 167\u001b[0;31m                 \u001b[0mfind\u001b[0m\u001b[0;34m(\u001b[0m\u001b[0;34m\"taggers/averaged_perceptron_tagger/\"\u001b[0m \u001b[0;34m+\u001b[0m \u001b[0mPICKLE\u001b[0m\u001b[0;34m)\u001b[0m\u001b[0;34m\u001b[0m\u001b[0;34m\u001b[0m\u001b[0m\n\u001b[0m\u001b[1;32m    168\u001b[0m             )\n\u001b[1;32m    169\u001b[0m             \u001b[0mself\u001b[0m\u001b[0;34m.\u001b[0m\u001b[0mload\u001b[0m\u001b[0;34m(\u001b[0m\u001b[0mAP_MODEL_LOC\u001b[0m\u001b[0;34m)\u001b[0m\u001b[0;34m\u001b[0m\u001b[0;34m\u001b[0m\u001b[0m\n",
            "\u001b[0;32m/usr/local/lib/python3.8/dist-packages/nltk/data.py\u001b[0m in \u001b[0;36mfind\u001b[0;34m(resource_name, paths)\u001b[0m\n\u001b[1;32m    581\u001b[0m     \u001b[0msep\u001b[0m \u001b[0;34m=\u001b[0m \u001b[0;34m\"*\"\u001b[0m \u001b[0;34m*\u001b[0m \u001b[0;36m70\u001b[0m\u001b[0;34m\u001b[0m\u001b[0;34m\u001b[0m\u001b[0m\n\u001b[1;32m    582\u001b[0m     \u001b[0mresource_not_found\u001b[0m \u001b[0;34m=\u001b[0m \u001b[0;34mf\"\\n{sep}\\n{msg}\\n{sep}\\n\"\u001b[0m\u001b[0;34m\u001b[0m\u001b[0;34m\u001b[0m\u001b[0m\n\u001b[0;32m--> 583\u001b[0;31m     \u001b[0;32mraise\u001b[0m \u001b[0mLookupError\u001b[0m\u001b[0;34m(\u001b[0m\u001b[0mresource_not_found\u001b[0m\u001b[0;34m)\u001b[0m\u001b[0;34m\u001b[0m\u001b[0;34m\u001b[0m\u001b[0m\n\u001b[0m\u001b[1;32m    584\u001b[0m \u001b[0;34m\u001b[0m\u001b[0m\n\u001b[1;32m    585\u001b[0m \u001b[0;34m\u001b[0m\u001b[0m\n",
            "\u001b[0;31mLookupError\u001b[0m: \n**********************************************************************\n  Resource \u001b[93maveraged_perceptron_tagger\u001b[0m not found.\n  Please use the NLTK Downloader to obtain the resource:\n\n  \u001b[31m>>> import nltk\n  >>> nltk.download('averaged_perceptron_tagger')\n  \u001b[0m\n  For more information see: https://www.nltk.org/data.html\n\n  Attempted to load \u001b[93mtaggers/averaged_perceptron_tagger/averaged_perceptron_tagger.pickle\u001b[0m\n\n  Searched in:\n    - '/root/nltk_data'\n    - '/usr/nltk_data'\n    - '/usr/share/nltk_data'\n    - '/usr/lib/nltk_data'\n    - '/usr/share/nltk_data'\n    - '/usr/local/share/nltk_data'\n    - '/usr/lib/nltk_data'\n    - '/usr/local/lib/nltk_data'\n**********************************************************************\n"
          ]
        }
      ]
    },
    {
      "cell_type": "code",
      "source": [
        "#INSERT YOUR CODE HERE TO FIX THE PROBLEM\n",
        "\n"
      ],
      "metadata": {
        "id": "VsZMUkZ7QeWO"
      },
      "execution_count": null,
      "outputs": []
    },
    {
      "cell_type": "code",
      "source": [
        "#ok, now let's continue\n",
        "\n",
        "# Now we run the tagger on the tokens:\n",
        "pos = nltk.pos_tag(words)\n",
        "print(pos)"
      ],
      "metadata": {
        "id": "Wnc1UwZ1Qi6a"
      },
      "execution_count": null,
      "outputs": []
    },
    {
      "cell_type": "code",
      "source": [
        "nouns = []\n",
        "for p in pos:\n",
        "    if p[1] == 'NN':\n",
        "        nouns.append(p[0])\n",
        "nounfreq = FreqDist(nouns)\n",
        "nounfreqlist = nounfreq.most_common()\n",
        "\n",
        "print(nounfreqlist)"
      ],
      "metadata": {
        "colab": {
          "base_uri": "https://localhost:8080/"
        },
        "id": "SUC0thw9Qqxg",
        "outputId": "142ca0ed-25b3-4d15-b674-8d2a17b966e4"
      },
      "execution_count": null,
      "outputs": [
        {
          "output_type": "stream",
          "name": "stdout",
          "text": [
            "[('hate', 4), ('play', 3), ('shake', 2), ('nothing', 1), ('brain', 1), ('won', 1), ('t', 1), ('stop', 1), ('music', 1), ('mind', 1), ('gonna', 1), ('beat', 1), ('see', 1), ('break', 1)]\n"
          ]
        }
      ]
    },
    {
      "cell_type": "code",
      "source": [
        "#alright, now you have a coding assignment\n",
        "#I want you to go back to last week's notebook, and find the code to scrape a wikipedia page or twitter\n",
        "#then I want you to scrape something from either wiki or twitter\n",
        "#then I want you to do something to the text from what we did above, one of these commands\n",
        "#you can count a word, you can tag parts of speech, you can lowercaseit all, anything"
      ],
      "metadata": {
        "id": "82j3WIO9QvUT"
      },
      "execution_count": null,
      "outputs": []
    },
    {
      "cell_type": "code",
      "source": [
        "#go head....."
      ],
      "metadata": {
        "id": "bbDHYIMTQ_5Y"
      },
      "execution_count": null,
      "outputs": []
    },
    {
      "cell_type": "markdown",
      "source": [
        "OK, but as you know from reading my article, there are more complex things to do with texts, using machine learning; like topic modeling and classification. Next week, we're going to do both of those things, in addition to looking at a little image analysis. But, if we have time now, we can start topic modeling today....\n",
        "\n",
        "First, let's discuss what topic modeling is (return to real life); ok, we're back..."
      ],
      "metadata": {
        "id": "FiCf7flpRCyl"
      }
    },
    {
      "cell_type": "markdown",
      "source": [
        "If you want to see a whole very basic workflow of topic modeling, the most basic steps, here is a tutorial: https://www.analyticsvidhya.com/blog/2016/08/beginners-guide-to-topic-modeling-in-python/\n",
        "\n",
        "this explains every block of this code, in case you want to topic model yourself. You'd have to substitue some of this for your data. "
      ],
      "metadata": {
        "id": "Rv1u6_OeUe7N"
      }
    },
    {
      "cell_type": "code",
      "source": [
        "doc1 = \"Sugar is bad to consume. My sister likes to have sugar, but not my father.\"\n",
        "doc2 = \"My father spends a lot of time driving my sister around to dance practice.\"\n",
        "doc3 = \"Doctors suggest that driving may cause increased stress and blood pressure.\"\n",
        "doc4 = \"Sometimes I feel pressure to perform well at school, but my father never seems to drive my sister to do better.\"\n",
        "doc5 = \"Health experts say that Sugar is not good for your lifestyle.\"\n",
        "\n",
        "# compile documents\n",
        "doc_complete = [doc1, doc2, doc3, doc4, doc5]"
      ],
      "metadata": {
        "id": "mNeiArSYVQUp"
      },
      "execution_count": null,
      "outputs": []
    },
    {
      "cell_type": "code",
      "source": [
        "from nltk.corpus import stopwords\n",
        "from nltk.stem.wordnet import WordNetLemmatizer\n",
        "import string\n",
        "\n",
        "#I had to add this to their code, for colab not in original:\n",
        "nltk.download('stopwords')\n",
        "nltk.download('wordnet')\n",
        "nltk.download('omw-1.4')\n",
        "\n",
        "stop = set(stopwords.words('english'))\n",
        "exclude = set(string.punctuation)\n",
        "lemma = WordNetLemmatizer()\n",
        "def clean(doc):\n",
        "    stop_free = \" \".join([i for i in doc.lower().split() if i not in stop])\n",
        "    punc_free = ''.join(ch for ch in stop_free if ch not in exclude)\n",
        "    normalized = \" \".join(lemma.lemmatize(word) for word in punc_free.split())\n",
        "    return normalized\n",
        "\n",
        "doc_clean = [clean(doc).split() for doc in doc_complete] "
      ],
      "metadata": {
        "colab": {
          "base_uri": "https://localhost:8080/"
        },
        "id": "rE0F3mnmVWU6",
        "outputId": "5eb0809d-f3cb-426f-d0f8-0e2a3c911dfc"
      },
      "execution_count": null,
      "outputs": [
        {
          "output_type": "stream",
          "name": "stderr",
          "text": [
            "[nltk_data] Downloading package stopwords to /root/nltk_data...\n",
            "[nltk_data]   Package stopwords is already up-to-date!\n",
            "[nltk_data] Downloading package wordnet to /root/nltk_data...\n",
            "[nltk_data]   Package wordnet is already up-to-date!\n",
            "[nltk_data] Downloading package omw-1.4 to /root/nltk_data...\n"
          ]
        }
      ]
    },
    {
      "cell_type": "code",
      "source": [
        "# Importing Gensim\n",
        "import gensim\n",
        "from gensim import corpora\n",
        "\n",
        "# Creating the term dictionary of our courpus, where every unique term is assigned an index. \n",
        "\n",
        "dictionary = corpora.Dictionary(doc_clean)\n",
        "\n",
        "# Converting list of documents (corpus) into Document Term Matrix using dictionary prepared above.\n",
        "doc_term_matrix = [dictionary.doc2bow(doc) for doc in doc_clean]"
      ],
      "metadata": {
        "id": "Of-vXOiiVzMq"
      },
      "execution_count": null,
      "outputs": []
    },
    {
      "cell_type": "code",
      "source": [
        "# Creating the object for LDA model using gensim library\n",
        "Lda = gensim.models.ldamodel.LdaModel\n",
        "\n",
        "# Running and Trainign LDA model on the document term matrix.\n",
        "ldamodel = Lda(doc_term_matrix, num_topics=3, id2word = dictionary, passes=50)"
      ],
      "metadata": {
        "id": "m6707dP7WMcN"
      },
      "execution_count": null,
      "outputs": []
    },
    {
      "cell_type": "code",
      "source": [
        "print(ldamodel.print_topics(num_topics=3, num_words=3))"
      ],
      "metadata": {
        "colab": {
          "base_uri": "https://localhost:8080/"
        },
        "id": "zt1QbluNWSBV",
        "outputId": "9ad16c90-7f63-4a48-9f41-5ef7ea95f24d"
      },
      "execution_count": null,
      "outputs": [
        {
          "output_type": "stream",
          "name": "stdout",
          "text": [
            "[(0, '0.075*\"say\" + 0.075*\"lifestyle\" + 0.075*\"health\"'), (1, '0.056*\"pressure\" + 0.056*\"driving\" + 0.056*\"father\"'), (2, '0.125*\"sugar\" + 0.071*\"father\" + 0.071*\"sister\"')]\n"
          ]
        }
      ]
    }
  ]
}