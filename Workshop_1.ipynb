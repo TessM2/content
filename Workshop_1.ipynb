{
  "nbformat": 4,
  "nbformat_minor": 0,
  "metadata": {
    "colab": {
      "provenance": [],
      "authorship_tag": "ABX9TyMmNFD4mkjjaiOpG6BZQ6OJ",
      "include_colab_link": true
    },
    "kernelspec": {
      "name": "python3",
      "display_name": "Python 3"
    },
    "language_info": {
      "name": "python"
    }
  },
  "cells": [
    {
      "cell_type": "markdown",
      "metadata": {
        "id": "view-in-github",
        "colab_type": "text"
      },
      "source": [
        "<a href=\"https://colab.research.google.com/github/TessM2/content/blob/main/Workshop_1.ipynb\" target=\"_parent\"><img src=\"https://colab.research.google.com/assets/colab-badge.svg\" alt=\"Open In Colab\"/></a>"
      ]
    },
    {
      "cell_type": "markdown",
      "source": [
        "Today we're going to look at some of the ways we extract and work with data from the internet, as way of \"analyzing content\"\n",
        "\n",
        "We're going to look at two methods of doing this, which are interrelated: a) scraping b) using APIS\n",
        "\n",
        "In general, scraping is a method of extracting data from a website, programatically. For example, let's say I want to download the text of a whole bunch of wikipedia articles at once (way more than I could reasonably expect to manually copy and paste); I \"scrape\" these articles from the internet.\n",
        "\n",
        "An API, or appplication programmming interface, is a system through which a social media platform (or other type of platform/site/etc.) gives you access to their data so that you can \"scrape\" or extract it more easily. Last week we signed up for the twitter api.\n",
        "\n",
        "Today we're going to talk a bit about both scraping and APIs, as we look at the sample code below. But first, we need to remind ourselves, quickly, of one of the better ways of storing and manipulating data: the dataframe, which, in python, we work with using a package called pandas"
      ],
      "metadata": {
        "id": "06kXhueFt7Bw"
      }
    },
    {
      "cell_type": "markdown",
      "source": [
        "**Pandas**"
      ],
      "metadata": {
        "id": "PNcqorclwfyo"
      }
    },
    {
      "cell_type": "code",
      "source": [
        "#packages - for the new coders who came to the workshop last week, yu might remember we discussed how, to perform special functions/commands in python, we download \"packages\" that have those functions\n",
        "#to download a package we type import, the name of the package, and then as \"the name we want to call it\"; here we download pandas and call it pd:\n",
        "import pandas as pd"
      ],
      "metadata": {
        "id": "xd26YMpguCHl"
      },
      "execution_count": null,
      "outputs": []
    },
    {
      "cell_type": "code",
      "source": [
        "#pandas is a package we use to manipulate what are called dataframes\n",
        "#data frames are a nice place to store and work with data; basically, they look like grids or spreadsheets\n",
        "#because they work like grids or spreadsheets it's easy for me to convert them into excel or csv files\n",
        "#so, if i want to scrape a bunch of articles from wikipedia, let's say, I can store them in a grid called a dataframe\n",
        "#maybe i'll use one column for the article's title, one for its text, one for its publication date, and so on\n",
        "#then i can download that dataframe into an excel file on my computer; and i can upload it back into my code as a dataframe to work with it in pandas\n",
        "#in pandas we can create a dataframe like this:\n",
        "\n",
        "data = pd.DataFrame()\n",
        "\n",
        "#this is an empty dataframe with nothing in it; it is like a spreadsheet with zero rows and zero columbs\n"
      ],
      "metadata": {
        "id": "AXxPHG6Ew6ME"
      },
      "execution_count": null,
      "outputs": []
    },
    {
      "cell_type": "code",
      "source": [
        "Tess = pd.DataFrame()"
      ],
      "metadata": {
        "id": "HgE5j9jcnsWE"
      },
      "execution_count": null,
      "outputs": []
    },
    {
      "cell_type": "code",
      "source": [
        "#let's say we want to create a dataframe with some things in it, like a few columns and rows with numbers in them\n",
        "#here's how we could create a dataframe from a dictionary of items, each representing the numbers we want in one column\n",
        "#(if you were at the coding workshop last week, I'm sorry, we did not learn what \"dictionaries\" are; but they're a bit like lists, and I'll explain!)\n",
        "\n",
        "\n",
        "d = {'col1': [1, 2], 'col2': [3, 4]}\n",
        "data1 = pd.DataFrame(data=d)\n",
        "print(data1)"
      ],
      "metadata": {
        "colab": {
          "base_uri": "https://localhost:8080/"
        },
        "id": "gyEJBzcKysQ0",
        "outputId": "4c30c7a4-ad30-4212-ff62-2f7b18fea784"
      },
      "execution_count": null,
      "outputs": [
        {
          "output_type": "stream",
          "name": "stdout",
          "text": [
            "   col1  col2\n",
            "0     1     3\n",
            "1     2     4\n"
          ]
        }
      ]
    },
    {
      "cell_type": "code",
      "source": [
        "\n",
        "d = {'banana': [7, 25], 'terrarium': [32, 2]}\n",
        "Tess = pd.DataFrame(data=d)\n",
        "print(Tess)"
      ],
      "metadata": {
        "colab": {
          "base_uri": "https://localhost:8080/"
        },
        "id": "EXMOtMzaogXT",
        "outputId": "57903393-e98a-487d-e148-fc9b734bc414"
      },
      "execution_count": null,
      "outputs": [
        {
          "output_type": "stream",
          "name": "stdout",
          "text": [
            "   banana  terrarium\n",
            "0       7         32\n",
            "1      25          2\n"
          ]
        }
      ]
    },
    {
      "cell_type": "code",
      "source": [],
      "metadata": {
        "id": "ttYPyliRoURS"
      },
      "execution_count": null,
      "outputs": []
    },
    {
      "cell_type": "code",
      "source": [
        "#there's a lot we can do with dataframes, but let's just highlight a few functions for the moment, before we start scraping things, and putting them in dataframes\n",
        "#one thing we might want to pick out an item in a dataframe\n",
        "#let's say, e.g., we want to pick out, from the above dataframe, the number four that's in row number 1 and column 2. we do this:\n",
        "\n",
        "data1[\"col2\"][1]\n",
        "\n",
        "#what we just did there was type the name of the dataframe, then the name of the column we want in quotes and brackets, and then the index of the row \n",
        "#for the new coders from last week - note the indexes, or numbers, of the rows start at 0 and not 1, just like the letters in a string or the numbers in a list"
      ],
      "metadata": {
        "colab": {
          "base_uri": "https://localhost:8080/"
        },
        "id": "XOct1Alxzipp",
        "outputId": "9126538f-3cbb-445f-ee1e-c29e1f596e24"
      },
      "execution_count": null,
      "outputs": [
        {
          "output_type": "execute_result",
          "data": {
            "text/plain": [
              "4"
            ]
          },
          "metadata": {},
          "execution_count": 6
        }
      ]
    },
    {
      "cell_type": "code",
      "source": [
        "#another thing we often want to do with dataframes is loop through their rows, in a particular column, so we can do the same thing to everything in a row\n",
        "#like, for example, if we had a dataframe with wikipedia article texts in one column, we might want to loop through each text, and search it for some key word\n",
        "#here, let's make a for loop to loop through each item in col2 and print it:\n",
        "\n",
        "for i in range(2):\n",
        "  print(data1[\"col2\"][i])\n",
        "\n",
        "  #quiz for the new coders, from last week: can you tell me why I put \"2\" in the range for the for loop?"
      ],
      "metadata": {
        "colab": {
          "base_uri": "https://localhost:8080/"
        },
        "id": "ztLvKqZ10SZ-",
        "outputId": "bcdbdfe4-ab8b-4503-d7ac-9ffff745996a"
      },
      "execution_count": null,
      "outputs": [
        {
          "output_type": "stream",
          "name": "stdout",
          "text": [
            "3\n",
            "4\n"
          ]
        }
      ]
    },
    {
      "cell_type": "code",
      "source": [
        "#another thing it's really valuable to be able to do with pandas is file from your computer, like a csv and excel file, and load it into a dataframe\n",
        "#actually, we do that sort of weirdly in colab, and especially working as a group\n",
        "#so I'm going to show you the normal way we do this, but it's not how it works in colab\n",
        "#the normal way we do this, with, e.g., in excel file is this:\n",
        "\n",
        "data3 = pd.read_excel(\"name of excel file from computer here and full file path if need be.xlsx\")\n",
        "\n",
        "#or use the same command with csv instead of excel and a .csv file to read one of those\n"
      ],
      "metadata": {
        "id": "Wmmh-p8k1A6X",
        "colab": {
          "base_uri": "https://localhost:8080/",
          "height": 389
        },
        "outputId": "e478ea4f-5d31-4501-c712-196cea2d4ee2"
      },
      "execution_count": null,
      "outputs": [
        {
          "output_type": "error",
          "ename": "FileNotFoundError",
          "evalue": "ignored",
          "traceback": [
            "\u001b[0;31m---------------------------------------------------------------------------\u001b[0m",
            "\u001b[0;31mFileNotFoundError\u001b[0m                         Traceback (most recent call last)",
            "\u001b[0;32m<ipython-input-18-e9f9ef1f602a>\u001b[0m in \u001b[0;36m<module>\u001b[0;34m\u001b[0m\n\u001b[1;32m      4\u001b[0m \u001b[0;31m#the normal way we do this, with, e.g., in excel file is this:\u001b[0m\u001b[0;34m\u001b[0m\u001b[0;34m\u001b[0m\u001b[0;34m\u001b[0m\u001b[0m\n\u001b[1;32m      5\u001b[0m \u001b[0;34m\u001b[0m\u001b[0m\n\u001b[0;32m----> 6\u001b[0;31m \u001b[0mdata3\u001b[0m \u001b[0;34m=\u001b[0m \u001b[0mpd\u001b[0m\u001b[0;34m.\u001b[0m\u001b[0mread_excel\u001b[0m\u001b[0;34m(\u001b[0m\u001b[0;34m\"name of excel file from computer here and full file path if need be.xlsx\"\u001b[0m\u001b[0;34m)\u001b[0m\u001b[0;34m\u001b[0m\u001b[0;34m\u001b[0m\u001b[0m\n\u001b[0m\u001b[1;32m      7\u001b[0m \u001b[0;34m\u001b[0m\u001b[0m\n\u001b[1;32m      8\u001b[0m \u001b[0;31m#or use the same command with csv instead of excel and a .csv file to read one of those\u001b[0m\u001b[0;34m\u001b[0m\u001b[0;34m\u001b[0m\u001b[0;34m\u001b[0m\u001b[0m\n",
            "\u001b[0;32m/usr/local/lib/python3.8/dist-packages/pandas/util/_decorators.py\u001b[0m in \u001b[0;36mwrapper\u001b[0;34m(*args, **kwargs)\u001b[0m\n\u001b[1;32m    309\u001b[0m                     \u001b[0mstacklevel\u001b[0m\u001b[0;34m=\u001b[0m\u001b[0mstacklevel\u001b[0m\u001b[0;34m,\u001b[0m\u001b[0;34m\u001b[0m\u001b[0;34m\u001b[0m\u001b[0m\n\u001b[1;32m    310\u001b[0m                 )\n\u001b[0;32m--> 311\u001b[0;31m             \u001b[0;32mreturn\u001b[0m \u001b[0mfunc\u001b[0m\u001b[0;34m(\u001b[0m\u001b[0;34m*\u001b[0m\u001b[0margs\u001b[0m\u001b[0;34m,\u001b[0m \u001b[0;34m**\u001b[0m\u001b[0mkwargs\u001b[0m\u001b[0;34m)\u001b[0m\u001b[0;34m\u001b[0m\u001b[0;34m\u001b[0m\u001b[0m\n\u001b[0m\u001b[1;32m    312\u001b[0m \u001b[0;34m\u001b[0m\u001b[0m\n\u001b[1;32m    313\u001b[0m         \u001b[0;32mreturn\u001b[0m \u001b[0mwrapper\u001b[0m\u001b[0;34m\u001b[0m\u001b[0;34m\u001b[0m\u001b[0m\n",
            "\u001b[0;32m/usr/local/lib/python3.8/dist-packages/pandas/io/excel/_base.py\u001b[0m in \u001b[0;36mread_excel\u001b[0;34m(io, sheet_name, header, names, index_col, usecols, squeeze, dtype, engine, converters, true_values, false_values, skiprows, nrows, na_values, keep_default_na, na_filter, verbose, parse_dates, date_parser, thousands, comment, skipfooter, convert_float, mangle_dupe_cols, storage_options)\u001b[0m\n\u001b[1;32m    362\u001b[0m     \u001b[0;32mif\u001b[0m \u001b[0;32mnot\u001b[0m \u001b[0misinstance\u001b[0m\u001b[0;34m(\u001b[0m\u001b[0mio\u001b[0m\u001b[0;34m,\u001b[0m \u001b[0mExcelFile\u001b[0m\u001b[0;34m)\u001b[0m\u001b[0;34m:\u001b[0m\u001b[0;34m\u001b[0m\u001b[0;34m\u001b[0m\u001b[0m\n\u001b[1;32m    363\u001b[0m         \u001b[0mshould_close\u001b[0m \u001b[0;34m=\u001b[0m \u001b[0;32mTrue\u001b[0m\u001b[0;34m\u001b[0m\u001b[0;34m\u001b[0m\u001b[0m\n\u001b[0;32m--> 364\u001b[0;31m         \u001b[0mio\u001b[0m \u001b[0;34m=\u001b[0m \u001b[0mExcelFile\u001b[0m\u001b[0;34m(\u001b[0m\u001b[0mio\u001b[0m\u001b[0;34m,\u001b[0m \u001b[0mstorage_options\u001b[0m\u001b[0;34m=\u001b[0m\u001b[0mstorage_options\u001b[0m\u001b[0;34m,\u001b[0m \u001b[0mengine\u001b[0m\u001b[0;34m=\u001b[0m\u001b[0mengine\u001b[0m\u001b[0;34m)\u001b[0m\u001b[0;34m\u001b[0m\u001b[0;34m\u001b[0m\u001b[0m\n\u001b[0m\u001b[1;32m    365\u001b[0m     \u001b[0;32melif\u001b[0m \u001b[0mengine\u001b[0m \u001b[0;32mand\u001b[0m \u001b[0mengine\u001b[0m \u001b[0;34m!=\u001b[0m \u001b[0mio\u001b[0m\u001b[0;34m.\u001b[0m\u001b[0mengine\u001b[0m\u001b[0;34m:\u001b[0m\u001b[0;34m\u001b[0m\u001b[0;34m\u001b[0m\u001b[0m\n\u001b[1;32m    366\u001b[0m         raise ValueError(\n",
            "\u001b[0;32m/usr/local/lib/python3.8/dist-packages/pandas/io/excel/_base.py\u001b[0m in \u001b[0;36m__init__\u001b[0;34m(self, path_or_buffer, engine, storage_options)\u001b[0m\n\u001b[1;32m   1189\u001b[0m                 \u001b[0mext\u001b[0m \u001b[0;34m=\u001b[0m \u001b[0;34m\"xls\"\u001b[0m\u001b[0;34m\u001b[0m\u001b[0;34m\u001b[0m\u001b[0m\n\u001b[1;32m   1190\u001b[0m             \u001b[0;32melse\u001b[0m\u001b[0;34m:\u001b[0m\u001b[0;34m\u001b[0m\u001b[0;34m\u001b[0m\u001b[0m\n\u001b[0;32m-> 1191\u001b[0;31m                 ext = inspect_excel_format(\n\u001b[0m\u001b[1;32m   1192\u001b[0m                     \u001b[0mcontent_or_path\u001b[0m\u001b[0;34m=\u001b[0m\u001b[0mpath_or_buffer\u001b[0m\u001b[0;34m,\u001b[0m \u001b[0mstorage_options\u001b[0m\u001b[0;34m=\u001b[0m\u001b[0mstorage_options\u001b[0m\u001b[0;34m\u001b[0m\u001b[0;34m\u001b[0m\u001b[0m\n\u001b[1;32m   1193\u001b[0m                 )\n",
            "\u001b[0;32m/usr/local/lib/python3.8/dist-packages/pandas/io/excel/_base.py\u001b[0m in \u001b[0;36minspect_excel_format\u001b[0;34m(content_or_path, storage_options)\u001b[0m\n\u001b[1;32m   1068\u001b[0m         \u001b[0mcontent_or_path\u001b[0m \u001b[0;34m=\u001b[0m \u001b[0mBytesIO\u001b[0m\u001b[0;34m(\u001b[0m\u001b[0mcontent_or_path\u001b[0m\u001b[0;34m)\u001b[0m\u001b[0;34m\u001b[0m\u001b[0;34m\u001b[0m\u001b[0m\n\u001b[1;32m   1069\u001b[0m \u001b[0;34m\u001b[0m\u001b[0m\n\u001b[0;32m-> 1070\u001b[0;31m     with get_handle(\n\u001b[0m\u001b[1;32m   1071\u001b[0m         \u001b[0mcontent_or_path\u001b[0m\u001b[0;34m,\u001b[0m \u001b[0;34m\"rb\"\u001b[0m\u001b[0;34m,\u001b[0m \u001b[0mstorage_options\u001b[0m\u001b[0;34m=\u001b[0m\u001b[0mstorage_options\u001b[0m\u001b[0;34m,\u001b[0m \u001b[0mis_text\u001b[0m\u001b[0;34m=\u001b[0m\u001b[0;32mFalse\u001b[0m\u001b[0;34m\u001b[0m\u001b[0;34m\u001b[0m\u001b[0m\n\u001b[1;32m   1072\u001b[0m     ) as handle:\n",
            "\u001b[0;32m/usr/local/lib/python3.8/dist-packages/pandas/io/common.py\u001b[0m in \u001b[0;36mget_handle\u001b[0;34m(path_or_buf, mode, encoding, compression, memory_map, is_text, errors, storage_options)\u001b[0m\n\u001b[1;32m    709\u001b[0m         \u001b[0;32melse\u001b[0m\u001b[0;34m:\u001b[0m\u001b[0;34m\u001b[0m\u001b[0;34m\u001b[0m\u001b[0m\n\u001b[1;32m    710\u001b[0m             \u001b[0;31m# Binary mode\u001b[0m\u001b[0;34m\u001b[0m\u001b[0;34m\u001b[0m\u001b[0;34m\u001b[0m\u001b[0m\n\u001b[0;32m--> 711\u001b[0;31m             \u001b[0mhandle\u001b[0m \u001b[0;34m=\u001b[0m \u001b[0mopen\u001b[0m\u001b[0;34m(\u001b[0m\u001b[0mhandle\u001b[0m\u001b[0;34m,\u001b[0m \u001b[0mioargs\u001b[0m\u001b[0;34m.\u001b[0m\u001b[0mmode\u001b[0m\u001b[0;34m)\u001b[0m\u001b[0;34m\u001b[0m\u001b[0;34m\u001b[0m\u001b[0m\n\u001b[0m\u001b[1;32m    712\u001b[0m         \u001b[0mhandles\u001b[0m\u001b[0;34m.\u001b[0m\u001b[0mappend\u001b[0m\u001b[0;34m(\u001b[0m\u001b[0mhandle\u001b[0m\u001b[0;34m)\u001b[0m\u001b[0;34m\u001b[0m\u001b[0;34m\u001b[0m\u001b[0m\n\u001b[1;32m    713\u001b[0m \u001b[0;34m\u001b[0m\u001b[0m\n",
            "\u001b[0;31mFileNotFoundError\u001b[0m: [Errno 2] No such file or directory: 'name of excel file from computer here and full file path if need be.xlsx'"
          ]
        }
      ]
    },
    {
      "cell_type": "code",
      "source": [
        "#in colab, though, we do one of two things. Either, we do this process, for which there are instructions here (https://colab.research.google.com/notebooks/io.ipynb)\n",
        "#if you have an excel file on your comp you can try uploading it this way:\n",
        "\n",
        "from google.colab import files\n",
        "uploaded = files.upload()"
      ],
      "metadata": {
        "colab": {
          "base_uri": "https://localhost:8080/",
          "height": 375
        },
        "id": "TD8eQ1bf1j4P",
        "outputId": "4bc18b7f-9a4b-435b-9b90-5cdc9efe63d7"
      },
      "execution_count": null,
      "outputs": [
        {
          "output_type": "display_data",
          "data": {
            "text/plain": [
              "<IPython.core.display.HTML object>"
            ],
            "text/html": [
              "\n",
              "     <input type=\"file\" id=\"files-cd4967ab-883b-4de6-b24b-4c718f943a2c\" name=\"files[]\" multiple disabled\n",
              "        style=\"border:none\" />\n",
              "     <output id=\"result-cd4967ab-883b-4de6-b24b-4c718f943a2c\">\n",
              "      Upload widget is only available when the cell has been executed in the\n",
              "      current browser session. Please rerun this cell to enable.\n",
              "      </output>\n",
              "      <script>// Copyright 2017 Google LLC\n",
              "//\n",
              "// Licensed under the Apache License, Version 2.0 (the \"License\");\n",
              "// you may not use this file except in compliance with the License.\n",
              "// You may obtain a copy of the License at\n",
              "//\n",
              "//      http://www.apache.org/licenses/LICENSE-2.0\n",
              "//\n",
              "// Unless required by applicable law or agreed to in writing, software\n",
              "// distributed under the License is distributed on an \"AS IS\" BASIS,\n",
              "// WITHOUT WARRANTIES OR CONDITIONS OF ANY KIND, either express or implied.\n",
              "// See the License for the specific language governing permissions and\n",
              "// limitations under the License.\n",
              "\n",
              "/**\n",
              " * @fileoverview Helpers for google.colab Python module.\n",
              " */\n",
              "(function(scope) {\n",
              "function span(text, styleAttributes = {}) {\n",
              "  const element = document.createElement('span');\n",
              "  element.textContent = text;\n",
              "  for (const key of Object.keys(styleAttributes)) {\n",
              "    element.style[key] = styleAttributes[key];\n",
              "  }\n",
              "  return element;\n",
              "}\n",
              "\n",
              "// Max number of bytes which will be uploaded at a time.\n",
              "const MAX_PAYLOAD_SIZE = 100 * 1024;\n",
              "\n",
              "function _uploadFiles(inputId, outputId) {\n",
              "  const steps = uploadFilesStep(inputId, outputId);\n",
              "  const outputElement = document.getElementById(outputId);\n",
              "  // Cache steps on the outputElement to make it available for the next call\n",
              "  // to uploadFilesContinue from Python.\n",
              "  outputElement.steps = steps;\n",
              "\n",
              "  return _uploadFilesContinue(outputId);\n",
              "}\n",
              "\n",
              "// This is roughly an async generator (not supported in the browser yet),\n",
              "// where there are multiple asynchronous steps and the Python side is going\n",
              "// to poll for completion of each step.\n",
              "// This uses a Promise to block the python side on completion of each step,\n",
              "// then passes the result of the previous step as the input to the next step.\n",
              "function _uploadFilesContinue(outputId) {\n",
              "  const outputElement = document.getElementById(outputId);\n",
              "  const steps = outputElement.steps;\n",
              "\n",
              "  const next = steps.next(outputElement.lastPromiseValue);\n",
              "  return Promise.resolve(next.value.promise).then((value) => {\n",
              "    // Cache the last promise value to make it available to the next\n",
              "    // step of the generator.\n",
              "    outputElement.lastPromiseValue = value;\n",
              "    return next.value.response;\n",
              "  });\n",
              "}\n",
              "\n",
              "/**\n",
              " * Generator function which is called between each async step of the upload\n",
              " * process.\n",
              " * @param {string} inputId Element ID of the input file picker element.\n",
              " * @param {string} outputId Element ID of the output display.\n",
              " * @return {!Iterable<!Object>} Iterable of next steps.\n",
              " */\n",
              "function* uploadFilesStep(inputId, outputId) {\n",
              "  const inputElement = document.getElementById(inputId);\n",
              "  inputElement.disabled = false;\n",
              "\n",
              "  const outputElement = document.getElementById(outputId);\n",
              "  outputElement.innerHTML = '';\n",
              "\n",
              "  const pickedPromise = new Promise((resolve) => {\n",
              "    inputElement.addEventListener('change', (e) => {\n",
              "      resolve(e.target.files);\n",
              "    });\n",
              "  });\n",
              "\n",
              "  const cancel = document.createElement('button');\n",
              "  inputElement.parentElement.appendChild(cancel);\n",
              "  cancel.textContent = 'Cancel upload';\n",
              "  const cancelPromise = new Promise((resolve) => {\n",
              "    cancel.onclick = () => {\n",
              "      resolve(null);\n",
              "    };\n",
              "  });\n",
              "\n",
              "  // Wait for the user to pick the files.\n",
              "  const files = yield {\n",
              "    promise: Promise.race([pickedPromise, cancelPromise]),\n",
              "    response: {\n",
              "      action: 'starting',\n",
              "    }\n",
              "  };\n",
              "\n",
              "  cancel.remove();\n",
              "\n",
              "  // Disable the input element since further picks are not allowed.\n",
              "  inputElement.disabled = true;\n",
              "\n",
              "  if (!files) {\n",
              "    return {\n",
              "      response: {\n",
              "        action: 'complete',\n",
              "      }\n",
              "    };\n",
              "  }\n",
              "\n",
              "  for (const file of files) {\n",
              "    const li = document.createElement('li');\n",
              "    li.append(span(file.name, {fontWeight: 'bold'}));\n",
              "    li.append(span(\n",
              "        `(${file.type || 'n/a'}) - ${file.size} bytes, ` +\n",
              "        `last modified: ${\n",
              "            file.lastModifiedDate ? file.lastModifiedDate.toLocaleDateString() :\n",
              "                                    'n/a'} - `));\n",
              "    const percent = span('0% done');\n",
              "    li.appendChild(percent);\n",
              "\n",
              "    outputElement.appendChild(li);\n",
              "\n",
              "    const fileDataPromise = new Promise((resolve) => {\n",
              "      const reader = new FileReader();\n",
              "      reader.onload = (e) => {\n",
              "        resolve(e.target.result);\n",
              "      };\n",
              "      reader.readAsArrayBuffer(file);\n",
              "    });\n",
              "    // Wait for the data to be ready.\n",
              "    let fileData = yield {\n",
              "      promise: fileDataPromise,\n",
              "      response: {\n",
              "        action: 'continue',\n",
              "      }\n",
              "    };\n",
              "\n",
              "    // Use a chunked sending to avoid message size limits. See b/62115660.\n",
              "    let position = 0;\n",
              "    do {\n",
              "      const length = Math.min(fileData.byteLength - position, MAX_PAYLOAD_SIZE);\n",
              "      const chunk = new Uint8Array(fileData, position, length);\n",
              "      position += length;\n",
              "\n",
              "      const base64 = btoa(String.fromCharCode.apply(null, chunk));\n",
              "      yield {\n",
              "        response: {\n",
              "          action: 'append',\n",
              "          file: file.name,\n",
              "          data: base64,\n",
              "        },\n",
              "      };\n",
              "\n",
              "      let percentDone = fileData.byteLength === 0 ?\n",
              "          100 :\n",
              "          Math.round((position / fileData.byteLength) * 100);\n",
              "      percent.textContent = `${percentDone}% done`;\n",
              "\n",
              "    } while (position < fileData.byteLength);\n",
              "  }\n",
              "\n",
              "  // All done.\n",
              "  yield {\n",
              "    response: {\n",
              "      action: 'complete',\n",
              "    }\n",
              "  };\n",
              "}\n",
              "\n",
              "scope.google = scope.google || {};\n",
              "scope.google.colab = scope.google.colab || {};\n",
              "scope.google.colab._files = {\n",
              "  _uploadFiles,\n",
              "  _uploadFilesContinue,\n",
              "};\n",
              "})(self);\n",
              "</script> "
            ]
          },
          "metadata": {}
        },
        {
          "output_type": "error",
          "ename": "KeyboardInterrupt",
          "evalue": "ignored",
          "traceback": [
            "\u001b[0;31m---------------------------------------------------------------------------\u001b[0m",
            "\u001b[0;31mKeyboardInterrupt\u001b[0m                         Traceback (most recent call last)",
            "\u001b[0;32m<ipython-input-19-11a762e988f0>\u001b[0m in \u001b[0;36m<module>\u001b[0;34m\u001b[0m\n\u001b[1;32m      3\u001b[0m \u001b[0;34m\u001b[0m\u001b[0m\n\u001b[1;32m      4\u001b[0m \u001b[0;32mfrom\u001b[0m \u001b[0mgoogle\u001b[0m\u001b[0;34m.\u001b[0m\u001b[0mcolab\u001b[0m \u001b[0;32mimport\u001b[0m \u001b[0mfiles\u001b[0m\u001b[0;34m\u001b[0m\u001b[0;34m\u001b[0m\u001b[0m\n\u001b[0;32m----> 5\u001b[0;31m \u001b[0muploaded\u001b[0m \u001b[0;34m=\u001b[0m \u001b[0mfiles\u001b[0m\u001b[0;34m.\u001b[0m\u001b[0mupload\u001b[0m\u001b[0;34m(\u001b[0m\u001b[0;34m)\u001b[0m\u001b[0;34m\u001b[0m\u001b[0;34m\u001b[0m\u001b[0m\n\u001b[0m",
            "\u001b[0;32m/usr/local/lib/python3.8/dist-packages/google/colab/files.py\u001b[0m in \u001b[0;36mupload\u001b[0;34m()\u001b[0m\n\u001b[1;32m     65\u001b[0m   \"\"\"\n\u001b[1;32m     66\u001b[0m \u001b[0;34m\u001b[0m\u001b[0m\n\u001b[0;32m---> 67\u001b[0;31m   \u001b[0muploaded_files\u001b[0m \u001b[0;34m=\u001b[0m \u001b[0m_upload_files\u001b[0m\u001b[0;34m(\u001b[0m\u001b[0mmultiple\u001b[0m\u001b[0;34m=\u001b[0m\u001b[0;32mTrue\u001b[0m\u001b[0;34m)\u001b[0m\u001b[0;34m\u001b[0m\u001b[0;34m\u001b[0m\u001b[0m\n\u001b[0m\u001b[1;32m     68\u001b[0m   \u001b[0;31m# Mapping from original filename to filename as saved locally.\u001b[0m\u001b[0;34m\u001b[0m\u001b[0;34m\u001b[0m\u001b[0;34m\u001b[0m\u001b[0m\n\u001b[1;32m     69\u001b[0m   \u001b[0mlocal_filenames\u001b[0m \u001b[0;34m=\u001b[0m \u001b[0mdict\u001b[0m\u001b[0;34m(\u001b[0m\u001b[0;34m)\u001b[0m\u001b[0;34m\u001b[0m\u001b[0;34m\u001b[0m\u001b[0m\n",
            "\u001b[0;32m/usr/local/lib/python3.8/dist-packages/google/colab/files.py\u001b[0m in \u001b[0;36m_upload_files\u001b[0;34m(multiple)\u001b[0m\n\u001b[1;32m    142\u001b[0m \u001b[0;34m\u001b[0m\u001b[0m\n\u001b[1;32m    143\u001b[0m   \u001b[0;31m# First result is always an indication that the file picker has completed.\u001b[0m\u001b[0;34m\u001b[0m\u001b[0;34m\u001b[0m\u001b[0;34m\u001b[0m\u001b[0m\n\u001b[0;32m--> 144\u001b[0;31m   result = _output.eval_js(\n\u001b[0m\u001b[1;32m    145\u001b[0m       'google.colab._files._uploadFiles(\"{input_id}\", \"{output_id}\")'.format(\n\u001b[1;32m    146\u001b[0m           input_id=input_id, output_id=output_id))\n",
            "\u001b[0;32m/usr/local/lib/python3.8/dist-packages/google/colab/output/_js.py\u001b[0m in \u001b[0;36meval_js\u001b[0;34m(script, ignore_result, timeout_sec)\u001b[0m\n\u001b[1;32m     38\u001b[0m   \u001b[0;32mif\u001b[0m \u001b[0mignore_result\u001b[0m\u001b[0;34m:\u001b[0m\u001b[0;34m\u001b[0m\u001b[0;34m\u001b[0m\u001b[0m\n\u001b[1;32m     39\u001b[0m     \u001b[0;32mreturn\u001b[0m\u001b[0;34m\u001b[0m\u001b[0;34m\u001b[0m\u001b[0m\n\u001b[0;32m---> 40\u001b[0;31m   \u001b[0;32mreturn\u001b[0m \u001b[0m_message\u001b[0m\u001b[0;34m.\u001b[0m\u001b[0mread_reply_from_input\u001b[0m\u001b[0;34m(\u001b[0m\u001b[0mrequest_id\u001b[0m\u001b[0;34m,\u001b[0m \u001b[0mtimeout_sec\u001b[0m\u001b[0;34m)\u001b[0m\u001b[0;34m\u001b[0m\u001b[0;34m\u001b[0m\u001b[0m\n\u001b[0m\u001b[1;32m     41\u001b[0m \u001b[0;34m\u001b[0m\u001b[0m\n\u001b[1;32m     42\u001b[0m \u001b[0;34m\u001b[0m\u001b[0m\n",
            "\u001b[0;32m/usr/local/lib/python3.8/dist-packages/google/colab/_message.py\u001b[0m in \u001b[0;36mread_reply_from_input\u001b[0;34m(message_id, timeout_sec)\u001b[0m\n\u001b[1;32m     95\u001b[0m     \u001b[0mreply\u001b[0m \u001b[0;34m=\u001b[0m \u001b[0m_read_next_input_message\u001b[0m\u001b[0;34m(\u001b[0m\u001b[0;34m)\u001b[0m\u001b[0;34m\u001b[0m\u001b[0;34m\u001b[0m\u001b[0m\n\u001b[1;32m     96\u001b[0m     \u001b[0;32mif\u001b[0m \u001b[0mreply\u001b[0m \u001b[0;34m==\u001b[0m \u001b[0m_NOT_READY\u001b[0m \u001b[0;32mor\u001b[0m \u001b[0;32mnot\u001b[0m \u001b[0misinstance\u001b[0m\u001b[0;34m(\u001b[0m\u001b[0mreply\u001b[0m\u001b[0;34m,\u001b[0m \u001b[0mdict\u001b[0m\u001b[0;34m)\u001b[0m\u001b[0;34m:\u001b[0m\u001b[0;34m\u001b[0m\u001b[0;34m\u001b[0m\u001b[0m\n\u001b[0;32m---> 97\u001b[0;31m       \u001b[0mtime\u001b[0m\u001b[0;34m.\u001b[0m\u001b[0msleep\u001b[0m\u001b[0;34m(\u001b[0m\u001b[0;36m0.025\u001b[0m\u001b[0;34m)\u001b[0m\u001b[0;34m\u001b[0m\u001b[0;34m\u001b[0m\u001b[0m\n\u001b[0m\u001b[1;32m     98\u001b[0m       \u001b[0;32mcontinue\u001b[0m\u001b[0;34m\u001b[0m\u001b[0;34m\u001b[0m\u001b[0m\n\u001b[1;32m     99\u001b[0m     if (reply.get('type') == 'colab_reply' and\n",
            "\u001b[0;31mKeyboardInterrupt\u001b[0m: "
          ]
        }
      ]
    },
    {
      "cell_type": "code",
      "source": [
        "print(uploaded)\n",
        "pd.read_excel('name of excel file here .xlsx')"
      ],
      "metadata": {
        "id": "j8CxsKZz2bWN",
        "colab": {
          "base_uri": "https://localhost:8080/",
          "height": 187
        },
        "outputId": "e305fcdd-2ffa-4c09-e104-c73d5cc963d5"
      },
      "execution_count": null,
      "outputs": [
        {
          "output_type": "error",
          "ename": "NameError",
          "evalue": "ignored",
          "traceback": [
            "\u001b[0;31m---------------------------------------------------------------------------\u001b[0m",
            "\u001b[0;31mNameError\u001b[0m                                 Traceback (most recent call last)",
            "\u001b[0;32m<ipython-input-20-ed52971e6250>\u001b[0m in \u001b[0;36m<module>\u001b[0;34m\u001b[0m\n\u001b[0;32m----> 1\u001b[0;31m \u001b[0mprint\u001b[0m\u001b[0;34m(\u001b[0m\u001b[0muploaded\u001b[0m\u001b[0;34m)\u001b[0m\u001b[0;34m\u001b[0m\u001b[0;34m\u001b[0m\u001b[0m\n\u001b[0m\u001b[1;32m      2\u001b[0m \u001b[0mpd\u001b[0m\u001b[0;34m.\u001b[0m\u001b[0mread_excel\u001b[0m\u001b[0;34m(\u001b[0m\u001b[0;34m'name of excel file here .xlsx'\u001b[0m\u001b[0;34m)\u001b[0m\u001b[0;34m\u001b[0m\u001b[0;34m\u001b[0m\u001b[0m\n",
            "\u001b[0;31mNameError\u001b[0m: name 'uploaded' is not defined"
          ]
        }
      ]
    },
    {
      "cell_type": "code",
      "source": [
        "#or, we'll use files together that I upload for all of us, in whcih case the code will look weird; we'll do that a bit next week, don't worry about it now"
      ],
      "metadata": {
        "id": "UTvcKrhv2hXU"
      },
      "execution_count": null,
      "outputs": []
    },
    {
      "cell_type": "code",
      "source": [
        "#in pandas you also might want to save the dataframe you're working with as an excel or csv file to your computer\n",
        "#again, colab does this differently\n",
        "#but here's the normal way:\n",
        "\n",
        "data1.to_excel(\"name to give file.xlsx\")\n"
      ],
      "metadata": {
        "id": "1KisI1Co2o1s"
      },
      "execution_count": null,
      "outputs": []
    },
    {
      "cell_type": "code",
      "source": [
        "#here's how colab does it:\n",
        "\n",
        "files.download('#name of file')"
      ],
      "metadata": {
        "id": "bgdkzThZ3Bev",
        "colab": {
          "base_uri": "https://localhost:8080/",
          "height": 329
        },
        "outputId": "98d1989d-9ab6-4355-b626-47217a5f5cbb"
      },
      "execution_count": null,
      "outputs": [
        {
          "output_type": "error",
          "ename": "FileNotFoundError",
          "evalue": "ignored",
          "traceback": [
            "\u001b[0;31m---------------------------------------------------------------------------\u001b[0m",
            "\u001b[0;31mFileNotFoundError\u001b[0m                         Traceback (most recent call last)",
            "\u001b[0;32m<ipython-input-23-829452beaaaa>\u001b[0m in \u001b[0;36m<module>\u001b[0;34m\u001b[0m\n\u001b[1;32m      1\u001b[0m \u001b[0;31m#here's how colab does it:\u001b[0m\u001b[0;34m\u001b[0m\u001b[0;34m\u001b[0m\u001b[0;34m\u001b[0m\u001b[0m\n\u001b[1;32m      2\u001b[0m \u001b[0;34m\u001b[0m\u001b[0m\n\u001b[0;32m----> 3\u001b[0;31m \u001b[0mfiles\u001b[0m\u001b[0;34m.\u001b[0m\u001b[0mdownload\u001b[0m\u001b[0;34m(\u001b[0m\u001b[0;34m'#name of file'\u001b[0m\u001b[0;34m)\u001b[0m\u001b[0;34m\u001b[0m\u001b[0;34m\u001b[0m\u001b[0m\n\u001b[0m",
            "\u001b[0;32m/usr/local/lib/python3.8/dist-packages/google/colab/files.py\u001b[0m in \u001b[0;36mdownload\u001b[0;34m(filename)\u001b[0m\n\u001b[1;32m    207\u001b[0m   \u001b[0;32mif\u001b[0m \u001b[0;32mnot\u001b[0m \u001b[0m_os\u001b[0m\u001b[0;34m.\u001b[0m\u001b[0mpath\u001b[0m\u001b[0;34m.\u001b[0m\u001b[0mexists\u001b[0m\u001b[0;34m(\u001b[0m\u001b[0mfilename\u001b[0m\u001b[0;34m)\u001b[0m\u001b[0;34m:\u001b[0m\u001b[0;34m\u001b[0m\u001b[0;34m\u001b[0m\u001b[0m\n\u001b[1;32m    208\u001b[0m     \u001b[0mmsg\u001b[0m \u001b[0;34m=\u001b[0m \u001b[0;34m'Cannot find file: {}'\u001b[0m\u001b[0;34m.\u001b[0m\u001b[0mformat\u001b[0m\u001b[0;34m(\u001b[0m\u001b[0mfilename\u001b[0m\u001b[0;34m)\u001b[0m\u001b[0;34m\u001b[0m\u001b[0;34m\u001b[0m\u001b[0m\n\u001b[0;32m--> 209\u001b[0;31m     \u001b[0;32mraise\u001b[0m \u001b[0mFileNotFoundError\u001b[0m\u001b[0;34m(\u001b[0m\u001b[0mmsg\u001b[0m\u001b[0;34m)\u001b[0m  \u001b[0;31m# pylint: disable=undefined-variable\u001b[0m\u001b[0;34m\u001b[0m\u001b[0;34m\u001b[0m\u001b[0m\n\u001b[0m\u001b[1;32m    210\u001b[0m \u001b[0;34m\u001b[0m\u001b[0m\n\u001b[1;32m    211\u001b[0m   \u001b[0mcomm_manager\u001b[0m \u001b[0;34m=\u001b[0m \u001b[0m_IPython\u001b[0m\u001b[0;34m.\u001b[0m\u001b[0mget_ipython\u001b[0m\u001b[0;34m(\u001b[0m\u001b[0;34m)\u001b[0m\u001b[0;34m.\u001b[0m\u001b[0mkernel\u001b[0m\u001b[0;34m.\u001b[0m\u001b[0mcomm_manager\u001b[0m\u001b[0;34m\u001b[0m\u001b[0;34m\u001b[0m\u001b[0m\n",
            "\u001b[0;31mFileNotFoundError\u001b[0m: Cannot find file: #name of file"
          ]
        }
      ]
    },
    {
      "cell_type": "code",
      "source": [
        "#there's a lot more we can do in pandas. like add rows or columns, sort them by quantties, and so on\n",
        "#you can learn about all that in the pandas documentation here: https://pandas.pydata.org/docs/index.html\n",
        "#or by googling what you want to do in pandas and then finding how to in e.g. stack exchange\n",
        "#but for now this is all we need to basically understand"
      ],
      "metadata": {
        "id": "ju7P7W914HAd"
      },
      "execution_count": null,
      "outputs": []
    },
    {
      "cell_type": "markdown",
      "source": [
        "**scraping**"
      ],
      "metadata": {
        "id": "DnwSuA0w4cX6"
      }
    },
    {
      "cell_type": "markdown",
      "source": [
        "we're taking a quick moment of in class time, now, to introduce how data is stored on websites in html, and how we \"scrape\" that html using Beautiful Soup\n",
        "\n",
        "once we've talked about that, we'll look at this sample code below, which scrapes wiki articles and puts them into a dataframe:"
      ],
      "metadata": {
        "id": "Dq3nttrh4fG0"
      }
    },
    {
      "cell_type": "code",
      "source": [
        "# Import packages\n",
        "from urllib.request import urlopen\n",
        "from bs4 import BeautifulSoup\n",
        "# Specify url of the web page\n",
        "source = urlopen('https://en.wikipedia.org/wiki/John_D._Hunter').read()\n",
        "# Make a soup \n",
        "soup = BeautifulSoup(source,'lxml')\n",
        "soup"
      ],
      "metadata": {
        "id": "-ga60gJo8Meh",
        "colab": {
          "base_uri": "https://localhost:8080/"
        },
        "outputId": "57359fb4-2d26-40ba-d9dc-7368b7bae13c"
      },
      "execution_count": null,
      "outputs": [
        {
          "output_type": "execute_result",
          "data": {
            "text/plain": [
              "<!DOCTYPE html>\n",
              "<html class=\"client-nojs\" dir=\"ltr\" lang=\"en\">\n",
              "<head>\n",
              "<meta charset=\"utf-8\"/>\n",
              "<title>John D. Hunter - Wikipedia</title>\n",
              "<script>document.documentElement.className=\"client-js\";RLCONF={\"wgBreakFrames\":false,\"wgSeparatorTransformTable\":[\"\",\"\"],\"wgDigitTransformTable\":[\"\",\"\"],\"wgDefaultDateFormat\":\"dmy\",\"wgMonthNames\":[\"\",\"January\",\"February\",\"March\",\"April\",\"May\",\"June\",\"July\",\"August\",\"September\",\"October\",\"November\",\"December\"],\"wgRequestId\":\"8262c61c-bed5-40eb-a1eb-2c50defe37c7\",\"wgCSPNonce\":false,\"wgCanonicalNamespace\":\"\",\"wgCanonicalSpecialPageName\":false,\"wgNamespaceNumber\":0,\"wgPageName\":\"John_D._Hunter\",\"wgTitle\":\"John D. Hunter\",\"wgCurRevisionId\":1102368745,\"wgRevisionId\":1102368745,\"wgArticleId\":45714542,\"wgIsArticle\":true,\"wgIsRedirect\":false,\"wgAction\":\"view\",\"wgUserName\":null,\"wgUserGroups\":[\"*\"],\"wgCategories\":[\"Articles with hCards\",\"1968 births\",\"2012 deaths\",\"American neuroscientists\",\"Princeton University alumni\",\"University of Chicago alumni\",\"People from Dyersburg, Tennessee\",\"Open source people\",\"Python (programming language) people\"],\"wgPageContentLanguage\":\"en\",\"wgPageContentModel\":\n",
              "\"wikitext\",\"wgRelevantPageName\":\"John_D._Hunter\",\"wgRelevantArticleId\":45714542,\"wgIsProbablyEditable\":true,\"wgRelevantPageIsProbablyEditable\":true,\"wgRestrictionEdit\":[],\"wgRestrictionMove\":[],\"wgFlaggedRevsParams\":{\"tags\":{\"status\":{\"levels\":1}}},\"wgVisualEditor\":{\"pageLanguageCode\":\"en\",\"pageLanguageDir\":\"ltr\",\"pageVariantFallbacks\":\"en\"},\"wgMFDisplayWikibaseDescriptions\":{\"search\":true,\"watchlist\":true,\"tagline\":false,\"nearby\":true},\"wgWMESchemaEditAttemptStepOversample\":false,\"wgWMEPageLength\":7000,\"wgNoticeProject\":\"wikipedia\",\"wgVector2022PreviewPages\":[],\"wgMediaViewerOnClick\":true,\"wgMediaViewerEnabledByDefault\":true,\"wgPopupsFlags\":10,\"wgULSCurrentAutonym\":\"English\",\"wgEditSubmitButtonLabelPublish\":true,\"wgCentralAuthMobileDomain\":false,\"wgULSPosition\":\"interlanguage\",\"wgULSisCompactLinksEnabled\":true,\"wgULSisLanguageSelectorEmpty\":false,\"wgWikibaseItemId\":\"Q17278587\",\"GEHomepageSuggestedEditsEnableTopics\":true,\"wgGETopicsMatchModeEnabled\":false,\n",
              "\"wgGEStructuredTaskRejectionReasonTextInputEnabled\":false};RLSTATE={\"skins.vector.user.styles\":\"ready\",\"ext.globalCssJs.user.styles\":\"ready\",\"site.styles\":\"ready\",\"user.styles\":\"ready\",\"skins.vector.user\":\"ready\",\"ext.globalCssJs.user\":\"ready\",\"user\":\"ready\",\"user.options\":\"loading\",\"ext.cite.styles\":\"ready\",\"mediawiki.ui.button\":\"ready\",\"skins.vector.styles\":\"ready\",\"skins.vector.icons\":\"ready\",\"mediawiki.ui.icon\":\"ready\",\"ext.visualEditor.desktopArticleTarget.noscript\":\"ready\",\"ext.wikimediaBadges\":\"ready\",\"ext.uls.interlanguage\":\"ready\",\"wikibase.client.init\":\"ready\"};RLPAGEMODULES=[\"ext.cite.ux-enhancements\",\"site\",\"mediawiki.page.ready\",\"mediawiki.toc\",\"skins.vector.js\",\"skins.vector.es6\",\"ext.visualEditor.desktopArticleTarget.init\",\"ext.visualEditor.targetLoader\",\"ext.eventLogging\",\"ext.wikimediaEvents\",\"ext.navigationTiming\",\"ext.cx.eventlogging.campaigns\",\"ext.centralNotice.geoIP\",\"ext.centralNotice.startUp\",\"ext.gadget.ReferenceTooltips\",\"ext.gadget.charinsert\",\n",
              "\"ext.gadget.extra-toolbar-buttons\",\"ext.gadget.switcher\",\"ext.centralauth.centralautologin\",\"ext.popups\",\"ext.echo.centralauth\",\"ext.uls.compactlinks\",\"ext.uls.interface\",\"ext.cx.uls.quick.actions\",\"ext.growthExperiments.SuggestedEditSession\"];</script>\n",
              "<script>(RLQ=window.RLQ||[]).push(function(){mw.loader.implement(\"user.options@12s5i\",function($,jQuery,require,module){mw.user.tokens.set({\"patrolToken\":\"+\\\\\",\"watchToken\":\"+\\\\\",\"csrfToken\":\"+\\\\\"});});});</script>\n",
              "<link href=\"/w/load.php?lang=en&amp;modules=ext.cite.styles%7Cext.uls.interlanguage%7Cext.visualEditor.desktopArticleTarget.noscript%7Cext.wikimediaBadges%7Cmediawiki.ui.button%2Cicon%7Cskins.vector.icons%2Cstyles%7Cwikibase.client.init&amp;only=styles&amp;skin=vector-2022\" rel=\"stylesheet\"/>\n",
              "<script async=\"\" src=\"/w/load.php?lang=en&amp;modules=startup&amp;only=scripts&amp;raw=1&amp;skin=vector-2022\"></script>\n",
              "<meta content=\"\" name=\"ResourceLoaderDynamicStyles\"/>\n",
              "<link href=\"/w/load.php?lang=en&amp;modules=site.styles&amp;only=styles&amp;skin=vector-2022\" rel=\"stylesheet\"/>\n",
              "<meta content=\"MediaWiki 1.40.0-wmf.19\" name=\"generator\"/>\n",
              "<meta content=\"origin\" name=\"referrer\"/>\n",
              "<meta content=\"origin-when-crossorigin\" name=\"referrer\"/>\n",
              "<meta content=\"origin-when-cross-origin\" name=\"referrer\"/>\n",
              "<meta content=\"max-image-preview:standard\" name=\"robots\"/>\n",
              "<meta content=\"telephone=no\" name=\"format-detection\"/>\n",
              "<meta content=\"width=1000\" name=\"viewport\"/>\n",
              "<meta content=\"John D. Hunter - Wikipedia\" property=\"og:title\"/>\n",
              "<meta content=\"website\" property=\"og:type\"/>\n",
              "<link href=\"//en.m.wikipedia.org/wiki/John_D._Hunter\" media=\"only screen and (max-width: 720px)\" rel=\"alternate\"/>\n",
              "<link href=\"/w/index.php?title=John_D._Hunter&amp;action=edit\" rel=\"alternate\" title=\"Edit this page\" type=\"application/x-wiki\"/>\n",
              "<link href=\"/static/apple-touch/wikipedia.png\" rel=\"apple-touch-icon\"/>\n",
              "<link href=\"/static/favicon/wikipedia.ico\" rel=\"icon\"/>\n",
              "<link href=\"/w/opensearch_desc.php\" rel=\"search\" title=\"Wikipedia (en)\" type=\"application/opensearchdescription+xml\"/>\n",
              "<link href=\"//en.wikipedia.org/w/api.php?action=rsd\" rel=\"EditURI\" type=\"application/rsd+xml\"/>\n",
              "<link href=\"https://creativecommons.org/licenses/by-sa/3.0/\" rel=\"license\"/>\n",
              "<link href=\"https://en.wikipedia.org/wiki/John_D._Hunter\" rel=\"canonical\"/>\n",
              "<link href=\"//meta.wikimedia.org\" rel=\"dns-prefetch\"/>\n",
              "<link href=\"//login.wikimedia.org\" rel=\"dns-prefetch\"/>\n",
              "</head>\n",
              "<body class=\"skin-vector skin-vector-search-vue vector-toc-pinned mediawiki ltr sitedir-ltr mw-hide-empty-elt ns-0 ns-subject mw-editable page-John_D_Hunter rootpage-John_D_Hunter skin-vector-2022 action-view vector-feature-language-in-header-enabled vector-feature-language-in-main-page-header-disabled vector-feature-language-alert-in-sidebar-enabled vector-feature-sticky-header-disabled vector-feature-sticky-header-edit-disabled vector-feature-page-tools-disabled vector-feature-page-tools-pinned-disabled vector-feature-main-menu-pinned-disabled vector-feature-limited-width-enabled vector-feature-limited-width-content-enabled\"><div class=\"mw-page-container\">\n",
              "<a class=\"mw-jump-link\" href=\"#bodyContent\">Jump to content</a>\n",
              "<div class=\"mw-page-container-inner\">\n",
              "<input class=\"mw-checkbox-hack-checkbox\" id=\"mw-sidebar-checkbox\" type=\"checkbox\"/>\n",
              "<header class=\"mw-header mw-ui-icon-flush-left mw-ui-icon-flush-right\">\n",
              "<div class=\"vector-header-start\">\n",
              "<label aria-controls=\"mw-panel\" class=\"mw-checkbox-hack-button mw-ui-icon mw-ui-button mw-ui-quiet mw-ui-icon-element mw-ui-icon-flush-right\" data-event-name=\"ui.sidebar\" for=\"mw-sidebar-checkbox\" id=\"mw-sidebar-button\" role=\"button\" tabindex=\"0\" title=\"Main menu\">\n",
              "<span>Toggle sidebar</span>\n",
              "</label>\n",
              "<a class=\"mw-logo\" href=\"/wiki/Main_Page\">\n",
              "<img alt=\"\" aria-hidden=\"true\" class=\"mw-logo-icon\" height=\"50\" src=\"/static/images/icons/wikipedia.png\" width=\"50\"/>\n",
              "<span class=\"mw-logo-container\">\n",
              "<img alt=\"Wikipedia\" class=\"mw-logo-wordmark\" src=\"/static/images/mobile/copyright/wikipedia-wordmark-en.svg\" style=\"width: 7.5em; height: 1.125em;\"/>\n",
              "<img alt=\"The Free Encyclopedia\" class=\"mw-logo-tagline\" height=\"13\" src=\"/static/images/mobile/copyright/wikipedia-tagline-en.svg\" style=\"width: 7.3125em; height: 0.8125em;\" width=\"117\"/>\n",
              "</span>\n",
              "</a>\n",
              "</div>\n",
              "<div class=\"vector-header-end\">\n",
              "<div class=\"vector-search-box-vue vector-search-box-collapses vector-search-box-show-thumbnail vector-search-box-auto-expand-width vector-search-box\" id=\"p-search\" role=\"search\">\n",
              "<a accesskey=\"f\" class=\"mw-ui-button mw-ui-quiet mw-ui-icon mw-ui-icon-element mw-ui-icon-wikimedia-search search-toggle\" href=\"/wiki/Special:Search\" title=\"Search Wikipedia [f]\">\n",
              "<span>Search</span>\n",
              "</a>\n",
              "<div>\n",
              "<form action=\"/w/index.php\" class=\"vector-search-box-form\" id=\"searchform\">\n",
              "<div class=\"vector-search-box-inner\" data-search-loc=\"header-moved\" id=\"simpleSearch\">\n",
              "<input accesskey=\"f\" aria-label=\"Search Wikipedia\" autocapitalize=\"sentences\" class=\"vector-search-box-input\" id=\"searchInput\" name=\"search\" placeholder=\"Search Wikipedia\" title=\"Search Wikipedia [f]\" type=\"search\"/>\n",
              "<input name=\"title\" type=\"hidden\" value=\"Special:Search\"/>\n",
              "<input class=\"searchButton mw-fallbackSearchButton\" id=\"mw-searchButton\" name=\"fulltext\" title=\"Search Wikipedia for this text\" type=\"submit\" value=\"Search\"/>\n",
              "<input class=\"searchButton\" id=\"searchButton\" name=\"go\" title=\"Go to a page with this exact name if it exists\" type=\"submit\" value=\"Go\"/>\n",
              "</div>\n",
              "</form>\n",
              "</div>\n",
              "</div>\n",
              "<nav aria-label=\"Personal tools\" class=\"vector-user-links\" role=\"navigation\">\n",
              "<div class=\"vector-menu mw-portlet mw-portlet-vector-user-menu-overflow\" id=\"p-vector-user-menu-overflow\">\n",
              "<div class=\"vector-menu-heading\">\n",
              "</div>\n",
              "<div class=\"vector-menu-content\">\n",
              "<ul class=\"vector-menu-content-list\"><li class=\"user-links-collapsible-item mw-list-item\" id=\"pt-createaccount-2\"><a href=\"/w/index.php?title=Special:CreateAccount&amp;returnto=John+D.+Hunter\" title=\"You are encouraged to create an account and log in; however, it is not mandatory\"><span>Create account</span></a></li></ul>\n",
              "</div>\n",
              "</div>\n",
              "<div class=\"vector-menu vector-dropdown vector-menu-dropdown mw-portlet mw-portlet-personal vector-user-menu vector-user-menu-logged-out\" id=\"p-personal\" title=\"Log in and more options\">\n",
              "<input aria-haspopup=\"true\" class=\"vector-menu-checkbox \" data-event-name=\"ui.dropdown-p-personal\" id=\"p-personal-checkbox\" role=\"button\" type=\"checkbox\"/>\n",
              "<label class=\"vector-menu-heading mw-checkbox-hack-button mw-ui-icon mw-ui-button mw-ui-quiet mw-ui-icon-element mw-ui-icon-wikimedia-ellipsis\" for=\"p-personal-checkbox\" id=\"p-personal-label\">\n",
              "<span class=\"vector-menu-heading-label\">Foo</span>\n",
              "</label>\n",
              "<div class=\"vector-menu-content\">\n",
              "<div class=\"vector-menu-content\">\n",
              "<ul class=\"vector-menu-content-list\"><li class=\"vector-user-menu-create-account user-links-collapsible-item\"><a data-mw=\"interface\" href=\"/w/index.php?title=Special:CreateAccount&amp;returnto=John+D.+Hunter\"><span class=\"mw-ui-icon mw-ui-icon-userAdd mw-ui-icon-wikimedia-userAdd\"></span><span>Create account</span></a>\n",
              "</li><li class=\"vector-user-menu-login\"><a accesskey=\"o\" data-mw=\"interface\" href=\"/w/index.php?title=Special:UserLogin&amp;returnto=John+D.+Hunter\" title=\"[o]\"><span class=\"mw-ui-icon mw-ui-icon-logIn mw-ui-icon-wikimedia-logIn\"></span><span>Log in</span></a>\n",
              "</li></ul>\n",
              "</div>\n",
              "<div class=\"vector-user-menu-anon-editor\">\n",
              "<p>\n",
              "\t\t\t\tPages for logged out editors <a aria-label=\"Learn more about editing\" data-mw=\"interface\" href=\"/wiki/Help:Introduction\"><span>learn more</span></a>\n",
              "</p>\n",
              "</div>\n",
              "<div class=\"vector-menu-content\">\n",
              "<ul class=\"vector-menu-content-list\"><li class=\"mw-list-item\" id=\"pt-anontalk\"><a accesskey=\"n\" href=\"/wiki/Special:MyTalk\" title=\"Discussion about edits from this IP address [n]\"><span>Talk</span></a></li><li class=\"mw-list-item\" id=\"pt-anoncontribs\"><a accesskey=\"y\" href=\"/wiki/Special:MyContributions\" title=\"A list of edits made from this IP address [y]\"><span>Contributions</span></a></li></ul>\n",
              "</div>\n",
              "</div>\n",
              "</div></nav>\n",
              "</div>\n",
              "</header>\n",
              "<div class=\"vector-main-menu-container \">\n",
              "<div id=\"mw-navigation\">\n",
              "<nav aria-label=\"Site\" class=\"vector-main-menu-landmark\" id=\"mw-panel\" role=\"navigation\">\n",
              "<div class=\"vector-main-menu vector-pinnable-element\" id=\"vector-main-menu\">\n",
              "<div class=\"vector-main-menu-group vector-menu mw-portlet mw-portlet-navigation\" id=\"p-navigation\">\n",
              "<div class=\"vector-menu-heading \" id=\"p-navigation-label\">\n",
              "<span class=\"vector-menu-heading-label\">Navigation</span>\n",
              "</div>\n",
              "<div class=\"vector-menu-content\">\n",
              "<ul class=\"vector-menu-content-list\"><li class=\"mw-list-item\" id=\"n-mainpage-description\"><a accesskey=\"z\" href=\"/wiki/Main_Page\" title=\"Visit the main page [z]\"><span>Main page</span></a></li><li class=\"mw-list-item\" id=\"n-contents\"><a href=\"/wiki/Wikipedia:Contents\" title=\"Guides to browsing Wikipedia\"><span>Contents</span></a></li><li class=\"mw-list-item\" id=\"n-currentevents\"><a href=\"/wiki/Portal:Current_events\" title=\"Articles related to current events\"><span>Current events</span></a></li><li class=\"mw-list-item\" id=\"n-randompage\"><a accesskey=\"x\" href=\"/wiki/Special:Random\" title=\"Visit a randomly selected article [x]\"><span>Random article</span></a></li><li class=\"mw-list-item\" id=\"n-aboutsite\"><a href=\"/wiki/Wikipedia:About\" title=\"Learn about Wikipedia and how it works\"><span>About Wikipedia</span></a></li><li class=\"mw-list-item\" id=\"n-contactpage\"><a href=\"//en.wikipedia.org/wiki/Wikipedia:Contact_us\" title=\"How to contact Wikipedia\"><span>Contact us</span></a></li><li class=\"mw-list-item\" id=\"n-sitesupport\"><a href=\"https://donate.wikimedia.org/wiki/Special:FundraiserRedirector?utm_source=donate&amp;utm_medium=sidebar&amp;utm_campaign=C13_en.wikipedia.org&amp;uselang=en\" title=\"Support us by donating to the Wikimedia Foundation\"><span>Donate</span></a></li></ul>\n",
              "</div>\n",
              "</div>\n",
              "<div class=\"vector-main-menu-group vector-menu mw-portlet mw-portlet-interaction\" id=\"p-interaction\">\n",
              "<div class=\"vector-menu-heading \" id=\"p-interaction-label\">\n",
              "<span class=\"vector-menu-heading-label\">Contribute</span>\n",
              "</div>\n",
              "<div class=\"vector-menu-content\">\n",
              "<ul class=\"vector-menu-content-list\"><li class=\"mw-list-item\" id=\"n-help\"><a href=\"/wiki/Help:Contents\" title=\"Guidance on how to use and edit Wikipedia\"><span>Help</span></a></li><li class=\"mw-list-item\" id=\"n-introduction\"><a href=\"/wiki/Help:Introduction\" title=\"Learn how to edit Wikipedia\"><span>Learn to edit</span></a></li><li class=\"mw-list-item\" id=\"n-portal\"><a href=\"/wiki/Wikipedia:Community_portal\" title=\"The hub for editors\"><span>Community portal</span></a></li><li class=\"mw-list-item\" id=\"n-recentchanges\"><a accesskey=\"r\" href=\"/wiki/Special:RecentChanges\" title=\"A list of recent changes to Wikipedia [r]\"><span>Recent changes</span></a></li><li class=\"mw-list-item\" id=\"n-upload\"><a href=\"/wiki/Wikipedia:File_upload_wizard\" title=\"Add images or other media for use on Wikipedia\"><span>Upload file</span></a></li></ul>\n",
              "</div>\n",
              "</div>\n",
              "<div class=\"vector-main-menu-group vector-menu mw-portlet mw-portlet-tb\" id=\"p-tb\">\n",
              "<div class=\"vector-menu-heading \" id=\"p-tb-label\">\n",
              "<span class=\"vector-menu-heading-label\">Tools</span>\n",
              "</div>\n",
              "<div class=\"vector-menu-content\">\n",
              "<ul class=\"vector-menu-content-list\"><li class=\"mw-list-item\" id=\"t-whatlinkshere\"><a accesskey=\"j\" href=\"/wiki/Special:WhatLinksHere/John_D._Hunter\" title=\"List of all English Wikipedia pages containing links to this page [j]\"><span>What links here</span></a></li><li class=\"mw-list-item\" id=\"t-recentchangeslinked\"><a accesskey=\"k\" href=\"/wiki/Special:RecentChangesLinked/John_D._Hunter\" rel=\"nofollow\" title=\"Recent changes in pages linked from this page [k]\"><span>Related changes</span></a></li><li class=\"mw-list-item\" id=\"t-upload\"><a accesskey=\"u\" href=\"/wiki/Wikipedia:File_Upload_Wizard\" title=\"Upload files [u]\"><span>Upload file</span></a></li><li class=\"mw-list-item\" id=\"t-specialpages\"><a accesskey=\"q\" href=\"/wiki/Special:SpecialPages\" title=\"A list of all special pages [q]\"><span>Special pages</span></a></li><li class=\"mw-list-item\" id=\"t-permalink\"><a href=\"/w/index.php?title=John_D._Hunter&amp;oldid=1102368745\" title=\"Permanent link to this revision of this page\"><span>Permanent link</span></a></li><li class=\"mw-list-item\" id=\"t-info\"><a href=\"/w/index.php?title=John_D._Hunter&amp;action=info\" title=\"More information about this page\"><span>Page information</span></a></li><li class=\"mw-list-item\" id=\"t-cite\"><a href=\"/w/index.php?title=Special:CiteThisPage&amp;page=John_D._Hunter&amp;id=1102368745&amp;wpFormIdentifier=titleform\" title=\"Information on how to cite this page\"><span>Cite this page</span></a></li><li class=\"mw-list-item\" id=\"t-wikibase\"><a accesskey=\"g\" href=\"https://www.wikidata.org/wiki/Special:EntityPage/Q17278587\" title=\"Structured data on this page hosted by Wikidata [g]\"><span>Wikidata item</span></a></li></ul>\n",
              "</div>\n",
              "</div>\n",
              "<div class=\"vector-main-menu-group vector-menu mw-portlet mw-portlet-coll-print_export\" id=\"p-coll-print_export\">\n",
              "<div class=\"vector-menu-heading \" id=\"p-coll-print_export-label\">\n",
              "<span class=\"vector-menu-heading-label\">Print/export</span>\n",
              "</div>\n",
              "<div class=\"vector-menu-content\">\n",
              "<ul class=\"vector-menu-content-list\"><li class=\"mw-list-item\" id=\"coll-download-as-rl\"><a href=\"/w/index.php?title=Special:DownloadAsPdf&amp;page=John_D._Hunter&amp;action=show-download-screen\" title=\"Download this page as a PDF file\"><span>Download as PDF</span></a></li><li class=\"mw-list-item\" id=\"t-print\"><a accesskey=\"p\" href=\"/w/index.php?title=John_D._Hunter&amp;printable=yes\" title=\"Printable version of this page [p]\"><span>Printable version</span></a></li></ul>\n",
              "</div>\n",
              "</div>\n",
              "<div class=\"vector-main-menu-action vector-main-menu-action-lang-alert\">\n",
              "<div class=\"vector-main-menu-action-item\">\n",
              "<div class=\"vector-main-menu-action-heading vector-menu-heading\">Languages</div>\n",
              "<div class=\"vector-main-menu-action-content vector-menu-content\">\n",
              "<div class=\"mw-message-box-notice vector-language-sidebar-alert mw-message-box\">On this Wikipedia the language links are at the top of the page across from the article title. <a href=\"#p-lang-btn\">Go to top</a>.</div>\n",
              "</div>\n",
              "</div>\n",
              "</div>\n",
              "</div>\n",
              "</nav>\n",
              "</div>\n",
              "</div>\n",
              "<div class=\"vector-sitenotice-container\">\n",
              "<div id=\"siteNotice\"><!-- CentralNotice --></div>\n",
              "</div>\n",
              "<input class=\"mw-checkbox-hack-checkbox\" id=\"vector-toc-collapsed-checkbox\" type=\"checkbox\"/>\n",
              "<nav aria-label=\"Contents\" class=\"mw-table-of-contents-container\" data-event-name=\"ui.sidebar-toc\" id=\"mw-panel-toc\" role=\"navigation\">\n",
              "<div class=\"vector-pinned-container\" id=\"vector-toc-pinned-container\">\n",
              "<div class=\"vector-toc vector-pinnable-element\" id=\"vector-toc\">\n",
              "<div class=\"vector-pinnable-header vector-toc-pinnable-header vector-pinnable-header-pinned\" data-name=\"vector-toc\">\n",
              "<h2 class=\"vector-pinnable-header-label\">Contents</h2>\n",
              "<button class=\"vector-pinnable-header-toggle-button vector-pinnable-header-pin-button\" data-event-name=\"pinnable-header.vector-toc.pin\">move to sidebar</button>\n",
              "<button class=\"vector-pinnable-header-toggle-button vector-pinnable-header-unpin-button\" data-event-name=\"pinnable-header.vector-toc.unpin\">hide</button>\n",
              "</div>\n",
              "<ul class=\"vector-toc-contents\" id=\"mw-panel-toc-list\">\n",
              "<li class=\"vector-toc-list-item vector-toc-level-1\" id=\"toc-mw-content-text\">\n",
              "<a class=\"vector-toc-link\" href=\"#\">\n",
              "<div class=\"vector-toc-text\">(Top)</div>\n",
              "</a>\n",
              "</li>\n",
              "<li class=\"vector-toc-list-item vector-toc-level-1 vector-toc-list-item-expanded\" id=\"toc-Biography\">\n",
              "<a class=\"vector-toc-link\" href=\"#Biography\">\n",
              "<div class=\"vector-toc-text\">\n",
              "<span class=\"vector-toc-numb\">1</span>Biography</div>\n",
              "</a>\n",
              "<ul class=\"vector-toc-list\" id=\"toc-Biography-sublist\">\n",
              "</ul>\n",
              "</li>\n",
              "<li class=\"vector-toc-list-item vector-toc-level-1 vector-toc-list-item-expanded\" id=\"toc-Matplotlib\">\n",
              "<a class=\"vector-toc-link\" href=\"#Matplotlib\">\n",
              "<div class=\"vector-toc-text\">\n",
              "<span class=\"vector-toc-numb\">2</span>Matplotlib</div>\n",
              "</a>\n",
              "<ul class=\"vector-toc-list\" id=\"toc-Matplotlib-sublist\">\n",
              "</ul>\n",
              "</li>\n",
              "<li class=\"vector-toc-list-item vector-toc-level-1 vector-toc-list-item-expanded\" id=\"toc-Personal_life\">\n",
              "<a class=\"vector-toc-link\" href=\"#Personal_life\">\n",
              "<div class=\"vector-toc-text\">\n",
              "<span class=\"vector-toc-numb\">3</span>Personal life</div>\n",
              "</a>\n",
              "<ul class=\"vector-toc-list\" id=\"toc-Personal_life-sublist\">\n",
              "</ul>\n",
              "</li>\n",
              "<li class=\"vector-toc-list-item vector-toc-level-1 vector-toc-list-item-expanded\" id=\"toc-Awards\">\n",
              "<a class=\"vector-toc-link\" href=\"#Awards\">\n",
              "<div class=\"vector-toc-text\">\n",
              "<span class=\"vector-toc-numb\">4</span>Awards</div>\n",
              "</a>\n",
              "<ul class=\"vector-toc-list\" id=\"toc-Awards-sublist\">\n",
              "</ul>\n",
              "</li>\n",
              "<li class=\"vector-toc-list-item vector-toc-level-1 vector-toc-list-item-expanded\" id=\"toc-Legacy\">\n",
              "<a class=\"vector-toc-link\" href=\"#Legacy\">\n",
              "<div class=\"vector-toc-text\">\n",
              "<span class=\"vector-toc-numb\">5</span>Legacy</div>\n",
              "</a>\n",
              "<ul class=\"vector-toc-list\" id=\"toc-Legacy-sublist\">\n",
              "</ul>\n",
              "</li>\n",
              "<li class=\"vector-toc-list-item vector-toc-level-1 vector-toc-list-item-expanded\" id=\"toc-References\">\n",
              "<a class=\"vector-toc-link\" href=\"#References\">\n",
              "<div class=\"vector-toc-text\">\n",
              "<span class=\"vector-toc-numb\">6</span>References</div>\n",
              "</a>\n",
              "<ul class=\"vector-toc-list\" id=\"toc-References-sublist\">\n",
              "</ul>\n",
              "</li>\n",
              "</ul>\n",
              "</div>\n",
              "</div>\n",
              "</nav>\n",
              "<div class=\"mw-content-container\">\n",
              "<main class=\"mw-body\" id=\"content\" role=\"main\">\n",
              "<header class=\"mw-body-header vector-page-titlebar\">\n",
              "<label aria-controls=\"toc-toggle-list\" class=\"mw-ui-button mw-ui-quiet mw-ui-icon mw-ui-icon-flush-left mw-ui-icon-element mw-ui-icon-wikimedia-listBullet mw-checkbox-hack-button\" data-event-name=\"vector.toc-toggle-list\" for=\"vector-toc-collapsed-checkbox\" id=\"vector-toc-collapsed-button\" role=\"button\" tabindex=\"0\" title=\"Table of Contents\">\n",
              "\t\t\t\t\t\tToggle the table of contents\n",
              "\t\t\t\t\t</label>\n",
              "<div class=\"vector-menu vector-dropdown vector-menu-dropdown vector-page-titlebar-toc mw-ui-icon-flush-left\" id=\"vector-page-titlebar-toc\">\n",
              "<input aria-haspopup=\"true\" class=\"vector-menu-checkbox \" data-event-name=\"ui.dropdown-vector-page-titlebar-toc\" id=\"vector-page-titlebar-toc-checkbox\" role=\"button\" type=\"checkbox\"/>\n",
              "<label class=\"vector-menu-heading mw-checkbox-hack-button mw-ui-icon mw-ui-button mw-ui-quiet mw-ui-icon-element mw-ui-icon-wikimedia-listBullet\" for=\"vector-page-titlebar-toc-checkbox\" id=\"vector-page-titlebar-toc-label\">\n",
              "<span class=\"vector-menu-heading-label\"></span>\n",
              "</label>\n",
              "<div class=\"vector-menu-content\">\n",
              "<div class=\"vector-unpinned-container\" id=\"vector-page-titlebar-toc-unpinned-container\">\n",
              "</div>\n",
              "</div>\n",
              "</div>\n",
              "<h1 class=\"firstHeading mw-first-heading\" id=\"firstHeading\"><span class=\"mw-page-title-main\">John D. Hunter</span></h1>\n",
              "<div class=\"vector-menu vector-dropdown vector-menu-dropdown mw-portlet mw-portlet-lang mw-ui-icon-flush-right\" id=\"p-lang-btn\">\n",
              "<input aria-haspopup=\"true\" aria-label=\"This article exist only in this language. Add the article for other languages\" class=\"vector-menu-checkbox mw-interlanguage-selector\" data-event-name=\"ui.dropdown-p-lang-btn\" id=\"p-lang-btn-checkbox\" role=\"button\" type=\"checkbox\"/>\n",
              "<label class=\"vector-menu-heading mw-ui-button mw-ui-quiet mw-ui-progressive mw-portlet-lang-heading-0\" for=\"p-lang-btn-checkbox\" id=\"p-lang-btn-label\">\n",
              "<span class=\"mw-ui-icon mw-ui-icon-wikimedia-language-progressive\"></span><span class=\"vector-menu-heading-label\">Add languages</span>\n",
              "</label>\n",
              "<div class=\"vector-menu-content\">\n",
              "<div class=\"vector-menu-content\">\n",
              "<ul class=\"vector-menu-content-list\"></ul>\n",
              "<div class=\"after-portlet after-portlet-lang\"><span class=\"uls-after-portlet-link\"></span><span class=\"wb-langlinks-add wb-langlinks-link\"><a class=\"wbc-editpage\" href=\"https://www.wikidata.org/wiki/Special:EntityPage/Q17278587#sitelinks-wikipedia\" title=\"Add interlanguage links\">Add links</a></span></div>\n",
              "</div>\n",
              "</div>\n",
              "</div>\n",
              "</header>\n",
              "<div class=\"vector-page-toolbar\">\n",
              "<div class=\"vector-page-toolbar-container\">\n",
              "<div id=\"left-navigation\">\n",
              "<nav aria-label=\"Namespaces\">\n",
              "<div class=\"vector-menu vector-menu-tabs mw-portlet mw-portlet-associated-pages\" id=\"p-associated-pages\">\n",
              "<div class=\"vector-menu-content\">\n",
              "<ul class=\"vector-menu-content-list\"><li class=\"selected vector-tab-noicon mw-list-item\" id=\"ca-nstab-main\"><a accesskey=\"c\" href=\"/wiki/John_D._Hunter\" title=\"View the content page [c]\"><span>Article</span></a></li><li class=\"vector-tab-noicon mw-list-item\" id=\"ca-talk\"><a accesskey=\"t\" href=\"/wiki/Talk:John_D._Hunter\" rel=\"discussion\" title=\"Discuss improvements to the content page [t]\"><span>Talk</span></a></li></ul>\n",
              "</div>\n",
              "</div>\n",
              "<div class=\"vector-menu vector-dropdown vector-menu-dropdown mw-portlet mw-portlet-variants emptyPortlet\" id=\"p-variants\">\n",
              "<input aria-haspopup=\"true\" aria-label=\"Change language variant\" class=\"vector-menu-checkbox\" data-event-name=\"ui.dropdown-p-variants\" id=\"p-variants-checkbox\" role=\"button\" type=\"checkbox\"/>\n",
              "<label class=\"vector-menu-heading \" for=\"p-variants-checkbox\" id=\"p-variants-label\">\n",
              "<span class=\"vector-menu-heading-label\">English</span>\n",
              "</label>\n",
              "<div class=\"vector-menu-content\">\n",
              "<div class=\"vector-menu-content\">\n",
              "<ul class=\"vector-menu-content-list\"></ul>\n",
              "</div>\n",
              "</div>\n",
              "</div>\n",
              "</nav>\n",
              "</div>\n",
              "<div class=\"vector-collapsible\" id=\"right-navigation\">\n",
              "<nav aria-label=\"Views\">\n",
              "<div class=\"vector-menu vector-menu-tabs mw-portlet mw-portlet-views\" id=\"p-views\">\n",
              "<div class=\"vector-menu-content\">\n",
              "<ul class=\"vector-menu-content-list\"><li class=\"selected vector-tab-noicon mw-list-item\" id=\"ca-view\"><a href=\"/wiki/John_D._Hunter\"><span>Read</span></a></li><li class=\"vector-tab-noicon mw-list-item\" id=\"ca-edit\"><a accesskey=\"e\" href=\"/w/index.php?title=John_D._Hunter&amp;action=edit\" title=\"Edit this page [e]\"><span>Edit</span></a></li><li class=\"vector-tab-noicon mw-list-item\" id=\"ca-history\"><a accesskey=\"h\" href=\"/w/index.php?title=John_D._Hunter&amp;action=history\" title=\"Past revisions of this page [h]\"><span>View history</span></a></li></ul>\n",
              "</div>\n",
              "</div>\n",
              "</nav>\n",
              "<nav aria-label=\"More options\" class=\"vector-page-tools-landmark\">\n",
              "<div class=\"vector-menu vector-dropdown vector-menu-dropdown mw-portlet mw-portlet-cactions emptyPortlet vector-has-collapsible-items\" id=\"p-cactions\" title=\"More options\">\n",
              "<input aria-haspopup=\"true\" class=\"vector-menu-checkbox\" data-event-name=\"ui.dropdown-p-cactions\" id=\"p-cactions-checkbox\" role=\"button\" type=\"checkbox\"/>\n",
              "<label class=\"vector-menu-heading\" for=\"p-cactions-checkbox\" id=\"p-cactions-label\">\n",
              "<span class=\"vector-menu-heading-label\">More</span>\n",
              "</label>\n",
              "<div class=\"vector-menu-content\">\n",
              "<div class=\"vector-menu-content\">\n",
              "<ul class=\"vector-menu-content-list\"><li class=\"selected vector-more-collapsible-item mw-list-item\" id=\"ca-more-view\"><a href=\"/wiki/John_D._Hunter\"><span>Read</span></a></li><li class=\"vector-more-collapsible-item mw-list-item\" id=\"ca-more-edit\"><a href=\"/w/index.php?title=John_D._Hunter&amp;action=edit\"><span>Edit</span></a></li><li class=\"vector-more-collapsible-item mw-list-item\" id=\"ca-more-history\"><a href=\"/w/index.php?title=John_D._Hunter&amp;action=history\"><span>View history</span></a></li></ul>\n",
              "</div>\n",
              "</div>\n",
              "</div>\n",
              "</nav>\n",
              "</div>\n",
              "</div>\n",
              "</div>\n",
              "<div aria-labelledby=\"firstHeading\" class=\"vector-body\" data-mw-ve-target-container=\"\" id=\"bodyContent\">\n",
              "<div class=\"vector-body-before-content\">\n",
              "<div class=\"mw-indicators\">\n",
              "</div>\n",
              "<div class=\"noprint\" id=\"siteSub\">From Wikipedia, the free encyclopedia</div>\n",
              "</div>\n",
              "<div id=\"contentSub\"><div id=\"mw-content-subtitle\"></div></div>\n",
              "<div class=\"mw-body-content mw-content-ltr\" dir=\"ltr\" id=\"mw-content-text\" lang=\"en\"><div class=\"mw-parser-output\"><style data-mw-deduplicate=\"TemplateStyles:r1066479718\">.mw-parser-output .infobox-subbox{padding:0;border:none;margin:-3px;width:auto;min-width:100%;font-size:100%;clear:none;float:none;background-color:transparent}.mw-parser-output .infobox-3cols-child{margin:auto}.mw-parser-output .infobox .navbar{font-size:100%}body.skin-minerva .mw-parser-output .infobox-header,body.skin-minerva .mw-parser-output .infobox-subheader,body.skin-minerva .mw-parser-output .infobox-above,body.skin-minerva .mw-parser-output .infobox-title,body.skin-minerva .mw-parser-output .infobox-image,body.skin-minerva .mw-parser-output .infobox-full-data,body.skin-minerva .mw-parser-output .infobox-below{text-align:center}</style><table class=\"infobox biography vcard\"><tbody><tr><th class=\"infobox-above\" colspan=\"2\" style=\"font-size:125%;\"><div class=\"fn\" style=\"display:inline\">John D. Hunter</div></th></tr><tr><th class=\"infobox-label\" scope=\"row\">Born</th><td class=\"infobox-data\"><span style=\"display:none\">(<span class=\"bday\">1968-08-01</span>)</span>August 1, 1968<br/><div class=\"birthplace\" style=\"display:inline\"><a href=\"/wiki/Dyersburg,_Tennessee\" title=\"Dyersburg, Tennessee\">Dyersburg, Tennessee</a></div></td></tr><tr><th class=\"infobox-label\" scope=\"row\">Died</th><td class=\"infobox-data\">August 28, 2012<span style=\"display:none\">(2012-08-28)</span> (aged 44)<br/><div class=\"deathplace\" style=\"display:inline\"><a class=\"mw-redirect\" href=\"/wiki/Chicago,_Illinois\" title=\"Chicago, Illinois\">Chicago, Illinois</a></div></td></tr><tr><th class=\"infobox-label\" scope=\"row\">Education</th><td class=\"infobox-data\"><a href=\"/wiki/Princeton_University\" title=\"Princeton University\">Princeton University</a><br/><a href=\"/wiki/University_of_Chicago\" title=\"University of Chicago\">University of Chicago</a></td></tr><tr><th class=\"infobox-label\" scope=\"row\">Known for</th><td class=\"infobox-data\"><a href=\"/wiki/Matplotlib\" title=\"Matplotlib\">Matplotlib</a></td></tr><tr><th class=\"infobox-label\" scope=\"row\">Spouse</th><td class=\"infobox-data\">Miriam</td></tr><tr><th class=\"infobox-label\" scope=\"row\">Children</th><td class=\"infobox-data\">3</td></tr><tr><td class=\"infobox-full-data\" colspan=\"2\"><link href=\"mw-data:TemplateStyles:r1066479718\" rel=\"mw-deduplicated-inline-style\"/><b>Scientific career</b></td></tr><tr><th class=\"infobox-label\" scope=\"row\">Fields</th><td class=\"infobox-data category\"><a class=\"mw-redirect\" href=\"/wiki/Neurobiology\" title=\"Neurobiology\">Neurobiology</a></td></tr><tr><th class=\"infobox-label\" scope=\"row\">Institutions</th><td class=\"infobox-data\"><a class=\"new\" href=\"/w/index.php?title=NumFOCUS&amp;action=edit&amp;redlink=1\" title=\"NumFOCUS (page does not exist)\">NumFOCUS</a> Foundation</td></tr><tr style=\"display:none\"><td colspan=\"2\">\n",
              "</td></tr></tbody></table>\n",
              "<p><b>John D. Hunter</b> (August 1, 1968 – August 28, 2012) was an American <a class=\"mw-redirect\" href=\"/wiki/Neurobiologist\" title=\"Neurobiologist\">neurobiologist</a> and the original author of <a href=\"/wiki/Matplotlib\" title=\"Matplotlib\">Matplotlib</a>.<sup class=\"reference\" id=\"cite_ref-matplotlib_1-0\"><a href=\"#cite_note-matplotlib-1\">[1]</a></sup>\n",
              "</p>\n",
              "<meta property=\"mw:PageProp/toc\"/>\n",
              "<h2><span class=\"mw-headline\" id=\"Biography\">Biography</span><span class=\"mw-editsection\"><span class=\"mw-editsection-bracket\">[</span><a href=\"/w/index.php?title=John_D._Hunter&amp;action=edit&amp;section=1\" title=\"Edit section: Biography\">edit</a><span class=\"mw-editsection-bracket\">]</span></span></h2>\n",
              "<p>He was brought up in <a href=\"/wiki/Dyersburg,_Tennessee\" title=\"Dyersburg, Tennessee\">Dyersburg</a>, <a href=\"/wiki/Tennessee\" title=\"Tennessee\">Tennessee</a>. He graduated from <a href=\"/wiki/The_McCallie_School\" title=\"The McCallie School\">The McCallie School</a>. He studied initially at <a href=\"/wiki/Princeton_University\" title=\"Princeton University\">Princeton University</a>, later he obtained a Ph.D. in neurobiology from the <a href=\"/wiki/University_of_Chicago\" title=\"University of Chicago\">University of Chicago</a> in 2004.<sup class=\"reference\" id=\"cite_ref-princeton_2-0\"><a href=\"#cite_note-princeton-2\">[2]</a></sup><sup class=\"reference\" id=\"cite_ref-pardalos_3-0\"><a href=\"#cite_note-pardalos-3\">[3]</a></sup> In 2005, he joined TradeLink Securities as a Quantitative Analyst.<sup class=\"reference\" id=\"cite_ref-auto_4-0\"><a href=\"#cite_note-auto-4\">[4]</a></sup> Later, he was one of the founding directors of <a class=\"new\" href=\"/w/index.php?title=NumFOCUS&amp;action=edit&amp;redlink=1\" title=\"NumFOCUS (page does not exist)\">NumFOCUS</a> Foundation.<sup class=\"reference\" id=\"cite_ref-numfocus1_5-0\"><a href=\"#cite_note-numfocus1-5\">[5]</a></sup>\n",
              "</p>\n",
              "<h2><span class=\"mw-headline\" id=\"Matplotlib\">Matplotlib</span><span class=\"mw-editsection\"><span class=\"mw-editsection-bracket\">[</span><a href=\"/w/index.php?title=John_D._Hunter&amp;action=edit&amp;section=2\" title=\"Edit section: Matplotlib\">edit</a><span class=\"mw-editsection-bracket\">]</span></span></h2>\n",
              "<p>Matplotlib was originally  conceived to visualize <a href=\"/wiki/Electrocorticography\" title=\"Electrocorticography\">electrocorticography</a> (ECoG) data of <a href=\"/wiki/Epilepsy\" title=\"Epilepsy\">epilepsy</a> patients during post-doctoral research in neurobiology.<sup class=\"reference\" id=\"cite_ref-auto_4-1\"><a href=\"#cite_note-auto-4\">[4]</a></sup> The open-source tool  emerged as the most widely used plotting library for the <a href=\"/wiki/Python_(programming_language)\" title=\"Python (programming language)\">Python programming language</a>, and a core component of the scientific Python stack, along with <a href=\"/wiki/NumPy\" title=\"NumPy\">NumPy</a>, <a href=\"/wiki/SciPy\" title=\"SciPy\">SciPy</a> and <a href=\"/wiki/IPython\" title=\"IPython\">IPython</a>.<sup class=\"reference\" id=\"cite_ref-sheppard_6-0\"><a href=\"#cite_note-sheppard-6\">[6]</a></sup> Matplotlib was used for data visualization during landing of the <a href=\"/wiki/Phoenix_(spacecraft)\" title=\"Phoenix (spacecraft)\">Phoenix spacecraft</a> in 2008 as well as for the creation of the first image of a black hole.<sup class=\"reference\" id=\"cite_ref-xkcd_7-0\"><a href=\"#cite_note-xkcd-7\">[7]</a></sup><sup class=\"reference\" id=\"cite_ref-m87_8-0\"><a href=\"#cite_note-m87-8\">[8]</a></sup>\n",
              "</p>\n",
              "<h2><span class=\"mw-headline\" id=\"Personal_life\">Personal life</span><span class=\"mw-editsection\"><span class=\"mw-editsection-bracket\">[</span><a href=\"/w/index.php?title=John_D._Hunter&amp;action=edit&amp;section=3\" title=\"Edit section: Personal life\">edit</a><span class=\"mw-editsection-bracket\">]</span></span></h2>\n",
              "<p>He was diagnosed with malignant colon cancer and died from cancer treatment complications on August 28, 2012.<sup class=\"reference\" id=\"cite_ref-groups1_9-0\"><a href=\"#cite_note-groups1-9\">[9]</a></sup><sup class=\"reference\" id=\"cite_ref-sg_10-0\"><a href=\"#cite_note-sg-10\">[10]</a></sup><sup class=\"reference\" id=\"cite_ref-uchicago_11-0\"><a href=\"#cite_note-uchicago-11\">[11]</a></sup> His memorial service was held at the University of Chicago's <a href=\"/wiki/Rockefeller_Chapel\" title=\"Rockefeller Chapel\">Rockefeller Chapel</a> (which was also the location of his Ph.D. graduation) on October 1, 2012.<sup class=\"reference\" id=\"cite_ref-fperez_12-0\"><a href=\"#cite_note-fperez-12\">[12]</a></sup> He is survived by his wife Miriam, and three daughters: Clara, Ava, and Rahel. A memorial fund to honor his work has been established to help with the education of his three daughters.<sup class=\"reference\" id=\"cite_ref-numfocus2_13-0\"><a href=\"#cite_note-numfocus2-13\">[13]</a></sup>\n",
              "</p>\n",
              "<h2><span class=\"mw-headline\" id=\"Awards\">Awards</span><span class=\"mw-editsection\"><span class=\"mw-editsection-bracket\">[</span><a href=\"/w/index.php?title=John_D._Hunter&amp;action=edit&amp;section=4\" title=\"Edit section: Awards\">edit</a><span class=\"mw-editsection-bracket\">]</span></span></h2>\n",
              "<p><a href=\"/wiki/Python_Software_Foundation\" title=\"Python Software Foundation\">Python Software Foundation</a> awarded its first Distinguished Service Award — the Foundation's highest honor <sup class=\"reference\" id=\"cite_ref-python_14-0\"><a href=\"#cite_note-python-14\">[14]</a></sup> — to Hunter in order to recognize his long-term excellence in the Python community.<sup class=\"reference\" id=\"cite_ref-pyfound_15-0\"><a href=\"#cite_note-pyfound-15\">[15]</a></sup><sup class=\"reference\" id=\"cite_ref-groups2_16-0\"><a href=\"#cite_note-groups2-16\">[16]</a></sup>\n",
              "</p>\n",
              "<h2><span class=\"mw-headline\" id=\"Legacy\">Legacy</span><span class=\"mw-editsection\"><span class=\"mw-editsection-bracket\">[</span><a href=\"/w/index.php?title=John_D._Hunter&amp;action=edit&amp;section=5\" title=\"Edit section: Legacy\">edit</a><span class=\"mw-editsection-bracket\">]</span></span></h2>\n",
              "<p>From 2013 onwards, the SciPy Conference has hosted the annual John Hunter Excellence in Plotting Contest in his honor to continue the advancement of scientific plotting, where the first prize winner is awarded with $1000.<sup class=\"reference\" id=\"cite_ref-scipy_17-0\"><a href=\"#cite_note-scipy-17\">[17]</a></sup>\n",
              "</p>\n",
              "<h2><span class=\"mw-headline\" id=\"References\">References</span><span class=\"mw-editsection\"><span class=\"mw-editsection-bracket\">[</span><a href=\"/w/index.php?title=John_D._Hunter&amp;action=edit&amp;section=6\" title=\"Edit section: References\">edit</a><span class=\"mw-editsection-bracket\">]</span></span></h2>\n",
              "<style data-mw-deduplicate=\"TemplateStyles:r1011085734\">.mw-parser-output .reflist{font-size:90%;margin-bottom:0.5em;list-style-type:decimal}.mw-parser-output .reflist .references{font-size:100%;margin-bottom:0;list-style-type:inherit}.mw-parser-output .reflist-columns-2{column-width:30em}.mw-parser-output .reflist-columns-3{column-width:25em}.mw-parser-output .reflist-columns{margin-top:0.3em}.mw-parser-output .reflist-columns ol{margin-top:0}.mw-parser-output .reflist-columns li{page-break-inside:avoid;break-inside:avoid-column}.mw-parser-output .reflist-upper-alpha{list-style-type:upper-alpha}.mw-parser-output .reflist-upper-roman{list-style-type:upper-roman}.mw-parser-output .reflist-lower-alpha{list-style-type:lower-alpha}.mw-parser-output .reflist-lower-greek{list-style-type:lower-greek}.mw-parser-output .reflist-lower-roman{list-style-type:lower-roman}</style><div class=\"reflist\">\n",
              "<div class=\"mw-references-wrap mw-references-columns\"><ol class=\"references\">\n",
              "<li id=\"cite_note-matplotlib-1\"><span class=\"mw-cite-backlink\"><b><a href=\"#cite_ref-matplotlib_1-0\">^</a></b></span> <span class=\"reference-text\">Hunter, John D. \"Matplotlib: A 2D graphics environment.\" Computing in science and engineering 9.3 (2007): 90-95.</span>\n",
              "</li>\n",
              "<li id=\"cite_note-princeton-2\"><span class=\"mw-cite-backlink\"><b><a href=\"#cite_ref-princeton_2-0\">^</a></b></span> <span class=\"reference-text\"><style data-mw-deduplicate=\"TemplateStyles:r1133582631\">.mw-parser-output cite.citation{font-style:inherit;word-wrap:break-word}.mw-parser-output .citation q{quotes:\"\\\"\"\"\\\"\"\"'\"\"'\"}.mw-parser-output .citation:target{background-color:rgba(0,127,255,0.133)}.mw-parser-output .id-lock-free a,.mw-parser-output .citation .cs1-lock-free a{background:url(\"//upload.wikimedia.org/wikipedia/commons/6/65/Lock-green.svg\")right 0.1em center/9px no-repeat}.mw-parser-output .id-lock-limited a,.mw-parser-output .id-lock-registration a,.mw-parser-output .citation .cs1-lock-limited a,.mw-parser-output .citation .cs1-lock-registration a{background:url(\"//upload.wikimedia.org/wikipedia/commons/d/d6/Lock-gray-alt-2.svg\")right 0.1em center/9px no-repeat}.mw-parser-output .id-lock-subscription a,.mw-parser-output .citation .cs1-lock-subscription a{background:url(\"//upload.wikimedia.org/wikipedia/commons/a/aa/Lock-red-alt-2.svg\")right 0.1em center/9px no-repeat}.mw-parser-output .cs1-ws-icon a{background:url(\"//upload.wikimedia.org/wikipedia/commons/4/4c/Wikisource-logo.svg\")right 0.1em center/12px no-repeat}.mw-parser-output .cs1-code{color:inherit;background:inherit;border:none;padding:inherit}.mw-parser-output .cs1-hidden-error{display:none;color:#d33}.mw-parser-output .cs1-visible-error{color:#d33}.mw-parser-output .cs1-maint{display:none;color:#3a3;margin-left:0.3em}.mw-parser-output .cs1-format{font-size:95%}.mw-parser-output .cs1-kern-left{padding-left:0.2em}.mw-parser-output .cs1-kern-right{padding-right:0.2em}.mw-parser-output .citation .mw-selflink{font-weight:inherit}</style><cite class=\"citation web cs1\"><a class=\"external text\" href=\"http://paw.princeton.edu/issues/2012/12/12/sections/memorials/2519/\" rel=\"nofollow\">\"John D. Hunter '90\"</a>. 21 January 2016.</cite><span class=\"Z3988\" title=\"ctx_ver=Z39.88-2004&amp;rft_val_fmt=info%3Aofi%2Ffmt%3Akev%3Amtx%3Abook&amp;rft.genre=unknown&amp;rft.btitle=John+D.+Hunter+%2790&amp;rft.date=2016-01-21&amp;rft_id=http%3A%2F%2Fpaw.princeton.edu%2Fissues%2F2012%2F12%2F12%2Fsections%2Fmemorials%2F2519%2F&amp;rfr_id=info%3Asid%2Fen.wikipedia.org%3AJohn+D.+Hunter\"></span></span>\n",
              "</li>\n",
              "<li id=\"cite_note-pardalos-3\"><span class=\"mw-cite-backlink\"><b><a href=\"#cite_ref-pardalos_3-0\">^</a></b></span> <span class=\"reference-text\"><link href=\"mw-data:TemplateStyles:r1133582631\" rel=\"mw-deduplicated-inline-style\"/><cite class=\"citation book cs1\" id=\"CITEREFPardalos,_P._M.Sackellares,_J._C.Carney,_P._R.Iasemidis,_L._D.2004\">Pardalos, P. M.; Sackellares, J. C.; Carney, P. R.; Iasemidis, L. D., eds. (2004). <i>Quantitative neuroscience: models, algorithms, diagnostics, and therapeutic applications</i>. Vol. 2. Springer Science &amp; Business Media.</cite><span class=\"Z3988\" title=\"ctx_ver=Z39.88-2004&amp;rft_val_fmt=info%3Aofi%2Ffmt%3Akev%3Amtx%3Abook&amp;rft.genre=book&amp;rft.btitle=Quantitative+neuroscience%3A+models%2C+algorithms%2C+diagnostics%2C+and+therapeutic+applications&amp;rft.pub=Springer+Science+%26+Business+Media&amp;rft.date=2004&amp;rfr_id=info%3Asid%2Fen.wikipedia.org%3AJohn+D.+Hunter\"></span></span>\n",
              "</li>\n",
              "<li id=\"cite_note-auto-4\"><span class=\"mw-cite-backlink\">^ <a href=\"#cite_ref-auto_4-0\"><sup><i><b>a</b></i></sup></a> <a href=\"#cite_ref-auto_4-1\"><sup><i><b>b</b></i></sup></a></span> <span class=\"reference-text\"><link href=\"mw-data:TemplateStyles:r1133582631\" rel=\"mw-deduplicated-inline-style\"/><cite class=\"citation book cs1\" id=\"CITEREFKristian_Hermansen2012\">Kristian Hermansen (2012).  Brown, A.; Wilson, G. (eds.). <i>The architecture of open source applications</i>. Vol. ii. Lulu.</cite><span class=\"Z3988\" title=\"ctx_ver=Z39.88-2004&amp;rft_val_fmt=info%3Aofi%2Ffmt%3Akev%3Amtx%3Abook&amp;rft.genre=book&amp;rft.btitle=The+architecture+of+open+source+applications&amp;rft.pub=Lulu&amp;rft.date=2012&amp;rft.au=Kristian+Hermansen&amp;rfr_id=info%3Asid%2Fen.wikipedia.org%3AJohn+D.+Hunter\"></span></span>\n",
              "</li>\n",
              "<li id=\"cite_note-numfocus1-5\"><span class=\"mw-cite-backlink\"><b><a href=\"#cite_ref-numfocus1_5-0\">^</a></b></span> <span class=\"reference-text\"><link href=\"mw-data:TemplateStyles:r1133582631\" rel=\"mw-deduplicated-inline-style\"/><cite class=\"citation web cs1\"><a class=\"external text\" href=\"https://web.archive.org/web/20150906204329/http://numfocus.org/foundation/minutes/board-meeting-minutes2012-05-16.html\" rel=\"nofollow\">\"Minutes\"</a>. <i>NumFOCUS.org</i>. May 16, 2012. Archived from <a class=\"external text\" href=\"http://numfocus.org/foundation/minutes/board-meeting-minutes2012-05-16.html\" rel=\"nofollow\">the original</a> on 2015-09-06<span class=\"reference-accessdate\">. Retrieved <span class=\"nowrap\">2015-04-01</span></span>.</cite><span class=\"Z3988\" title=\"ctx_ver=Z39.88-2004&amp;rft_val_fmt=info%3Aofi%2Ffmt%3Akev%3Amtx%3Ajournal&amp;rft.genre=unknown&amp;rft.jtitle=NumFOCUS.org&amp;rft.atitle=Minutes&amp;rft.date=2012-05-16&amp;rft_id=http%3A%2F%2Fnumfocus.org%2Ffoundation%2Fminutes%2Fboard-meeting-minutes2012-05-16.html&amp;rfr_id=info%3Asid%2Fen.wikipedia.org%3AJohn+D.+Hunter\"></span> NumFOCUS First Minutes of Meeting</span>\n",
              "</li>\n",
              "<li id=\"cite_note-sheppard-6\"><span class=\"mw-cite-backlink\"><b><a href=\"#cite_ref-sheppard_6-0\">^</a></b></span> <span class=\"reference-text\">Sheppard, K. (2014). Introduction to Python for econometrics, statistics and data analysis. Selfpublished, University of Oxford, version, 2.</span>\n",
              "</li>\n",
              "<li id=\"cite_note-xkcd-7\"><span class=\"mw-cite-backlink\"><b><a href=\"#cite_ref-xkcd_7-0\">^</a></b></span> <span class=\"reference-text\"><link href=\"mw-data:TemplateStyles:r1133582631\" rel=\"mw-deduplicated-inline-style\"/><cite class=\"citation web cs1\"><a class=\"external text\" href=\"http://matplotlib.org/xkcd/users/screenshots.html#ellipses\" rel=\"nofollow\">\"Screenshots — Matplotlib 1.3.x documentation\"</a>. <i>matplotlib.org</i>.</cite><span class=\"Z3988\" title=\"ctx_ver=Z39.88-2004&amp;rft_val_fmt=info%3Aofi%2Ffmt%3Akev%3Amtx%3Ajournal&amp;rft.genre=unknown&amp;rft.jtitle=matplotlib.org&amp;rft.atitle=Screenshots+%E2%80%94+Matplotlib+1.3.x+documentation&amp;rft_id=http%3A%2F%2Fmatplotlib.org%2Fxkcd%2Fusers%2Fscreenshots.html%23ellipses&amp;rfr_id=info%3Asid%2Fen.wikipedia.org%3AJohn+D.+Hunter\"></span></span>\n",
              "</li>\n",
              "<li id=\"cite_note-m87-8\"><span class=\"mw-cite-backlink\"><b><a href=\"#cite_ref-m87_8-0\">^</a></b></span> <span class=\"reference-text\"><link href=\"mw-data:TemplateStyles:r1133582631\" rel=\"mw-deduplicated-inline-style\"/><cite class=\"citation journal cs1\" id=\"CITEREFAkiyama2019\">Akiyama, Kazunori;  et al. (2019). <a class=\"external text\" href=\"https://doi.org/10.3847%2F2041-8213%2Fab0c57\" rel=\"nofollow\">\"First M87 Event Horizon Telescope Results. III. Data Processing and Calibration\"</a>. <i>The Astrophysical Journal</i>. <b>875</b> (1): L3. <a class=\"mw-redirect\" href=\"/wiki/ArXiv_(identifier)\" title=\"ArXiv (identifier)\">arXiv</a>:<span class=\"cs1-lock-free\" title=\"Freely accessible\"><a class=\"external text\" href=\"//arxiv.org/abs/1906.11240\" rel=\"nofollow\">1906.11240</a></span>. <a class=\"mw-redirect\" href=\"/wiki/Bibcode_(identifier)\" title=\"Bibcode (identifier)\">Bibcode</a>:<a class=\"external text\" href=\"https://ui.adsabs.harvard.edu/abs/2019ApJ...875L...3E\" rel=\"nofollow\">2019ApJ...875L...3E</a>. <a class=\"mw-redirect\" href=\"/wiki/Doi_(identifier)\" title=\"Doi (identifier)\">doi</a>:<span class=\"cs1-lock-free\" title=\"Freely accessible\"><a class=\"external text\" href=\"https://doi.org/10.3847%2F2041-8213%2Fab0c57\" rel=\"nofollow\">10.3847/2041-8213/ab0c57</a></span>.</cite><span class=\"Z3988\" title=\"ctx_ver=Z39.88-2004&amp;rft_val_fmt=info%3Aofi%2Ffmt%3Akev%3Amtx%3Ajournal&amp;rft.genre=article&amp;rft.jtitle=The+Astrophysical+Journal&amp;rft.atitle=First+M87+Event+Horizon+Telescope+Results.+III.+Data+Processing+and+Calibration&amp;rft.volume=875&amp;rft.issue=1&amp;rft.pages=L3&amp;rft.date=2019&amp;rft_id=info%3Aarxiv%2F1906.11240&amp;rft_id=info%3Adoi%2F10.3847%2F2041-8213%2Fab0c57&amp;rft_id=info%3Abibcode%2F2019ApJ...875L...3E&amp;rft.aulast=Akiyama&amp;rft.aufirst=Kazunori&amp;rft_id=%2F%2Fdoi.org%2F10.3847%252F2041-8213%252Fab0c57&amp;rfr_id=info%3Asid%2Fen.wikipedia.org%3AJohn+D.+Hunter\"></span></span>\n",
              "</li>\n",
              "<li id=\"cite_note-groups1-9\"><span class=\"mw-cite-backlink\"><b><a href=\"#cite_ref-groups1_9-0\">^</a></b></span> <span class=\"reference-text\"><link href=\"mw-data:TemplateStyles:r1133582631\" rel=\"mw-deduplicated-inline-style\"/><cite class=\"citation web cs1\"><a class=\"external text\" href=\"https://groups.google.com/forum/#!msg/pydata/FpwXp3sX6N8/mxopkZ1PkBQJ\" rel=\"nofollow\">\"Google Groups\"</a>. <i>groups.google.com</i>.</cite><span class=\"Z3988\" title=\"ctx_ver=Z39.88-2004&amp;rft_val_fmt=info%3Aofi%2Ffmt%3Akev%3Amtx%3Ajournal&amp;rft.genre=unknown&amp;rft.jtitle=groups.google.com&amp;rft.atitle=Google+Groups&amp;rft_id=https%3A%2F%2Fgroups.google.com%2Fforum%2F%23%21msg%2Fpydata%2FFpwXp3sX6N8%2FmxopkZ1PkBQJ&amp;rfr_id=info%3Asid%2Fen.wikipedia.org%3AJohn+D.+Hunter\"></span></span>\n",
              "</li>\n",
              "<li id=\"cite_note-sg-10\"><span class=\"mw-cite-backlink\"><b><a href=\"#cite_ref-sg_10-0\">^</a></b></span> <span class=\"reference-text\"><link href=\"mw-data:TemplateStyles:r1133582631\" rel=\"mw-deduplicated-inline-style\"/><cite class=\"citation web cs1\"><a class=\"external text\" href=\"http://www.stategazette.com/story/1892051.html\" rel=\"nofollow\">\"Obituaries for September 9, 2012\"</a>. 9 September 2012.</cite><span class=\"Z3988\" title=\"ctx_ver=Z39.88-2004&amp;rft_val_fmt=info%3Aofi%2Ffmt%3Akev%3Amtx%3Abook&amp;rft.genre=unknown&amp;rft.btitle=Obituaries+for+September+9%2C+2012&amp;rft.date=2012-09-09&amp;rft_id=http%3A%2F%2Fwww.stategazette.com%2Fstory%2F1892051.html&amp;rfr_id=info%3Asid%2Fen.wikipedia.org%3AJohn+D.+Hunter\"></span></span>\n",
              "</li>\n",
              "<li id=\"cite_note-uchicago-11\"><span class=\"mw-cite-backlink\"><b><a href=\"#cite_ref-uchicago_11-0\">^</a></b></span> <span class=\"reference-text\"><link href=\"mw-data:TemplateStyles:r1133582631\" rel=\"mw-deduplicated-inline-style\"/><cite class=\"citation web cs1\"><a class=\"external text\" href=\"http://mag.uchicago.edu/university-news/university-obituaries-8\" rel=\"nofollow\">\"University obituaries - The University of Chicago Magazine\"</a>. <i>mag.uchicago.edu</i>.</cite><span class=\"Z3988\" title=\"ctx_ver=Z39.88-2004&amp;rft_val_fmt=info%3Aofi%2Ffmt%3Akev%3Amtx%3Ajournal&amp;rft.genre=unknown&amp;rft.jtitle=mag.uchicago.edu&amp;rft.atitle=University+obituaries+-+The+University+of+Chicago+Magazine&amp;rft_id=http%3A%2F%2Fmag.uchicago.edu%2Funiversity-news%2Funiversity-obituaries-8&amp;rfr_id=info%3Asid%2Fen.wikipedia.org%3AJohn+D.+Hunter\"></span></span>\n",
              "</li>\n",
              "<li id=\"cite_note-fperez-12\"><span class=\"mw-cite-backlink\"><b><a href=\"#cite_ref-fperez_12-0\">^</a></b></span> <span class=\"reference-text\"><link href=\"mw-data:TemplateStyles:r1133582631\" rel=\"mw-deduplicated-inline-style\"/><cite class=\"citation web cs1\"><a class=\"external text\" href=\"http://blog.fperez.org/2013/07/in-memoriam-john-d-hunter-iii-1968-2012.html\" rel=\"nofollow\">\"In Memoriam, John D. Hunter III: 1968-2012\"</a>. <i>blog.fperez.org</i>.</cite><span class=\"Z3988\" title=\"ctx_ver=Z39.88-2004&amp;rft_val_fmt=info%3Aofi%2Ffmt%3Akev%3Amtx%3Ajournal&amp;rft.genre=unknown&amp;rft.jtitle=blog.fperez.org&amp;rft.atitle=In+Memoriam%2C+John+D.+Hunter+III%3A+1968-2012&amp;rft_id=http%3A%2F%2Fblog.fperez.org%2F2013%2F07%2Fin-memoriam-john-d-hunter-iii-1968-2012.html&amp;rfr_id=info%3Asid%2Fen.wikipedia.org%3AJohn+D.+Hunter\"></span></span>\n",
              "</li>\n",
              "<li id=\"cite_note-numfocus2-13\"><span class=\"mw-cite-backlink\"><b><a href=\"#cite_ref-numfocus2_13-0\">^</a></b></span> <span class=\"reference-text\"><link href=\"mw-data:TemplateStyles:r1133582631\" rel=\"mw-deduplicated-inline-style\"/><cite class=\"citation web cs1\"><a class=\"external text\" href=\"https://web.archive.org/web/20140714015548/http://numfocus.org/news/2012/08/28/johnhunter/\" rel=\"nofollow\">\"NumFOCUS Foundation -\"</a>. <i>numfocus.org</i>. Archived from <a class=\"external text\" href=\"http://numfocus.org/news/2012/08/28/johnhunter\" rel=\"nofollow\">the original</a> on 2014-07-14.</cite><span class=\"Z3988\" title=\"ctx_ver=Z39.88-2004&amp;rft_val_fmt=info%3Aofi%2Ffmt%3Akev%3Amtx%3Ajournal&amp;rft.genre=unknown&amp;rft.jtitle=numfocus.org&amp;rft.atitle=NumFOCUS+Foundation+-&amp;rft_id=http%3A%2F%2Fnumfocus.org%2Fnews%2F2012%2F08%2F28%2Fjohnhunter&amp;rfr_id=info%3Asid%2Fen.wikipedia.org%3AJohn+D.+Hunter\"></span> </span>\n",
              "</li>\n",
              "<li id=\"cite_note-python-14\"><span class=\"mw-cite-backlink\"><b><a href=\"#cite_ref-python_14-0\">^</a></b></span> <span class=\"reference-text\"><link href=\"mw-data:TemplateStyles:r1133582631\" rel=\"mw-deduplicated-inline-style\"/><cite class=\"citation web cs1\"><a class=\"external text\" href=\"https://www.python.org/community/awards/psf-distinguished-awards/\" rel=\"nofollow\">\"PSF Distinguished Service Awards\"</a>. <i>Python.org</i>.</cite><span class=\"Z3988\" title=\"ctx_ver=Z39.88-2004&amp;rft_val_fmt=info%3Aofi%2Ffmt%3Akev%3Amtx%3Ajournal&amp;rft.genre=unknown&amp;rft.jtitle=Python.org&amp;rft.atitle=PSF+Distinguished+Service+Awards&amp;rft_id=https%3A%2F%2Fwww.python.org%2Fcommunity%2Fawards%2Fpsf-distinguished-awards%2F&amp;rfr_id=info%3Asid%2Fen.wikipedia.org%3AJohn+D.+Hunter\"></span></span>\n",
              "</li>\n",
              "<li id=\"cite_note-pyfound-15\"><span class=\"mw-cite-backlink\"><b><a href=\"#cite_ref-pyfound_15-0\">^</a></b></span> <span class=\"reference-text\"><link href=\"mw-data:TemplateStyles:r1133582631\" rel=\"mw-deduplicated-inline-style\"/><cite class=\"citation web cs1\"><a class=\"external text\" href=\"http://pyfound.blogspot.in/2012/09/announcing-2012-distinctive-service.html\" rel=\"nofollow\">\"Announcing the 2012 Distinguished Service Award - John Hunter\"</a>. <i>pyfound.blogspot.in</i>. 14 September 2012.</cite><span class=\"Z3988\" title=\"ctx_ver=Z39.88-2004&amp;rft_val_fmt=info%3Aofi%2Ffmt%3Akev%3Amtx%3Ajournal&amp;rft.genre=unknown&amp;rft.jtitle=pyfound.blogspot.in&amp;rft.atitle=Announcing+the+2012+Distinguished+Service+Award+-+John+Hunter&amp;rft.date=2012-09-14&amp;rft_id=http%3A%2F%2Fpyfound.blogspot.in%2F2012%2F09%2Fannouncing-2012-distinctive-service.html&amp;rfr_id=info%3Asid%2Fen.wikipedia.org%3AJohn+D.+Hunter\"></span></span>\n",
              "</li>\n",
              "<li id=\"cite_note-groups2-16\"><span class=\"mw-cite-backlink\"><b><a href=\"#cite_ref-groups2_16-0\">^</a></b></span> <span class=\"reference-text\"><link href=\"mw-data:TemplateStyles:r1133582631\" rel=\"mw-deduplicated-inline-style\"/><cite class=\"citation web cs1\"><a class=\"external text\" href=\"https://groups.google.com/forum/#!topic/numfocus/R0KKd_3NQzM\" rel=\"nofollow\">\"Redirecting to Google Groups\"</a>.</cite><span class=\"Z3988\" title=\"ctx_ver=Z39.88-2004&amp;rft_val_fmt=info%3Aofi%2Ffmt%3Akev%3Amtx%3Abook&amp;rft.genre=unknown&amp;rft.btitle=Redirecting+to+Google+Groups&amp;rft_id=https%3A%2F%2Fgroups.google.com%2Fforum%2F%23%21topic%2Fnumfocus%2FR0KKd_3NQzM&amp;rfr_id=info%3Asid%2Fen.wikipedia.org%3AJohn+D.+Hunter\"></span></span>\n",
              "</li>\n",
              "<li id=\"cite_note-scipy-17\"><span class=\"mw-cite-backlink\"><b><a href=\"#cite_ref-scipy_17-0\">^</a></b></span> <span class=\"reference-text\"><link href=\"mw-data:TemplateStyles:r1133582631\" rel=\"mw-deduplicated-inline-style\"/><cite class=\"citation web cs1\"><a class=\"external text\" href=\"http://www.scipy2015.scipy.org/ehome/115969/276538/\" rel=\"nofollow\">\"Excellence in Plotting Contest - SciPy 2015 Conference\"</a>.</cite><span class=\"Z3988\" title=\"ctx_ver=Z39.88-2004&amp;rft_val_fmt=info%3Aofi%2Ffmt%3Akev%3Amtx%3Abook&amp;rft.genre=unknown&amp;rft.btitle=Excellence+in+Plotting+Contest+-+SciPy+2015+Conference&amp;rft_id=http%3A%2F%2Fwww.scipy2015.scipy.org%2Fehome%2F115969%2F276538%2F&amp;rfr_id=info%3Asid%2Fen.wikipedia.org%3AJohn+D.+Hunter\"></span></span>\n",
              "</li>\n",
              "</ol></div></div>\n",
              "<!-- \n",
              "NewPP limit report\n",
              "Parsed by mw2391\n",
              "Cached time: 20230123132158\n",
              "Cache expiry: 86400\n",
              "Reduced expiry: true\n",
              "Complications: [vary‐revision‐sha1, show‐toc]\n",
              "CPU time usage: 0.251 seconds\n",
              "Real time usage: 0.331 seconds\n",
              "Preprocessor visited node count: 2491/1000000\n",
              "Post‐expand include size: 26902/2097152 bytes\n",
              "Template argument size: 1630/2097152 bytes\n",
              "Highest expansion depth: 19/100\n",
              "Expensive parser function count: 0/500\n",
              "Unstrip recursion depth: 1/20\n",
              "Unstrip post‐expand size: 42431/5000000 bytes\n",
              "Lua time usage: 0.153/10.000 seconds\n",
              "Lua memory usage: 7850104/52428800 bytes\n",
              "Number of Wikibase entities loaded: 1/400\n",
              "-->\n",
              "<!--\n",
              "Transclusion expansion time report (%,ms,calls,template)\n",
              "100.00%  312.639      1 -total\n",
              " 53.03%  165.784      1 Template:Infobox_scientist\n",
              " 51.25%  160.240      1 Template:Infobox_person\n",
              " 39.25%  122.712      1 Template:Reflist\n",
              " 28.00%   87.527     12 Template:Cite_web\n",
              " 19.94%   62.355      5 Template:Br_separated_entries\n",
              " 13.40%   41.884      1 Template:Birth_date\n",
              "  8.88%   27.778     20 Template:Pluralize_from_text\n",
              "  5.44%   17.009      1 Template:Authority_control\n",
              "  4.76%   14.875      1 Template:Infobox\n",
              "-->\n",
              "<!-- Saved in parser cache with key enwiki:pcache:idhash:45714542-0!canonical and timestamp 20230123132157 and revision id 1102368745.\n",
              " -->\n",
              "</div><!--esi <esi:include src=\"/esitest-fa8a495983347898/content\" /> --><noscript><img alt=\"\" height=\"1\" src=\"//en.wikipedia.org/wiki/Special:CentralAutoLogin/start?type=1x1\" style=\"border: none; position: absolute;\" title=\"\" width=\"1\"/></noscript>\n",
              "<div class=\"printfooter\" data-nosnippet=\"\">Retrieved from \"<a dir=\"ltr\" href=\"https://en.wikipedia.org/w/index.php?title=John_D._Hunter&amp;oldid=1102368745\">https://en.wikipedia.org/w/index.php?title=John_D._Hunter&amp;oldid=1102368745</a>\"</div></div>\n",
              "<div class=\"catlinks\" data-mw=\"interface\" id=\"catlinks\"><div class=\"mw-normal-catlinks\" id=\"mw-normal-catlinks\"><a href=\"/wiki/Help:Category\" title=\"Help:Category\">Categories</a>: <ul><li><a href=\"/wiki/Category:1968_births\" title=\"Category:1968 births\">1968 births</a></li><li><a href=\"/wiki/Category:2012_deaths\" title=\"Category:2012 deaths\">2012 deaths</a></li><li><a href=\"/wiki/Category:American_neuroscientists\" title=\"Category:American neuroscientists\">American neuroscientists</a></li><li><a href=\"/wiki/Category:Princeton_University_alumni\" title=\"Category:Princeton University alumni\">Princeton University alumni</a></li><li><a href=\"/wiki/Category:University_of_Chicago_alumni\" title=\"Category:University of Chicago alumni\">University of Chicago alumni</a></li><li><a href=\"/wiki/Category:People_from_Dyersburg,_Tennessee\" title=\"Category:People from Dyersburg, Tennessee\">People from Dyersburg, Tennessee</a></li><li><a href=\"/wiki/Category:Open_source_people\" title=\"Category:Open source people\">Open source people</a></li><li><a href=\"/wiki/Category:Python_(programming_language)_people\" title=\"Category:Python (programming language) people\">Python (programming language) people</a></li></ul></div><div class=\"mw-hidden-catlinks mw-hidden-cats-hidden\" id=\"mw-hidden-catlinks\">Hidden categories: <ul><li><a href=\"/wiki/Category:Articles_with_hCards\" title=\"Category:Articles with hCards\">Articles with hCards</a></li></ul></div></div>\n",
              "</div>\n",
              "</main>\n",
              "</div>\n",
              "<div class=\"mw-footer-container\">\n",
              "<footer class=\"mw-footer\" id=\"footer\" role=\"contentinfo\">\n",
              "<ul id=\"footer-info\">\n",
              "<li id=\"footer-info-lastmod\"> This page was last edited on 4 August 2022, at 18:28<span class=\"anonymous-show\"> (UTC)</span>.</li>\n",
              "<li id=\"footer-info-copyright\">Text is available under the <a href=\"//en.wikipedia.org/wiki/Wikipedia:Text_of_the_Creative_Commons_Attribution-ShareAlike_3.0_Unported_License\" rel=\"license\">Creative Commons Attribution-ShareAlike License 3.0</a><a href=\"//creativecommons.org/licenses/by-sa/3.0/\" rel=\"license\" style=\"display:none;\"></a>;\n",
              "additional terms may apply.  By using this site, you agree to the <a href=\"//foundation.wikimedia.org/wiki/Terms_of_Use\">Terms of Use</a> and <a href=\"//foundation.wikimedia.org/wiki/Privacy_policy\">Privacy Policy</a>. Wikipedia® is a registered trademark of the <a href=\"//www.wikimediafoundation.org/\">Wikimedia Foundation, Inc.</a>, a non-profit organization.</li>\n",
              "</ul>\n",
              "<ul id=\"footer-places\">\n",
              "<li id=\"footer-places-privacy\"><a href=\"https://foundation.wikimedia.org/wiki/Privacy_policy\">Privacy policy</a></li>\n",
              "<li id=\"footer-places-about\"><a href=\"/wiki/Wikipedia:About\">About Wikipedia</a></li>\n",
              "<li id=\"footer-places-disclaimers\"><a href=\"/wiki/Wikipedia:General_disclaimer\">Disclaimers</a></li>\n",
              "<li id=\"footer-places-contact\"><a href=\"//en.wikipedia.org/wiki/Wikipedia:Contact_us\">Contact Wikipedia</a></li>\n",
              "<li id=\"footer-places-mobileview\"><a class=\"noprint stopMobileRedirectToggle\" href=\"//en.m.wikipedia.org/w/index.php?title=John_D._Hunter&amp;mobileaction=toggle_view_mobile\">Mobile view</a></li>\n",
              "<li id=\"footer-places-developers\"><a href=\"https://developer.wikimedia.org\">Developers</a></li>\n",
              "<li id=\"footer-places-statslink\"><a href=\"https://stats.wikimedia.org/#/en.wikipedia.org\">Statistics</a></li>\n",
              "<li id=\"footer-places-cookiestatement\"><a href=\"https://foundation.wikimedia.org/wiki/Cookie_statement\">Cookie statement</a></li>\n",
              "</ul>\n",
              "<ul class=\"noprint\" id=\"footer-icons\">\n",
              "<li id=\"footer-copyrightico\"><a href=\"https://wikimediafoundation.org/\"><img alt=\"Wikimedia Foundation\" height=\"31\" loading=\"lazy\" src=\"/static/images/footer/wikimedia-button.png\" srcset=\"/static/images/footer/wikimedia-button-1.5x.png 1.5x, /static/images/footer/wikimedia-button-2x.png 2x\" width=\"88\"/></a></li>\n",
              "<li id=\"footer-poweredbyico\"><a href=\"https://www.mediawiki.org/\"><img alt=\"Powered by MediaWiki\" height=\"31\" loading=\"lazy\" src=\"/static/images/footer/poweredby_mediawiki_88x31.png\" srcset=\"/static/images/footer/poweredby_mediawiki_132x47.png 1.5x, /static/images/footer/poweredby_mediawiki_176x62.png 2x\" width=\"88\"/></a></li>\n",
              "</ul>\n",
              "</footer>\n",
              "</div>\n",
              "</div>\n",
              "</div>\n",
              "<script>(RLQ=window.RLQ||[]).push(function(){mw.config.set({\"wgPageParseReport\":{\"limitreport\":{\"cputime\":\"0.251\",\"walltime\":\"0.331\",\"ppvisitednodes\":{\"value\":2491,\"limit\":1000000},\"postexpandincludesize\":{\"value\":26902,\"limit\":2097152},\"templateargumentsize\":{\"value\":1630,\"limit\":2097152},\"expansiondepth\":{\"value\":19,\"limit\":100},\"expensivefunctioncount\":{\"value\":0,\"limit\":500},\"unstrip-depth\":{\"value\":1,\"limit\":20},\"unstrip-size\":{\"value\":42431,\"limit\":5000000},\"entityaccesscount\":{\"value\":1,\"limit\":400},\"timingprofile\":[\"100.00%  312.639      1 -total\",\" 53.03%  165.784      1 Template:Infobox_scientist\",\" 51.25%  160.240      1 Template:Infobox_person\",\" 39.25%  122.712      1 Template:Reflist\",\" 28.00%   87.527     12 Template:Cite_web\",\" 19.94%   62.355      5 Template:Br_separated_entries\",\" 13.40%   41.884      1 Template:Birth_date\",\"  8.88%   27.778     20 Template:Pluralize_from_text\",\"  5.44%   17.009      1 Template:Authority_control\",\"  4.76%   14.875      1 Template:Infobox\"]},\"scribunto\":{\"limitreport-timeusage\":{\"value\":\"0.153\",\"limit\":\"10.000\"},\"limitreport-memusage\":{\"value\":7850104,\"limit\":52428800}},\"cachereport\":{\"origin\":\"mw2391\",\"timestamp\":\"20230123132158\",\"ttl\":86400,\"transientcontent\":true}}});});</script>\n",
              "<script type=\"application/ld+json\">{\"@context\":\"https:\\/\\/schema.org\",\"@type\":\"Article\",\"name\":\"John D. Hunter\",\"url\":\"https:\\/\\/en.wikipedia.org\\/wiki\\/John_D._Hunter\",\"sameAs\":\"http:\\/\\/www.wikidata.org\\/entity\\/Q17278587\",\"mainEntity\":\"http:\\/\\/www.wikidata.org\\/entity\\/Q17278587\",\"author\":{\"@type\":\"Organization\",\"name\":\"Contributors to Wikimedia projects\"},\"publisher\":{\"@type\":\"Organization\",\"name\":\"Wikimedia Foundation, Inc.\",\"logo\":{\"@type\":\"ImageObject\",\"url\":\"https:\\/\\/www.wikimedia.org\\/static\\/images\\/wmf-hor-googpub.png\"}},\"datePublished\":\"2015-03-19T10:00:49Z\",\"dateModified\":\"2022-08-04T18:28:01Z\",\"headline\":\"neuroscientist, creator of Matplotlib\"}</script><script type=\"application/ld+json\">{\"@context\":\"https:\\/\\/schema.org\",\"@type\":\"Article\",\"name\":\"John D. Hunter\",\"url\":\"https:\\/\\/en.wikipedia.org\\/wiki\\/John_D._Hunter\",\"sameAs\":\"http:\\/\\/www.wikidata.org\\/entity\\/Q17278587\",\"mainEntity\":\"http:\\/\\/www.wikidata.org\\/entity\\/Q17278587\",\"author\":{\"@type\":\"Organization\",\"name\":\"Contributors to Wikimedia projects\"},\"publisher\":{\"@type\":\"Organization\",\"name\":\"Wikimedia Foundation, Inc.\",\"logo\":{\"@type\":\"ImageObject\",\"url\":\"https:\\/\\/www.wikimedia.org\\/static\\/images\\/wmf-hor-googpub.png\"}},\"datePublished\":\"2015-03-19T10:00:49Z\",\"dateModified\":\"2022-08-04T18:28:01Z\",\"headline\":\"neuroscientist, creator of Matplotlib\"}</script>\n",
              "<script>(RLQ=window.RLQ||[]).push(function(){mw.config.set({\"wgBackendResponseTime\":93,\"wgHostname\":\"mw2377\"});});</script>\n",
              "</body>\n",
              "</html>"
            ]
          },
          "metadata": {},
          "execution_count": 7
        }
      ]
    },
    {
      "cell_type": "code",
      "source": [
        "# Extract the plain text content from paragraphs\n",
        "text = ''\n",
        "for paragraph in soup.find_all('p'):\n",
        "    text += paragraph.text\n",
        "    \n",
        "text"
      ],
      "metadata": {
        "colab": {
          "base_uri": "https://localhost:8080/",
          "height": 122
        },
        "id": "5YCz4-ZPECjA",
        "outputId": "2f353ac5-c6fc-4ca2-b6d1-074762fdb692"
      },
      "execution_count": null,
      "outputs": [
        {
          "output_type": "execute_result",
          "data": {
            "text/plain": [
              "\"\\n\\t\\t\\t\\tPages for logged out editors learn more\\nJohn D. Hunter (August 1, 1968 – August 28, 2012) was an American neurobiologist and the original author of Matplotlib.[1]\\nHe was brought up in Dyersburg, Tennessee. He graduated from The McCallie School. He studied initially at Princeton University, later he obtained a Ph.D. in neurobiology from the University of Chicago in 2004.[2][3] In 2005, he joined TradeLink Securities as a Quantitative Analyst.[4] Later, he was one of the founding directors of NumFOCUS Foundation.[5]\\nMatplotlib was originally  conceived to visualize electrocorticography (ECoG) data of epilepsy patients during post-doctoral research in neurobiology.[4] The open-source tool  emerged as the most widely used plotting library for the Python programming language, and a core component of the scientific Python stack, along with NumPy, SciPy and IPython.[6] Matplotlib was used for data visualization during landing of the Phoenix spacecraft in 2008 as well as for the creation of the first image of a black hole.[7][8]\\nHe was diagnosed with malignant colon cancer and died from cancer treatment complications on August 28, 2012.[9][10][11] His memorial service was held at the University of Chicago's Rockefeller Chapel (which was also the location of his Ph.D. graduation) on October 1, 2012.[12] He is survived by his wife Miriam, and three daughters: Clara, Ava, and Rahel. A memorial fund to honor his work has been established to help with the education of his three daughters.[13]\\nPython Software Foundation awarded its first Distinguished Service Award — the Foundation's highest honor [14] — to Hunter in order to recognize his long-term excellence in the Python community.[15][16]\\nFrom 2013 onwards, the SciPy Conference has hosted the annual John Hunter Excellence in Plotting Contest in his honor to continue the advancement of scientific plotting, where the first prize winner is awarded with $1000.[17]\\n\""
            ],
            "application/vnd.google.colaboratory.intrinsic+json": {
              "type": "string"
            }
          },
          "metadata": {},
          "execution_count": 8
        }
      ]
    },
    {
      "cell_type": "code",
      "source": [
        "#what if we wanted to scrape text from multiple wikipedia links? let's say, 3? what might we do?\n",
        "#hint: we might start by making a list of the links we want to scrape"
      ],
      "metadata": {
        "id": "jFO3ng_3EMO0"
      },
      "execution_count": null,
      "outputs": []
    },
    {
      "cell_type": "code",
      "source": [
        "#what if we wanted to put the texts from our 3 links into a pandas dataframe? maybe with the link in one row, and then the text in another?"
      ],
      "metadata": {
        "id": "K25GbVY9EifI"
      },
      "execution_count": null,
      "outputs": []
    },
    {
      "cell_type": "markdown",
      "source": [
        "**apis**\n",
        "\n",
        "ok now we'll take a few moments to discuss apis\n",
        "\n",
        "then we'll play with some sample code with the twitter api, which, as you will recall, you got your bearer token for yesterday\n",
        "\n",
        "remember, share this with no one! and don't post it in a public place online. you'll need to fill it in the code below for it to work"
      ],
      "metadata": {
        "id": "CUtRCQbh7jmL"
      }
    },
    {
      "cell_type": "code",
      "source": [
        "#twitter scrape sample with changing access token\n",
        "\n",
        "#import libraries\n",
        "\n",
        "import requests\n",
        "import os\n",
        "import json\n",
        "import time\n",
        "import pandas as pd"
      ],
      "metadata": {
        "id": "NOnxgefKALIk"
      },
      "execution_count": null,
      "outputs": []
    },
    {
      "cell_type": "code",
      "source": [
        "#put in your individual bearer token (DO NOT USE MINE!!!!)\n",
        "\n",
        "bearer_token = ''"
      ],
      "metadata": {
        "id": "7CT2dejS8Dtf"
      },
      "execution_count": null,
      "outputs": []
    },
    {
      "cell_type": "code",
      "source": [
        "#create some functions to prepare for scraping (this does not need to make sense! don't worry!)\n",
        "def create_headers(bearer_token):\n",
        "    headers = {\"Authorization\": \"Bearer {}\".format(bearer_token)}\n",
        "    return headers\n",
        "\n",
        "\n",
        "def connect_to_endpoint(url, headers, params):\n",
        "    response = requests.request(\"GET\", search_url, headers=headers, params=params)\n",
        "    # print(response.status_code)\n",
        "    if response.status_code != 200:\n",
        "        print('OOPS')\n",
        "        raise Exception(response.status_code, response.text)\n",
        "    return response.json()"
      ],
      "metadata": {
        "id": "9E-7n6N_8KrU"
      },
      "execution_count": null,
      "outputs": []
    },
    {
      "cell_type": "code",
      "source": [
        "# SMALL TEST QUERY\n",
        "# Optional params: start_time,end_time,since_id,until_id,max_results,next_token,\n",
        "# expansions,tweet.fields,media.fields,poll.fields,place.fields,user.fields\n",
        "\n",
        "#scrape by user using their handle; if you want two users add an OR after the first 'from:' and pu in another\n",
        "\n",
        "query_params = {'query': 'from:elonmusk lang:en -is:retweet -is:reply',\n",
        "                'tweet.fields': 'author_id,created_at,conversation_id,public_metrics',\n",
        "                 'max_results': 10}"
      ],
      "metadata": {
        "id": "zJ_RAZhV-eqF"
      },
      "execution_count": null,
      "outputs": []
    },
    {
      "cell_type": "code",
      "source": [
        "# Sample run, the output will be a json file called \"json_response\"\n",
        "\n",
        "headers = create_headers(bearer_token)\n",
        "search_url = \"https://api.twitter.com/2/tweets/search/recent\"\n",
        "json_response = connect_to_endpoint(search_url, headers, query_params)\n",
        "print(json_response)"
      ],
      "metadata": {
        "id": "hKCwm4nI-kRF",
        "colab": {
          "base_uri": "https://localhost:8080/"
        },
        "outputId": "785a5f73-e4ad-4027-989e-e8a8655870f4"
      },
      "execution_count": null,
      "outputs": [
        {
          "output_type": "stream",
          "name": "stdout",
          "text": [
            "{'data': [{'author_id': '44196397', 'public_metrics': {'retweet_count': 14298, 'reply_count': 13595, 'like_count': 232771, 'quote_count': 2440, 'impression_count': 23186252}, 'created_at': '2023-01-21T17:41:22.000Z', 'id': '1616853475220156417', 'text': 'Ads are too frequent on Twitter and too big. Taking steps to address both in coming weeks.', 'conversation_id': '1616853475220156417', 'edit_history_tweet_ids': ['1616853475220156417']}, {'author_id': '44196397', 'public_metrics': {'retweet_count': 6373, 'reply_count': 5326, 'like_count': 71287, 'quote_count': 1860, 'impression_count': 9472798}, 'created_at': '2023-01-21T00:31:38.000Z', 'id': '1616594332907372544', 'text': 'Next Twitter update will remember whether you were on For You (ie recommended), Following or list you made &amp; stop switching you back to recommended tweets', 'conversation_id': '1616594332907372544', 'edit_history_tweet_ids': ['1616594332907372544']}, {'author_id': '44196397', 'public_metrics': {'retweet_count': 24616, 'reply_count': 18621, 'like_count': 280048, 'quote_count': 6314, 'impression_count': 28285020}, 'created_at': '2023-01-21T00:18:21.000Z', 'id': '1616590989145313283', 'text': 'In coming months, Twitter will translate &amp; recommend amazing tweets from people in other countries &amp; cultures', 'conversation_id': '1616590989145313283', 'edit_history_tweet_ids': ['1616590989145313283']}, {'author_id': '44196397', 'public_metrics': {'retweet_count': 2983, 'reply_count': 1956, 'like_count': 31709, 'quote_count': 242, 'impression_count': 7084091}, 'created_at': '2023-01-20T23:23:17.000Z', 'id': '1616577133945688065', 'text': 'Exactly! If companies post interesting or entertaining content, they will gain an audience rapidly. https://t.co/0leAmqueHM', 'conversation_id': '1616577133945688065', 'edit_history_tweet_ids': ['1616577133945688065']}, {'author_id': '44196397', 'public_metrics': {'retweet_count': 10953, 'reply_count': 7681, 'like_count': 128673, 'quote_count': 1484, 'impression_count': 16747745}, 'created_at': '2023-01-20T20:30:40.000Z', 'id': '1616533691156819968', 'text': 'Major Twitter improvement we just released is that you can now bookmark tweets from tweet details page.\\n\\nImportantly, bookmarks are *private*, unlike likes. No one other than you can see your bookmarks.', 'conversation_id': '1616533691156819968', 'edit_history_tweet_ids': ['1616533691156819968']}, {'author_id': '44196397', 'public_metrics': {'retweet_count': 10328, 'reply_count': 7884, 'like_count': 135046, 'quote_count': 1172, 'impression_count': 17275843}, 'created_at': '2023-01-20T20:20:17.000Z', 'id': '1616531077790826497', 'text': 'Twitter app update now available on App Store', 'conversation_id': '1616531077790826497', 'edit_history_tweet_ids': ['1616531077790826497']}, {'author_id': '44196397', 'public_metrics': {'retweet_count': 8163, 'reply_count': 8221, 'like_count': 55531, 'quote_count': 1373, 'impression_count': 8648126}, 'created_at': '2023-01-20T19:55:41.000Z', 'id': '1616524886201225217', 'text': 'Use pinned Lists to improve your Twitter experience!\\n\\n1. Tap Lists on your profile page.\\n2. Create list of accounts to follow.\\n3. Tap pin icon. \\n\\nThis allows you to swipe left/right between For You, Following and Lists.', 'conversation_id': '1616524886201225217', 'edit_history_tweet_ids': ['1616524886201225217']}, {'author_id': '44196397', 'public_metrics': {'retweet_count': 17280, 'reply_count': 14155, 'like_count': 164900, 'quote_count': 1857, 'impression_count': 12532263}, 'created_at': '2023-01-19T21:01:35.000Z', 'id': '1616179085507702785', 'text': 'Twitter is arguably already the least wrong source of truth on the Internet, but we obviously still have a long way to go.\\n\\nEnabling @CommunityNotes to operate at very large scale and providing maximum transparency about how Twitter works are fundamental to building trust.', 'conversation_id': '1616179085507702785', 'edit_history_tweet_ids': ['1616179085507702785']}, {'author_id': '44196397', 'public_metrics': {'retweet_count': 4858, 'reply_count': 3794, 'like_count': 43597, 'quote_count': 615, 'impression_count': 8579961}, 'created_at': '2023-01-19T20:39:50.000Z', 'id': '1616173610259083264', 'text': 'Coming soon are notifications if you’ve replied, liked or retweeted something subsequently corrected by community https://t.co/uBSjJxV7Ww', 'conversation_id': '1616173610259083264', 'edit_history_tweet_ids': ['1616173610259083264']}, {'author_id': '44196397', 'public_metrics': {'retweet_count': 4167, 'reply_count': 3084, 'like_count': 44851, 'quote_count': 209, 'impression_count': 9208877}, 'created_at': '2023-01-18T20:19:00.000Z', 'id': '1615805981723889665', 'text': 'Great work by Tesla Team! https://t.co/aTu71lNuCl', 'conversation_id': '1615805981723889665', 'edit_history_tweet_ids': ['1615805981723889665']}], 'meta': {'newest_id': '1616853475220156417', 'oldest_id': '1615805981723889665', 'result_count': 10, 'next_token': 'b26v89c19zqg8o3fqk41gjviwe8r4ipdn17ysk1qs5g8t'}}\n"
          ]
        }
      ]
    },
    {
      "cell_type": "code",
      "source": [
        "#turn the json response into a pandas dataframe\n",
        "df = pd.DataFrame(json_response['data'])\n",
        "print(df)"
      ],
      "metadata": {
        "id": "ImDx99Rn-o6k",
        "colab": {
          "base_uri": "https://localhost:8080/"
        },
        "outputId": "3c89dfb8-e0dd-40a0-fa70-0f55ecdc5038"
      },
      "execution_count": null,
      "outputs": [
        {
          "output_type": "stream",
          "name": "stdout",
          "text": [
            "  author_id                                     public_metrics  \\\n",
            "0  44196397  {'retweet_count': 14298, 'reply_count': 13595,...   \n",
            "1  44196397  {'retweet_count': 6373, 'reply_count': 5326, '...   \n",
            "2  44196397  {'retweet_count': 24616, 'reply_count': 18621,...   \n",
            "3  44196397  {'retweet_count': 2983, 'reply_count': 1956, '...   \n",
            "4  44196397  {'retweet_count': 10953, 'reply_count': 7681, ...   \n",
            "5  44196397  {'retweet_count': 10328, 'reply_count': 7884, ...   \n",
            "6  44196397  {'retweet_count': 8163, 'reply_count': 8221, '...   \n",
            "7  44196397  {'retweet_count': 17280, 'reply_count': 14155,...   \n",
            "8  44196397  {'retweet_count': 4858, 'reply_count': 3794, '...   \n",
            "9  44196397  {'retweet_count': 4167, 'reply_count': 3084, '...   \n",
            "\n",
            "                 created_at                   id  \\\n",
            "0  2023-01-21T17:41:22.000Z  1616853475220156417   \n",
            "1  2023-01-21T00:31:38.000Z  1616594332907372544   \n",
            "2  2023-01-21T00:18:21.000Z  1616590989145313283   \n",
            "3  2023-01-20T23:23:17.000Z  1616577133945688065   \n",
            "4  2023-01-20T20:30:40.000Z  1616533691156819968   \n",
            "5  2023-01-20T20:20:17.000Z  1616531077790826497   \n",
            "6  2023-01-20T19:55:41.000Z  1616524886201225217   \n",
            "7  2023-01-19T21:01:35.000Z  1616179085507702785   \n",
            "8  2023-01-19T20:39:50.000Z  1616173610259083264   \n",
            "9  2023-01-18T20:19:00.000Z  1615805981723889665   \n",
            "\n",
            "                                                text      conversation_id  \\\n",
            "0  Ads are too frequent on Twitter and too big. T...  1616853475220156417   \n",
            "1  Next Twitter update will remember whether you ...  1616594332907372544   \n",
            "2  In coming months, Twitter will translate &amp;...  1616590989145313283   \n",
            "3  Exactly! If companies post interesting or ente...  1616577133945688065   \n",
            "4  Major Twitter improvement we just released is ...  1616533691156819968   \n",
            "5      Twitter app update now available on App Store  1616531077790826497   \n",
            "6  Use pinned Lists to improve your Twitter exper...  1616524886201225217   \n",
            "7  Twitter is arguably already the least wrong so...  1616179085507702785   \n",
            "8  Coming soon are notifications if you’ve replie...  1616173610259083264   \n",
            "9  Great work by Tesla Team! https://t.co/aTu71lNuCl  1615805981723889665   \n",
            "\n",
            "  edit_history_tweet_ids  \n",
            "0  [1616853475220156417]  \n",
            "1  [1616594332907372544]  \n",
            "2  [1616590989145313283]  \n",
            "3  [1616577133945688065]  \n",
            "4  [1616533691156819968]  \n",
            "5  [1616531077790826497]  \n",
            "6  [1616524886201225217]  \n",
            "7  [1616179085507702785]  \n",
            "8  [1616173610259083264]  \n",
            "9  [1615805981723889665]  \n"
          ]
        }
      ]
    },
    {
      "cell_type": "markdown",
      "source": [
        "search by hashtag vs. user"
      ],
      "metadata": {
        "id": "RPZLpNjBHtai"
      }
    },
    {
      "cell_type": "code",
      "source": [
        "query_params = {'query': '#metoo lang:en -is:retweet -is:reply',\n",
        "                'tweet.fields': 'author_id,created_at,conversation_id,public_metrics',\n",
        "                 'max_results': 10}"
      ],
      "metadata": {
        "id": "MzHBL3zfHGrF"
      },
      "execution_count": null,
      "outputs": []
    },
    {
      "cell_type": "code",
      "source": [
        "\n",
        "headers = create_headers(bearer_token)\n",
        "search_url = \"https://api.twitter.com/2/tweets/search/recent\"\n",
        "json_response = connect_to_endpoint(search_url, headers, query_params)\n",
        "print(json_response)"
      ],
      "metadata": {
        "colab": {
          "base_uri": "https://localhost:8080/"
        },
        "id": "SvHjKYA5Hpj5",
        "outputId": "acb8c3ae-08ca-47d7-f3be-3a1dc0de2221"
      },
      "execution_count": null,
      "outputs": [
        {
          "output_type": "stream",
          "name": "stdout",
          "text": [
            "{'data': [{'author_id': '355270753', 'text': 'Hope you all can join me this coming weekend! #MeToo https://t.co/mOhXOkAiCk', 'edit_history_tweet_ids': ['1617323075904876545'], 'created_at': '2023-01-23T00:47:24.000Z', 'public_metrics': {'retweet_count': 0, 'reply_count': 0, 'like_count': 0, 'quote_count': 0, 'impression_count': 8}, 'id': '1617323075904876545', 'conversation_id': '1617323075904876545'}, {'author_id': '17372996', 'text': 'Hmmmm...whom to believe, whom to believe: Pamela Anderson or Tim Allen? #MeToo', 'edit_history_tweet_ids': ['1617322162007805953'], 'created_at': '2023-01-23T00:43:46.000Z', 'public_metrics': {'retweet_count': 0, 'reply_count': 0, 'like_count': 0, 'quote_count': 0, 'impression_count': 88}, 'id': '1617322162007805953', 'conversation_id': '1617322162007805953'}, {'author_id': '80589197', 'text': 'The latest The GTD AwesomeSauce! https://t.co/JnzPO0ffiT #metoo #tabletop', 'edit_history_tweet_ids': ['1617322037881569281'], 'created_at': '2023-01-23T00:43:16.000Z', 'public_metrics': {'retweet_count': 0, 'reply_count': 0, 'like_count': 0, 'quote_count': 0, 'impression_count': 1}, 'id': '1617322037881569281', 'conversation_id': '1617322037881569281'}, {'author_id': '1366832139363377153', 'text': \"Time's up for #MeToo\\n\\nhttps://t.co/3JkSvQEIDd\", 'edit_history_tweet_ids': ['1617321116862935041'], 'created_at': '2023-01-23T00:39:37.000Z', 'public_metrics': {'retweet_count': 0, 'reply_count': 0, 'like_count': 2, 'quote_count': 0, 'impression_count': 21}, 'id': '1617321116862935041', 'conversation_id': '1617321116862935041'}, {'author_id': '1278754099136098304', 'text': 'Don\\'t let the door hit you in the arse, Meathead.  Take your \"#ImWithHer\" ,\"#Metoo\" &amp; \"#BuildingBackBetter\" stickers with you and don\\'t forget, your play-PAL Epstein had \"help\" in the end.  🥾👅🤡🌎 https://t.co/5YZDWh4KlL', 'edit_history_tweet_ids': ['1617320737496530945'], 'created_at': '2023-01-23T00:38:06.000Z', 'public_metrics': {'retweet_count': 0, 'reply_count': 0, 'like_count': 0, 'quote_count': 0, 'impression_count': 2}, 'id': '1617320737496530945', 'conversation_id': '1617320737496530945'}, {'author_id': '13023332', 'text': \"Time's up for #MeToo – \\n\\n“Now, five years after its launch, Time’s Up is shutting down and shifting its remaining cash into an independently administered legal defense fund.” (Associated Press) https://t.co/jAK1CX7sjd\", 'edit_history_tweet_ids': ['1617320569006948352'], 'created_at': '2023-01-23T00:37:26.000Z', 'public_metrics': {'retweet_count': 0, 'reply_count': 0, 'like_count': 0, 'quote_count': 0, 'impression_count': 325}, 'id': '1617320569006948352', 'conversation_id': '1617320569006948352'}, {'author_id': '1257652474925719552', 'text': \"Where are the women's groups? \\nShouldn't the #MeToo be against mass illegal immigration. #BorderCrisis @JoeBiden https://t.co/Un9FZ0QmMR\", 'edit_history_tweet_ids': ['1617317937454665729'], 'created_at': '2023-01-23T00:26:59.000Z', 'public_metrics': {'retweet_count': 0, 'reply_count': 0, 'like_count': 0, 'quote_count': 0, 'impression_count': 18}, 'id': '1617317937454665729', 'conversation_id': '1617317937454665729'}, {'author_id': '97483991', 'text': 'Truth. #metoo https://t.co/PsqPaJHscR', 'edit_history_tweet_ids': ['1617317699914268673'], 'created_at': '2023-01-23T00:26:02.000Z', 'public_metrics': {'retweet_count': 0, 'reply_count': 0, 'like_count': 0, 'quote_count': 0, 'impression_count': 22}, 'id': '1617317699914268673', 'conversation_id': '1617317699914268673'}, {'author_id': '15783601', 'text': 'The latest The #metoo Daily! https://t.co/3xirA4zOKu Thanks to @mirabarhillel @hotairblog @TheJenosphere #metoo #maga', 'edit_history_tweet_ids': ['1617316150987161601'], 'created_at': '2023-01-23T00:19:53.000Z', 'public_metrics': {'retweet_count': 0, 'reply_count': 0, 'like_count': 0, 'quote_count': 0, 'impression_count': 3}, 'id': '1617316150987161601', 'conversation_id': '1617316150987161601'}, {'author_id': '1606752845633650689', 'text': \"#metoo About 50 % of time \\nI'm smoking as well \\nAnyway died suddenly my favourite way to get to the end. Osama bin Laden dialysed. Me 24 hours anuria summer 2021.\\nSo critical Bradycardia winter 20 21 I recollect with hope. https://t.co/fFAg9diioN\", 'edit_history_tweet_ids': ['1617315708760887296'], 'created_at': '2023-01-23T00:18:07.000Z', 'public_metrics': {'retweet_count': 0, 'reply_count': 0, 'like_count': 0, 'quote_count': 0, 'impression_count': 12}, 'id': '1617315708760887296', 'conversation_id': '1617315708760887296'}], 'meta': {'newest_id': '1617323075904876545', 'oldest_id': '1617315708760887296', 'result_count': 10, 'next_token': 'b26v89c19zqg8o3fqk42akg2s9dmpyr3st3y0g4wrye0t'}}\n"
          ]
        }
      ]
    },
    {
      "cell_type": "markdown",
      "source": [
        "learn more at the twitter api documentaiton:\n",
        "https://developer.twitter.com/en/docs/twitter-api"
      ],
      "metadata": {
        "id": "wiCYOLDPH8xC"
      }
    }
  ]
}